{
 "cells": [
  {
   "cell_type": "markdown",
   "metadata": {},
   "source": [
    "# Decorators and Object-Oriented Programming\n"
   ]
  },
  {
   "cell_type": "markdown",
   "metadata": {},
   "source": [
    "## The `@property` decorator\n",
    "\n",
    "In some languages, it is _strongly discouraged_ to make any data attributes public, as we do here with a `Duck` class:"
   ]
  },
  {
   "cell_type": "code",
   "execution_count": null,
   "metadata": {},
   "outputs": [],
   "source": [
    "class DuckV1:\n",
    "    def __init__(self, name):\n",
    "        self.name = name\n",
    "        \n",
    "d1 = DuckV1('Donald')\n",
    "d1.name"
   ]
  },
  {
   "cell_type": "markdown",
   "metadata": {},
   "source": [
    "Let's say we have some code that _uses_ the `Duck` class:"
   ]
  },
  {
   "cell_type": "code",
   "execution_count": null,
   "metadata": {},
   "outputs": [],
   "source": [
    "def talk_like_a(duck, message):\n",
    "    print(f'{duck.name} the Duck says \"{message}\"')\n",
    "    \n",
    "talk_like_a(d1, 'Hey there, Daisy!')"
   ]
  },
  {
   "cell_type": "markdown",
   "metadata": {},
   "source": [
    "Now let's imagine that we have allowed users to create their own `Duck`s, with the ability to update the duck's name. Unfortunately, our target audience is using \"inappropriate\" name, and, and we want to ensure that the duck names are \"appropriate,\" so we replace the public attribute with a \"getter\" and a \"setter\":"
   ]
  },
  {
   "cell_type": "code",
   "execution_count": null,
   "metadata": {},
   "outputs": [],
   "source": [
    "class DuckV2:\n",
    "    def __init__(self, name):\n",
    "        self._name = name\n",
    "        \n",
    "    def get_name(self):\n",
    "        return self._name\n",
    "    \n",
    "    def set_name(self, value):\n",
    "        if value.lower() in ('porky', 'ed', 'bugs'):\n",
    "            raise ValueError('Inappropriate name!')\n",
    "        self._name = value\n",
    "    \n",
    "        \n",
    "d2 = DuckV2('Donald')\n",
    "d2.get_name()"
   ]
  },
  {
   "cell_type": "code",
   "execution_count": null,
   "metadata": {},
   "outputs": [],
   "source": [
    "d2.set_name('Ed')"
   ]
  },
  {
   "cell_type": "markdown",
   "metadata": {},
   "source": [
    "The problem is that now, we've broken our `talk_like_a` function:"
   ]
  },
  {
   "cell_type": "code",
   "execution_count": null,
   "metadata": {},
   "outputs": [],
   "source": [
    "talk_like_a(d2, \"Hey there, Daisy!\")"
   ]
  },
  {
   "cell_type": "markdown",
   "metadata": {},
   "source": [
    "(and that's why some languages say to _start_ with getters and setters)\n",
    "\n",
    "Python, however, has a solution for this: the `property` function creates a special \"descriptor\" object that allows us to use getters and setters that are accessed _just like attributes_:"
   ]
  },
  {
   "cell_type": "code",
   "execution_count": null,
   "metadata": {},
   "outputs": [],
   "source": [
    "class DuckV3:\n",
    "    def __init__(self, name):\n",
    "        # self.name = name\n",
    "        # self.set_name(name)\n",
    "        self._name = name\n",
    "        \n",
    "    def get_name(self):\n",
    "        return self._name\n",
    "    \n",
    "    def set_name(self, value):\n",
    "        if value.lower() in ('porky', 'ed', 'bugs'):\n",
    "            raise ValueError('Inappropriate name!')\n",
    "        self._name = value\n",
    "        \n",
    "    name = property(get_name, set_name)\n",
    "    \n",
    "        \n",
    "d3 = DuckV3('Donald')\n",
    "d3.name"
   ]
  },
  {
   "cell_type": "code",
   "execution_count": null,
   "metadata": {},
   "outputs": [],
   "source": [
    "d3.name = 'Ed'"
   ]
  },
  {
   "cell_type": "markdown",
   "metadata": {},
   "source": [
    "... and it works with our function now:"
   ]
  },
  {
   "cell_type": "code",
   "execution_count": null,
   "metadata": {},
   "outputs": [],
   "source": [
    "talk_like_a(d3, \"Hey there, Daisy!\")"
   ]
  },
  {
   "cell_type": "markdown",
   "metadata": {},
   "source": [
    "### The decorator syntax\n",
    "\n",
    "The code above is *ok*, but could be improved:\n",
    "\n",
    "- We don't need access to the old `get_name` and `set_name` functions any more since we can use them via the `property`\n",
    "- The fact that the getter and setter are later wrapped up in a property is kind of obscured by being lower in the class definition.\n",
    "\n",
    "To rectify this, we can use the decorator syntax:\n",
    "\n",
    "If we type:\n",
    "\n",
    "```python\n",
    "@foo\n",
    "def my_function():\n",
    "    ...\n",
    "```\n",
    "\n",
    "then Python \"re-writes\" this as:\n",
    "\n",
    "```python\n",
    "def my_function():\n",
    "    ...\n",
    "my_function = foo(my_function)\n",
    "```"
   ]
  },
  {
   "cell_type": "code",
   "execution_count": null,
   "metadata": {},
   "outputs": [],
   "source": [
    "class DuckRO:\n",
    "    def __init__(self, name):\n",
    "        self._name = name\n",
    "        \n",
    "#     def name(self):\n",
    "#         return self._name\n",
    "#     name = property(name)\n",
    "    \n",
    "    @property\n",
    "    def name(self):\n",
    "        return self._name\n",
    "    \n",
    "        \n",
    "d3a = DuckRO('Donald')\n",
    "d3a.name"
   ]
  },
  {
   "cell_type": "code",
   "execution_count": null,
   "metadata": {},
   "outputs": [],
   "source": [
    "d3a.name = 'Hewey'"
   ]
  },
  {
   "cell_type": "markdown",
   "metadata": {},
   "source": [
    "### The @property decorator\n",
    "\n",
    "The `property` function can be used as a decorator, as well, with the following syntax:"
   ]
  },
  {
   "cell_type": "code",
   "execution_count": null,
   "metadata": {},
   "outputs": [],
   "source": [
    "class DuckV4(object):\n",
    "    def __init__(self, name):\n",
    "        self._name = name\n",
    "        \n",
    "    @property\n",
    "    def name(self):\n",
    "        '''getter for name attribute'''\n",
    "        return self._name\n",
    "    # name is a property object on this line\n",
    "    \n",
    "    @name.setter  # also name.deleter for `del duck.name`\n",
    "    def name(self, val):\n",
    "        '''setter for name attribute'''\n",
    "        if val.lower() in ('porky', 'ed', 'bugs'):\n",
    "            raise ValueError('Inappropriate name!')\n",
    "        self._name = val\n",
    "    \n",
    "#     name = name.setter(name)"
   ]
  },
  {
   "cell_type": "code",
   "execution_count": null,
   "metadata": {},
   "outputs": [],
   "source": [
    "class DuckV4(object):\n",
    "    def __init__(self, name):\n",
    "        self._name = name\n",
    "        \n",
    "    def name(self):\n",
    "        '''getter for name attribute'''\n",
    "        return self._name\n",
    "    # name is a function\n",
    "    name = property(name)\n",
    "    # name is a property\n",
    "    \n",
    "    _tmp_deco = name.setter   # evaluate name.setter and store it somewhere so it doesn't get overwritten by `def name`\n",
    "    def name(self, val):\n",
    "        '''setter for name attribute'''\n",
    "        if val.lower() in ('porky', 'ed', 'bugs'):\n",
    "            raise ValueError('Inappropriate name!')\n",
    "        self._name = val\n",
    "    # name is a function (again)\n",
    "    name = _tmp_deco(name)    # apply the decorator\n",
    "    # name is a property (again)\n",
    "    "
   ]
  },
  {
   "cell_type": "code",
   "execution_count": null,
   "metadata": {},
   "outputs": [],
   "source": [
    "d4 = DuckV4('Donald')\n",
    "d4.name"
   ]
  },
  {
   "cell_type": "code",
   "execution_count": null,
   "metadata": {},
   "outputs": [],
   "source": [
    "d4.name = 'Daffy'\n",
    "d4.name"
   ]
  },
  {
   "cell_type": "code",
   "execution_count": null,
   "metadata": {},
   "outputs": [],
   "source": [
    "d4.name = 'Bugs'"
   ]
  },
  {
   "cell_type": "code",
   "execution_count": null,
   "metadata": {},
   "outputs": [],
   "source": [
    "d4._name = 'Ed'"
   ]
  },
  {
   "cell_type": "code",
   "execution_count": null,
   "metadata": {},
   "outputs": [],
   "source": [
    "d4.name"
   ]
  },
  {
   "cell_type": "code",
   "execution_count": null,
   "metadata": {},
   "outputs": [],
   "source": [
    "d4.__dict__"
   ]
  },
  {
   "cell_type": "code",
   "execution_count": null,
   "metadata": {
    "scrolled": true
   },
   "outputs": [],
   "source": [
    "talk_like_a(d4, 'Hey there, Daisy!')"
   ]
  },
  {
   "cell_type": "markdown",
   "metadata": {},
   "source": [
    "How does this work with inheritance?"
   ]
  },
  {
   "cell_type": "code",
   "execution_count": null,
   "metadata": {},
   "outputs": [],
   "source": [
    "class Mallard(DuckV4):\n",
    "    @property\n",
    "    def name(self):\n",
    "        return super().name\n",
    "    \n",
    "    @name.setter\n",
    "    def name(self, value):\n",
    "        if value.lower().startswith('d'):\n",
    "            raise ValueError\n",
    "        super().name =  value  #? broken"
   ]
  },
  {
   "cell_type": "code",
   "execution_count": null,
   "metadata": {},
   "outputs": [],
   "source": [
    "d5 = Mallard('Hewey')\n",
    "d5.name"
   ]
  },
  {
   "cell_type": "code",
   "execution_count": null,
   "metadata": {},
   "outputs": [],
   "source": [
    "d5.name = 'Donald'"
   ]
  },
  {
   "cell_type": "code",
   "execution_count": null,
   "metadata": {},
   "outputs": [],
   "source": [
    "d5.name = 'Porky'"
   ]
  },
  {
   "cell_type": "code",
   "execution_count": null,
   "metadata": {},
   "outputs": [],
   "source": [
    "d5.name = 'Howard'"
   ]
  },
  {
   "cell_type": "markdown",
   "metadata": {},
   "source": [
    "Practically speaking, we can also use `@property` to create computed attributes:"
   ]
  },
  {
   "cell_type": "code",
   "execution_count": null,
   "metadata": {},
   "outputs": [],
   "source": [
    "class Rect:\n",
    "    \n",
    "    def __init__(self, w, h):\n",
    "        self.w, self.h = w, h\n",
    "        \n",
    "    @property\n",
    "    def area(self):\n",
    "        return self.w * self.h\n",
    "        \n",
    "r = Rect(3,4)"
   ]
  },
  {
   "cell_type": "code",
   "execution_count": null,
   "metadata": {},
   "outputs": [],
   "source": [
    "r.area"
   ]
  },
  {
   "cell_type": "code",
   "execution_count": null,
   "metadata": {},
   "outputs": [],
   "source": [
    "r.w = 4\n",
    "r.area"
   ]
  },
  {
   "cell_type": "code",
   "execution_count": null,
   "metadata": {},
   "outputs": [],
   "source": [
    "r.area = 5"
   ]
  },
  {
   "cell_type": "markdown",
   "metadata": {},
   "source": [
    "We can even enhance the above by *caching* our computed attribute"
   ]
  },
  {
   "cell_type": "code",
   "execution_count": null,
   "metadata": {},
   "outputs": [],
   "source": [
    "class Rect:\n",
    "    \n",
    "    def __init__(self, w, h):\n",
    "        self._w, self._h = w, h\n",
    "        self._area = None\n",
    "        \n",
    "    @property\n",
    "    def w(self):\n",
    "        return self._w\n",
    "    @w.setter\n",
    "    def w(self, value):\n",
    "        self._w = value\n",
    "        self._area = None\n",
    "        \n",
    "    @property\n",
    "    def h(self):\n",
    "        return self._h\n",
    "    @h.setter\n",
    "    def h(self, value):\n",
    "        self._h = value\n",
    "        self._area = None\n",
    "        \n",
    "    @property\n",
    "    def area(self):\n",
    "        print('get area')\n",
    "        if self._area is None:\n",
    "            self._area = self._calc_area()\n",
    "        return self._area\n",
    "        \n",
    "    def _calc_area(self):\n",
    "        print('calc area')\n",
    "        return self._w * self._h\n",
    "    \n",
    "r = Rect(3,4)\n"
   ]
  },
  {
   "cell_type": "code",
   "execution_count": null,
   "metadata": {},
   "outputs": [],
   "source": [
    "r.__dict__"
   ]
  },
  {
   "cell_type": "code",
   "execution_count": null,
   "metadata": {},
   "outputs": [],
   "source": [
    "r.area"
   ]
  },
  {
   "cell_type": "code",
   "execution_count": null,
   "metadata": {},
   "outputs": [],
   "source": [
    "r.__dict__"
   ]
  },
  {
   "cell_type": "code",
   "execution_count": null,
   "metadata": {},
   "outputs": [],
   "source": [
    "r.area"
   ]
  },
  {
   "cell_type": "code",
   "execution_count": null,
   "metadata": {},
   "outputs": [],
   "source": [
    "r.w = 4"
   ]
  },
  {
   "cell_type": "code",
   "execution_count": null,
   "metadata": {},
   "outputs": [],
   "source": [
    "r.__dict__"
   ]
  },
  {
   "cell_type": "code",
   "execution_count": null,
   "metadata": {
    "scrolled": true
   },
   "outputs": [],
   "source": [
    "r.area"
   ]
  },
  {
   "cell_type": "code",
   "execution_count": null,
   "metadata": {
    "scrolled": false
   },
   "outputs": [],
   "source": [
    "r.area = 5"
   ]
  },
  {
   "cell_type": "markdown",
   "metadata": {
    "collapsed": true,
    "slideshow": {
     "slide_type": "subslide"
    }
   },
   "source": [
    "## Class attributes vs. Instance attributes\n",
    "* attributes set outside `__init__` belong to the *class* (as opposed to the *instance*) and are shared by all instances of the class\n",
    "    * these attributes can be accessed via __`ClassName.var`__ and __`classInstance.var`__\n",
    "* attributes created inside `__init__` (and all other method functions) and prefaced with __`self.`__ belong to the object *instance* and cannot be accessed via __`ClassName.`__"
   ]
  },
  {
   "cell_type": "code",
   "execution_count": null,
   "metadata": {},
   "outputs": [],
   "source": [
    "class Person:\n",
    "    species = 'Human'\n",
    "    \n",
    "    def __init__(self, name):\n",
    "        self.name = name\n",
    "        print(\n",
    "            \"{}'s species is {}\".format(\n",
    "            self.name, self.species))"
   ]
  },
  {
   "cell_type": "code",
   "execution_count": null,
   "metadata": {},
   "outputs": [],
   "source": [
    "p1 = Person('Godzilla')"
   ]
  },
  {
   "cell_type": "code",
   "execution_count": null,
   "metadata": {},
   "outputs": [],
   "source": [
    "Person.species, p1.species, p1.name"
   ]
  },
  {
   "cell_type": "code",
   "execution_count": null,
   "metadata": {},
   "outputs": [],
   "source": [
    "Person.name"
   ]
  },
  {
   "cell_type": "markdown",
   "metadata": {},
   "source": [
    "http://www.pythontutor.com/"
   ]
  },
  {
   "cell_type": "code",
   "execution_count": null,
   "metadata": {},
   "outputs": [],
   "source": [
    "p2 = Person('Mothra')\n",
    "p2.name, p2.species"
   ]
  },
  {
   "cell_type": "code",
   "execution_count": null,
   "metadata": {},
   "outputs": [],
   "source": [
    "Person.species = 'animal'"
   ]
  },
  {
   "cell_type": "code",
   "execution_count": null,
   "metadata": {},
   "outputs": [],
   "source": [
    "p1.species, p2.species, Person.species"
   ]
  },
  {
   "cell_type": "code",
   "execution_count": null,
   "metadata": {},
   "outputs": [],
   "source": [
    "p1.species = 'monster'   # creates a new instance attribute, shadowing Person.species"
   ]
  },
  {
   "cell_type": "code",
   "execution_count": null,
   "metadata": {},
   "outputs": [],
   "source": [
    "Person.species, p1.species, p2.species"
   ]
  },
  {
   "cell_type": "markdown",
   "metadata": {},
   "source": [
    "# 90%+ of attributes on classes are methods\n",
    "# 95%+ of attributes on instances are data"
   ]
  },
  {
   "cell_type": "markdown",
   "metadata": {
    "collapsed": true,
    "slideshow": {
     "slide_type": "subslide"
    }
   },
   "source": [
    "# Static and Class Methods\n",
    "* static methods are methods that don't operate on an instance or the class of the object and therefore are shared by all instances of the object\n",
    "* class methods are methods that operate on the class itself, rather than instance of the class"
   ]
  },
  {
   "cell_type": "code",
   "execution_count": null,
   "metadata": {},
   "outputs": [],
   "source": [
    "class Duck:\n",
    "    family = 'Bird'\n",
    "    def __init__(self, name):\n",
    "        self._name = name\n",
    "        \n",
    "    @property\n",
    "    def name(self):\n",
    "        '''getter for name attribute'''\n",
    "        return self._name\n",
    "\n",
    "    @name.setter\n",
    "    def name(self, val):\n",
    "        '''setter for name attribute'''\n",
    "        self._name = val\n",
    "    \n",
    "    @staticmethod\n",
    "    def myprint(thing):\n",
    "        '''note that self is NOT the first param'''\n",
    "        msg = f'{Duck.family}: {thing}'\n",
    "        print('-' * len(msg))\n",
    "        print(msg)\n",
    "        print('-' * len(msg))"
   ]
  },
  {
   "cell_type": "code",
   "execution_count": null,
   "metadata": {},
   "outputs": [],
   "source": [
    "d = Duck('Donald')\n",
    "d.myprint('Some thing')"
   ]
  },
  {
   "cell_type": "code",
   "execution_count": null,
   "metadata": {},
   "outputs": [],
   "source": [
    "Duck.myprint('Some thing via the class')"
   ]
  },
  {
   "cell_type": "code",
   "execution_count": null,
   "metadata": {},
   "outputs": [],
   "source": [
    "class Duck:\n",
    "    family = 'Bird'\n",
    "    def __init__(self, name):\n",
    "        self._name = name\n",
    "        \n",
    "    @property\n",
    "    def name(self):\n",
    "        '''getter for name attribute'''\n",
    "        return self._name\n",
    "\n",
    "    @name.setter\n",
    "    def name(self, val):\n",
    "        '''setter for name attribute'''\n",
    "        self._name = val\n",
    "    \n",
    "    @staticmethod\n",
    "    def myprint(thing):\n",
    "        '''note that self is NOT the first param'''\n",
    "        msg = f'{Duck.family}: {thing}'\n",
    "        print('-' * len(msg))\n",
    "        print(msg)\n",
    "        print('-' * len(msg)) \n",
    "        \n",
    "    @classmethod\n",
    "    def myprint_cls(cls, thing):    # class_, klass\n",
    "        '''note that self is NOT the first param'''\n",
    "        msg = f'{cls.family}: {thing}'\n",
    "        print('-' * len(msg))\n",
    "        print(msg)\n",
    "        print('-' * len(msg))\n",
    "        \n",
    "    #myprint = staticmethod(myprint)"
   ]
  },
  {
   "cell_type": "code",
   "execution_count": null,
   "metadata": {},
   "outputs": [],
   "source": [
    "d = Duck('Donald')\n",
    "d.myprint_cls('Some thing')\n",
    "d.myprint('Some thing')"
   ]
  },
  {
   "cell_type": "code",
   "execution_count": null,
   "metadata": {},
   "outputs": [],
   "source": [
    "class Mallard(Duck): \n",
    "    family = 'Avia'\n"
   ]
  },
  {
   "cell_type": "code",
   "execution_count": null,
   "metadata": {},
   "outputs": [],
   "source": [
    "d = Mallard('Daffy')"
   ]
  },
  {
   "cell_type": "code",
   "execution_count": null,
   "metadata": {},
   "outputs": [],
   "source": [
    "d.myprint('Some thing')   # staticmethod"
   ]
  },
  {
   "cell_type": "code",
   "execution_count": null,
   "metadata": {},
   "outputs": [],
   "source": [
    "d.myprint_cls('Some thing')"
   ]
  },
  {
   "cell_type": "markdown",
   "metadata": {},
   "source": [
    "### class/static methods as \"virtual constructors\"\n",
    "\n",
    "Suppose we want to let users create Ducks with a randomly-selected name. \n",
    "\n",
    "We *could* do this with a @staticmethod as follows:"
   ]
  },
  {
   "cell_type": "code",
   "execution_count": null,
   "metadata": {},
   "outputs": [],
   "source": [
    "import random\n",
    "\n",
    "class Duck:\n",
    "    def __init__(self, name):\n",
    "        self._name = name\n",
    "        \n",
    "    @property\n",
    "    def name(self):\n",
    "        '''getter for name attribute'''\n",
    "        return self._name\n",
    "\n",
    "    @name.setter\n",
    "    def name(self, val):\n",
    "        '''setter for name attribute'''\n",
    "        self._name = val\n",
    "        \n",
    "    @staticmethod\n",
    "    def with_random_name(options):\n",
    "        name = random.choice(options)\n",
    "        result = Duck(name)\n",
    "        return result"
   ]
  },
  {
   "cell_type": "code",
   "execution_count": null,
   "metadata": {},
   "outputs": [],
   "source": [
    "d = Duck.with_random_name(['Daffy', 'Donald', 'Scrooge'])\n",
    "d.name"
   ]
  },
  {
   "cell_type": "markdown",
   "metadata": {},
   "source": [
    "This breaks down with our Mallard class, though..."
   ]
  },
  {
   "cell_type": "code",
   "execution_count": null,
   "metadata": {},
   "outputs": [],
   "source": [
    "class Mallard(Duck): pass"
   ]
  },
  {
   "cell_type": "code",
   "execution_count": null,
   "metadata": {},
   "outputs": [],
   "source": [
    "d = Mallard.with_random_name(['Daffy', 'Donald', 'Scrooge'])\n",
    "print(d.name, 'is a', type(d))"
   ]
  },
  {
   "cell_type": "markdown",
   "metadata": {},
   "source": [
    "We can fix this by making our method a @classmethod:"
   ]
  },
  {
   "cell_type": "code",
   "execution_count": null,
   "metadata": {},
   "outputs": [],
   "source": [
    "import random\n",
    "\n",
    "class Duck(object):\n",
    "    def __init__(self, name):\n",
    "        self._name = name\n",
    "        \n",
    "    @property\n",
    "    def name(self):\n",
    "        '''getter for name attribute'''\n",
    "        return self._name\n",
    "\n",
    "    @name.setter\n",
    "    def name(self, val):\n",
    "        '''setter for name attribute'''\n",
    "        self._name = val\n",
    "        \n",
    "    @classmethod\n",
    "    def with_random_name(cls, options):\n",
    "        name = random.choice(options)\n",
    "        result = cls(name)\n",
    "        return result"
   ]
  },
  {
   "cell_type": "code",
   "execution_count": null,
   "metadata": {},
   "outputs": [],
   "source": [
    "d = Duck.with_random_name(['Daffy', 'Donald', 'Scrooge'])\n",
    "d.name, type(d)"
   ]
  },
  {
   "cell_type": "code",
   "execution_count": null,
   "metadata": {},
   "outputs": [],
   "source": [
    "class Mallard(Duck): pass"
   ]
  },
  {
   "cell_type": "code",
   "execution_count": null,
   "metadata": {},
   "outputs": [],
   "source": [
    "d = Mallard.with_random_name(['Daffy', 'Donald', 'Scrooge'])\n",
    "print(d.name, 'is a', type(d))"
   ]
  },
  {
   "cell_type": "markdown",
   "metadata": {},
   "source": [
    "### class methods for accessing  class data\n",
    "\n",
    "Although we can always \"hard-code\" the class name when accessing class data attributes directly, it's less fragile to use a `@classmethod`:"
   ]
  },
  {
   "cell_type": "code",
   "execution_count": null,
   "metadata": {},
   "outputs": [],
   "source": [
    "import random\n",
    "\n",
    "class Duck:\n",
    "    # Key is the name of the duck, value is the Duck\n",
    "    _ducks = {}\n",
    "    \n",
    "    def __init__(self, name):\n",
    "        self._name = name\n",
    "        self._ducks[name] = self\n",
    "        # self._ducks.__setitem__(name, self)\n",
    "        \n",
    "    def __repr__(self):\n",
    "        return f'<{type(self).__name__}: {self._name}>'\n",
    "        \n",
    "    @property\n",
    "    def name(self):\n",
    "        '''getter for name attribute'''\n",
    "        return self._name\n",
    "\n",
    "    @name.setter\n",
    "    def name(self, val):\n",
    "        '''setter for name attribute'''\n",
    "        self._name = val\n",
    "        \n",
    "    @classmethod\n",
    "    def by_name(cls, name):\n",
    "        return cls._ducks[name]"
   ]
  },
  {
   "cell_type": "code",
   "execution_count": null,
   "metadata": {},
   "outputs": [],
   "source": [
    "Duck('Hewey')\n",
    "Duck('Dewey')\n",
    "Duck(\"Lewey\");"
   ]
  },
  {
   "cell_type": "code",
   "execution_count": null,
   "metadata": {},
   "outputs": [],
   "source": [
    "Duck.by_name('Hewey')"
   ]
  },
  {
   "cell_type": "code",
   "execution_count": null,
   "metadata": {},
   "outputs": [],
   "source": [
    "Duck.by_name('Dewey')"
   ]
  },
  {
   "cell_type": "markdown",
   "metadata": {},
   "source": [
    "Now if we have a `Mallard` class, we can choose to either maintain all the Mallards in the `Duck` registry or create their own registry:"
   ]
  },
  {
   "cell_type": "code",
   "execution_count": null,
   "metadata": {},
   "outputs": [],
   "source": [
    "class SharedRegistryMallard(Duck): pass\n",
    "\n",
    "class PrivateRegistryWoodDuck(Duck):\n",
    "    _ducks = {}  # Shadows the Duck._ducks class attribute"
   ]
  },
  {
   "cell_type": "code",
   "execution_count": null,
   "metadata": {},
   "outputs": [],
   "source": [
    "SharedRegistryMallard('Gus')\n",
    "SharedRegistryMallard('Kishore')\n",
    "PrivateRegistryWoodDuck('Horatio')\n",
    "PrivateRegistryWoodDuck('Max');"
   ]
  },
  {
   "cell_type": "code",
   "execution_count": null,
   "metadata": {},
   "outputs": [],
   "source": [
    "Duck._ducks"
   ]
  },
  {
   "cell_type": "code",
   "execution_count": null,
   "metadata": {},
   "outputs": [],
   "source": [
    "PrivateRegistryWoodDuck._ducks"
   ]
  },
  {
   "cell_type": "code",
   "execution_count": null,
   "metadata": {},
   "outputs": [],
   "source": [
    "Duck.by_name('Gus')"
   ]
  },
  {
   "cell_type": "code",
   "execution_count": null,
   "metadata": {},
   "outputs": [],
   "source": [
    "PrivateRegistryWoodDuck.by_name('Horatio')"
   ]
  },
  {
   "cell_type": "markdown",
   "metadata": {},
   "source": [
    "## Summary of instance, static, and class methods"
   ]
  },
  {
   "cell_type": "code",
   "execution_count": null,
   "metadata": {},
   "outputs": [],
   "source": [
    "class Foo:\n",
    "    def __init__(self, name):\n",
    "        self._name = name\n",
    "    \n",
    "    def __repr__(self):\n",
    "        return f'<{self._name}>'\n",
    "    \n",
    "    def method(*args):\n",
    "        print(f'method{args}')\n",
    "        \n",
    "    @staticmethod\n",
    "    def static(*args):\n",
    "        print(f'static{args}')\n",
    "        \n",
    "    @classmethod\n",
    "    def clsmethod(*args):\n",
    "        print(f'classmethod{args}')"
   ]
  },
  {
   "cell_type": "code",
   "execution_count": null,
   "metadata": {},
   "outputs": [],
   "source": [
    "bar = Foo('bar')"
   ]
  },
  {
   "cell_type": "code",
   "execution_count": null,
   "metadata": {},
   "outputs": [],
   "source": [
    "Foo.method(1, 2)  # e.g. str.startswith(s, 'Foo')"
   ]
  },
  {
   "cell_type": "code",
   "execution_count": null,
   "metadata": {},
   "outputs": [],
   "source": [
    "bar.method(1, 2)"
   ]
  },
  {
   "cell_type": "code",
   "execution_count": null,
   "metadata": {},
   "outputs": [],
   "source": [
    "Foo.static(1, 2)"
   ]
  },
  {
   "cell_type": "code",
   "execution_count": null,
   "metadata": {},
   "outputs": [],
   "source": [
    "bar.static(1, 2)"
   ]
  },
  {
   "cell_type": "code",
   "execution_count": null,
   "metadata": {},
   "outputs": [],
   "source": [
    "Foo.clsmethod(1, 2)"
   ]
  },
  {
   "cell_type": "code",
   "execution_count": null,
   "metadata": {
    "scrolled": true
   },
   "outputs": [],
   "source": [
    "bar.clsmethod(1, 2)"
   ]
  },
  {
   "cell_type": "markdown",
   "metadata": {},
   "source": [
    "# Lab\n",
    "\n",
    "Open the [OOP Decorators Lab][oop-decorators-lab]\n",
    "\n",
    "[oop-decorators-lab]: ./oop-decorators-lab.ipynb"
   ]
  }
 ],
 "metadata": {
  "kernelspec": {
   "display_name": "deep_discovery",
   "language": "python",
   "name": "python3"
  },
  "language_info": {
   "codemirror_mode": {
    "name": "ipython",
    "version": 3
   },
   "file_extension": ".py",
   "mimetype": "text/x-python",
   "name": "python",
   "nbconvert_exporter": "python",
   "pygments_lexer": "ipython3",
   "version": "3.8.10 | packaged by conda-forge | (default, May 11 2021, 06:39:48) \n[Clang 11.1.0 ]"
  },
  "vscode": {
   "interpreter": {
    "hash": "f5843dadf34720d1d49bd40b40c179895302ad51d2a706663a7036f5f983c84b"
   }
  }
 },
 "nbformat": 4,
 "nbformat_minor": 1
}
