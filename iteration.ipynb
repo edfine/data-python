{
 "cells": [
  {
   "cell_type": "markdown",
   "metadata": {},
   "source": [
    "# Generators and Iterators\n",
    "\n",
    "![Iterables and Iterators](./data/img/Iterable.png)"
   ]
  },
  {
   "cell_type": "code",
   "execution_count": null,
   "metadata": {},
   "outputs": [],
   "source": [
    "lst = [3,2,1]"
   ]
  },
  {
   "cell_type": "code",
   "execution_count": null,
   "metadata": {},
   "outputs": [],
   "source": [
    "lst_iter = iter(lst)\n",
    "lst_iter\n"
   ]
  },
  {
   "cell_type": "code",
   "execution_count": null,
   "metadata": {},
   "outputs": [],
   "source": [
    "iter(lst_iter)"
   ]
  },
  {
   "cell_type": "code",
   "execution_count": null,
   "metadata": {},
   "outputs": [],
   "source": [
    "next(lst_iter)"
   ]
  },
  {
   "cell_type": "code",
   "execution_count": null,
   "metadata": {},
   "outputs": [],
   "source": [
    "next(lst_iter)"
   ]
  },
  {
   "cell_type": "code",
   "execution_count": null,
   "metadata": {},
   "outputs": [],
   "source": [
    "lst_iter is iter(lst_iter)"
   ]
  },
  {
   "cell_type": "markdown",
   "metadata": {},
   "source": [
    "## Building your own iterators with `yield`"
   ]
  },
  {
   "cell_type": "code",
   "execution_count": null,
   "metadata": {},
   "outputs": [],
   "source": [
    "def counter(start, end):\n",
    "    print('Entering counter generator')\n",
    "    current = start\n",
    "    while current < end:\n",
    "        yield current\n",
    "        current += 1"
   ]
  },
  {
   "cell_type": "code",
   "execution_count": null,
   "metadata": {},
   "outputs": [],
   "source": [
    "counter(1, 10)"
   ]
  },
  {
   "cell_type": "code",
   "execution_count": null,
   "metadata": {},
   "outputs": [],
   "source": [
    "x = counter(1,10)\n",
    "next(x)"
   ]
  },
  {
   "cell_type": "code",
   "execution_count": null,
   "metadata": {},
   "outputs": [],
   "source": [
    "next(x)"
   ]
  },
  {
   "cell_type": "code",
   "execution_count": null,
   "metadata": {},
   "outputs": [],
   "source": [
    "next(x)"
   ]
  },
  {
   "cell_type": "code",
   "execution_count": null,
   "metadata": {},
   "outputs": [],
   "source": [
    "def gen_items(api):\n",
    "    for page_number in range(200):\n",
    "        resp = api.get_page(page_number)\n",
    "        for item in resp:\n",
    "            yield item"
   ]
  },
  {
   "cell_type": "markdown",
   "metadata": {},
   "source": [
    "Equivalent list code:"
   ]
  },
  {
   "cell_type": "code",
   "execution_count": null,
   "metadata": {},
   "outputs": [],
   "source": [
    "def counter_list(start, end):\n",
    "    print('Entering counter function')\n",
    "    result = []\n",
    "    current = start\n",
    "    while current < end:\n",
    "        #yield current\n",
    "        result.append(current)\n",
    "        current += 1\n",
    "    return result"
   ]
  },
  {
   "cell_type": "code",
   "execution_count": null,
   "metadata": {},
   "outputs": [],
   "source": [
    "counter_list(1, 10)"
   ]
  },
  {
   "cell_type": "code",
   "execution_count": null,
   "metadata": {},
   "outputs": [],
   "source": [
    "def counter(start, end):\n",
    "    print('Entering counter generator')\n",
    "    current = start\n",
    "    while current < end:\n",
    "        print('Generate the value', current)\n",
    "        yield current\n",
    "        current += 1"
   ]
  },
  {
   "cell_type": "code",
   "execution_count": null,
   "metadata": {},
   "outputs": [],
   "source": [
    "for x in counter(1, 10_000):\n",
    "    print('Use the value', x)\n",
    "    if x > 3:\n",
    "        break"
   ]
  },
  {
   "cell_type": "code",
   "execution_count": null,
   "metadata": {},
   "outputs": [],
   "source": [
    "def counter_list(start, end):\n",
    "    print('Entering counter function')\n",
    "    result = []\n",
    "    current = start\n",
    "    while current < end:\n",
    "        #yield current\n",
    "        print('Generate the value', current)\n",
    "        result.append(current)\n",
    "        current += 1\n",
    "    return result"
   ]
  },
  {
   "cell_type": "code",
   "execution_count": null,
   "metadata": {},
   "outputs": [],
   "source": [
    "for x in counter_list(1, 10):\n",
    "    print('Use the value', x)\n",
    "    if x > 3:\n",
    "        break"
   ]
  },
  {
   "cell_type": "markdown",
   "metadata": {},
   "source": [
    "(Back to the generator version)"
   ]
  },
  {
   "cell_type": "code",
   "execution_count": null,
   "metadata": {},
   "outputs": [],
   "source": [
    "def counter(start, end):\n",
    "    print('Entering counter generator')\n",
    "    current = start\n",
    "    while current < end:\n",
    "        yield current\n",
    "        current += 1"
   ]
  },
  {
   "cell_type": "code",
   "execution_count": null,
   "metadata": {},
   "outputs": [],
   "source": [
    "x = counter(1,10)\n",
    "list(x)"
   ]
  },
  {
   "cell_type": "code",
   "execution_count": null,
   "metadata": {},
   "outputs": [],
   "source": [
    "type(counter)"
   ]
  },
  {
   "cell_type": "code",
   "execution_count": null,
   "metadata": {},
   "outputs": [],
   "source": [
    "type(counter(1, 10))"
   ]
  },
  {
   "cell_type": "markdown",
   "metadata": {},
   "source": [
    "What happens if you call next on an iterator with no more values?"
   ]
  },
  {
   "cell_type": "code",
   "execution_count": null,
   "metadata": {},
   "outputs": [],
   "source": [
    "next(x)"
   ]
  },
  {
   "cell_type": "code",
   "execution_count": null,
   "metadata": {},
   "outputs": [],
   "source": [
    "for item in counter(1, 10):\n",
    "    print(item, end=' ')"
   ]
  },
  {
   "cell_type": "code",
   "execution_count": null,
   "metadata": {},
   "outputs": [],
   "source": [
    "def short_gen():\n",
    "    if False:\n",
    "        yield\n",
    "    return 'The return value'"
   ]
  },
  {
   "cell_type": "code",
   "execution_count": null,
   "metadata": {},
   "outputs": [],
   "source": [
    "g = short_gen()"
   ]
  },
  {
   "cell_type": "code",
   "execution_count": null,
   "metadata": {},
   "outputs": [],
   "source": [
    "g"
   ]
  },
  {
   "cell_type": "code",
   "execution_count": null,
   "metadata": {},
   "outputs": [],
   "source": [
    "next(g)"
   ]
  },
  {
   "cell_type": "markdown",
   "metadata": {},
   "source": [
    "```python\n",
    "def build_my_list():\n",
    "    lst = []\n",
    "    for something in something_else:\n",
    "        lst.append(something)\n",
    "    return lst\n",
    " \n",
    "def build_my_gen():\n",
    "    for something in something_else:\n",
    "        yield something\n",
    "```\n",
    "        \n",
    "`list(build_my_gen())`  is equivalent to  `build_my_list()`\n",
    "\n",
    "Generators only use enough memory to produce a single value at time\n",
    "\n",
    "Lists have all the values present in memory at once"
   ]
  },
  {
   "cell_type": "markdown",
   "metadata": {},
   "source": [
    "# Generators as coroutines"
   ]
  },
  {
   "cell_type": "markdown",
   "metadata": {},
   "source": [
    "`yield` can also be used as a expression, along with the `send()` method"
   ]
  },
  {
   "cell_type": "code",
   "execution_count": null,
   "metadata": {},
   "outputs": [],
   "source": [
    "def accumulator(start=0):\n",
    "    current = start\n",
    "    while True:\n",
    "        current += (s\n",
    "#         output(current)\n",
    "#         suspend the generator\n",
    "#         tmp = input()\n",
    "#         current += tmp"
   ]
  },
  {
   "cell_type": "code",
   "execution_count": null,
   "metadata": {},
   "outputs": [],
   "source": [
    "x = accumulator()\n",
    "x"
   ]
  },
  {
   "cell_type": "code",
   "execution_count": null,
   "metadata": {},
   "outputs": [],
   "source": [
    "next(x)  # equivalent to x.send(None)"
   ]
  },
  {
   "cell_type": "code",
   "execution_count": null,
   "metadata": {},
   "outputs": [],
   "source": [
    "x.send(1)"
   ]
  },
  {
   "cell_type": "code",
   "execution_count": null,
   "metadata": {},
   "outputs": [],
   "source": [
    "x.send(1)"
   ]
  },
  {
   "cell_type": "code",
   "execution_count": null,
   "metadata": {},
   "outputs": [],
   "source": [
    "x.send(10)"
   ]
  },
  {
   "cell_type": "markdown",
   "metadata": {},
   "source": [
    "Illustration of memory advantage of using iterators/generators"
   ]
  },
  {
   "cell_type": "code",
   "execution_count": null,
   "metadata": {},
   "outputs": [],
   "source": [
    "import sys\n",
    "max_mem_usage = 0\n",
    "\n",
    "for line in open('./data/hamlet.txt'):\n",
    "    max_mem_usage = max(\n",
    "        max_mem_usage,\n",
    "        sys.getsizeof(line)\n",
    "    )\n",
    "print(max_mem_usage)"
   ]
  },
  {
   "cell_type": "code",
   "execution_count": null,
   "metadata": {},
   "outputs": [],
   "source": [
    "!ls -lh ./data/hamlet.txt"
   ]
  },
  {
   "cell_type": "code",
   "execution_count": null,
   "metadata": {},
   "outputs": [],
   "source": [
    "hamlet_lines = open('./data/hamlet.txt').readlines()"
   ]
  },
  {
   "cell_type": "code",
   "execution_count": null,
   "metadata": {},
   "outputs": [],
   "source": [
    "total_mem_usage = sum([\n",
    "    sys.getsizeof(line) for line in hamlet_lines\n",
    "]) + sys.getsizeof(hamlet_lines)"
   ]
  },
  {
   "cell_type": "code",
   "execution_count": null,
   "metadata": {},
   "outputs": [],
   "source": [
    "total_mem_usage"
   ]
  },
  {
   "cell_type": "markdown",
   "metadata": {},
   "source": [
    "### Composition of generators"
   ]
  },
  {
   "cell_type": "code",
   "execution_count": null,
   "metadata": {},
   "outputs": [],
   "source": [
    "def gen1(prefix, n):\n",
    "    for i in range(n):\n",
    "        yield prefix, i\n",
    "        \n",
    "def gen2(a, b):\n",
    "# # this is _Very_ wrong\n",
    "#     gen1('a-prefix', a)\n",
    "#     gen1('b-prefix', b)\n",
    "\n",
    "# #     this is wrong, but better\n",
    "#     yield gen1('a-prefix', a)\n",
    "#     yield gen1('b-prefix', b)\n",
    "\n",
    "# #     This is right, but ugly\n",
    "#     for carrot in gen1('a-prefix', a):\n",
    "#         yield carrot\n",
    "#     for cabbage in gen1('b-prefix', b):\n",
    "#         yield cabbage\n",
    "    \n",
    "    # Preferred way to delegate to sub-generators (or sub-iterators)\n",
    "    yield from gen1('a-prefix', a)\n",
    "    yield from gen1('b-prefix', b)        \n",
    "    # yield from ['this', 'works', 'with', 'regular', 'iterables', 'as', 'well']\n",
    "    \n",
    "for item in gen2(5, 3):\n",
    "    print(item)"
   ]
  },
  {
   "cell_type": "markdown",
   "metadata": {},
   "source": [
    "You can `yield from` any iterable object"
   ]
  },
  {
   "cell_type": "code",
   "execution_count": null,
   "metadata": {},
   "outputs": [],
   "source": [
    "def mycat(filename1, filename2):\n",
    "    with open(filename1) as f1:\n",
    "        for line in f1:\n",
    "            yield line\n",
    "    with open(filename2) as f2:\n",
    "        yield from f2\n",
    "        "
   ]
  },
  {
   "cell_type": "code",
   "execution_count": null,
   "metadata": {},
   "outputs": [],
   "source": [
    "lines = list(mycat('./data/hamlet.txt', './data/poem.txt'))"
   ]
  },
  {
   "cell_type": "code",
   "execution_count": null,
   "metadata": {},
   "outputs": [],
   "source": [
    "lines[-2:]"
   ]
  },
  {
   "cell_type": "code",
   "execution_count": null,
   "metadata": {},
   "outputs": [],
   "source": [
    "lines[:5]"
   ]
  },
  {
   "cell_type": "markdown",
   "metadata": {},
   "source": [
    "What about return?"
   ]
  },
  {
   "cell_type": "code",
   "execution_count": null,
   "metadata": {},
   "outputs": [],
   "source": [
    "def producing_return_value():\n",
    "    yield 1\n",
    "    yield 2\n",
    "    return 'return value'"
   ]
  },
  {
   "cell_type": "code",
   "execution_count": null,
   "metadata": {},
   "outputs": [],
   "source": [
    "list(producing_return_value())"
   ]
  },
  {
   "cell_type": "code",
   "execution_count": null,
   "metadata": {},
   "outputs": [],
   "source": [
    "def using_return_value():\n",
    "    rv = yield from producing_return_value()\n",
    "    print(f'I got the return value {rv!r}')"
   ]
  },
  {
   "cell_type": "code",
   "execution_count": null,
   "metadata": {},
   "outputs": [],
   "source": [
    "for item in using_return_value():\n",
    "    print('produced item', item)"
   ]
  },
  {
   "cell_type": "code",
   "execution_count": null,
   "metadata": {},
   "outputs": [],
   "source": [
    "x = producing_return_value()\n",
    "next(x)\n",
    "next(x)\n",
    "try:\n",
    "    next(x)\n",
    "except StopIteration as si:\n",
    "    print(f'StopIteration.value = {si.value!r}')"
   ]
  },
  {
   "cell_type": "markdown",
   "metadata": {},
   "source": [
    "```python\n",
    "data = yield from socket.recv_async_data()\n",
    "\n",
    "data = await socket.recv_async_data()\n",
    "```"
   ]
  },
  {
   "cell_type": "markdown",
   "metadata": {},
   "source": [
    "## The iterator protocol\n",
    "\n",
    "What does `for x in sequence:` *really* do?"
   ]
  },
  {
   "cell_type": "code",
   "execution_count": null,
   "metadata": {},
   "outputs": [],
   "source": [
    "seq = range(4)\n",
    "for x in seq: \n",
    "    print(x)"
   ]
  },
  {
   "cell_type": "code",
   "execution_count": null,
   "metadata": {},
   "outputs": [],
   "source": [
    "seq"
   ]
  },
  {
   "cell_type": "code",
   "execution_count": null,
   "metadata": {},
   "outputs": [],
   "source": [
    "iter_seq = iter(seq)\n",
    "print(iter_seq)"
   ]
  },
  {
   "cell_type": "code",
   "execution_count": null,
   "metadata": {},
   "outputs": [],
   "source": [
    "iter_seq = iter(seq)         # __iter__\n",
    "while True:\n",
    "    try:\n",
    "        x = next(iter_seq)   # __next__\n",
    "    except StopIteration:\n",
    "        break\n",
    "    print(x)  # loop body"
   ]
  },
  {
   "cell_type": "code",
   "execution_count": null,
   "metadata": {},
   "outputs": [],
   "source": [
    "x = reversed([1,2,3])  # __reversed__ (?)\n",
    "x"
   ]
  },
  {
   "cell_type": "code",
   "execution_count": null,
   "metadata": {},
   "outputs": [],
   "source": [
    "x.__next__()   # this is what Python calls when you say next(x)"
   ]
  },
  {
   "cell_type": "code",
   "execution_count": null,
   "metadata": {},
   "outputs": [],
   "source": [
    "next(x)"
   ]
  },
  {
   "cell_type": "markdown",
   "metadata": {},
   "source": [
    "Generators are their own iterators (which are also iterable):"
   ]
  },
  {
   "cell_type": "code",
   "execution_count": null,
   "metadata": {},
   "outputs": [],
   "source": [
    "x = counter(0, 4)\n",
    "print(x)"
   ]
  },
  {
   "cell_type": "code",
   "execution_count": null,
   "metadata": {},
   "outputs": [],
   "source": [
    "print(iter(x))"
   ]
  },
  {
   "cell_type": "code",
   "execution_count": null,
   "metadata": {},
   "outputs": [],
   "source": [
    "x is iter(x)  #"
   ]
  },
  {
   "cell_type": "code",
   "execution_count": null,
   "metadata": {},
   "outputs": [],
   "source": [
    "def isiterator(x):\n",
    "    try:\n",
    "        return x is iter(x)\n",
    "    except:\n",
    "        return False"
   ]
  },
  {
   "cell_type": "code",
   "execution_count": null,
   "metadata": {},
   "outputs": [],
   "source": [
    "for item in counter(0, 4): \n",
    "    print(item)"
   ]
  },
  {
   "cell_type": "code",
   "execution_count": null,
   "metadata": {},
   "outputs": [],
   "source": [
    "x = counter(0, 4)\n",
    "while True:\n",
    "    next(x)"
   ]
  },
  {
   "cell_type": "markdown",
   "metadata": {},
   "source": [
    "We can also define our own iterator classes (though generators are usually more readable):"
   ]
  },
  {
   "cell_type": "code",
   "execution_count": null,
   "metadata": {},
   "outputs": [],
   "source": [
    "class Counter:\n",
    "    \"\"\"This is the 'iterable' object\"\"\"\n",
    "    def __init__(self, start, end):\n",
    "        self._start = start\n",
    "        self._end = end\n",
    "        \n",
    "    def __iter__(self):\n",
    "        return CounterIterator(self._start, self._end)\n",
    "    \n",
    "class CounterIterator:\n",
    "    \"\"\"This is the iterator\"\"\"\n",
    "    def __init__(self, start, end):\n",
    "        self._cur = start\n",
    "        self._end = end\n",
    "        \n",
    "    def __iter__(self):\n",
    "        return self\n",
    "    \n",
    "    def __next__(self):\n",
    "        if self._cur >= self._end:\n",
    "            raise StopIteration\n",
    "        result = self._cur\n",
    "        self._cur += 1\n",
    "        return result\n"
   ]
  },
  {
   "cell_type": "code",
   "execution_count": null,
   "metadata": {},
   "outputs": [],
   "source": [
    "ctr = Counter(0, 5)\n",
    "print(list(ctr))"
   ]
  },
  {
   "cell_type": "code",
   "execution_count": null,
   "metadata": {},
   "outputs": [],
   "source": [
    "class Counter:\n",
    "    \n",
    "    def __init__(self, start, end):\n",
    "        self._start = start\n",
    "        self._end = end\n",
    "\n",
    "    def __iter__(self):\n",
    "        \"\"\"iter(Counter(...)) returns a generator (which is also an iterator)\"\"\"\n",
    "        cur = self._start\n",
    "        while cur < self._end:\n",
    "            yield cur\n",
    "            cur += 1"
   ]
  },
  {
   "cell_type": "code",
   "execution_count": null,
   "metadata": {},
   "outputs": [],
   "source": [
    "ctr = Counter(0, 5)\n",
    "print(list(ctr))"
   ]
  },
  {
   "cell_type": "code",
   "execution_count": null,
   "metadata": {},
   "outputs": [],
   "source": [
    "class TreeNode:\n",
    "    def __init__(self, value, left=None, right=None):\n",
    "        self.value = value\n",
    "        self.left = left\n",
    "        self.right = right\n",
    "        \n",
    "    def __repr__(self):\n",
    "        return f'<TreeNode {self.value}>'\n",
    "    \n",
    "    def preOrder(self):\n",
    "        yield self\n",
    "        if self.left:\n",
    "            yield from self.left.preOrder()\n",
    "        if self.right:\n",
    "            yield from self.right.preOrder()\n",
    "\n",
    "    def inOrder(self):\n",
    "        if self.left:\n",
    "            yield from self.left.inOrder()\n",
    "        yield self\n",
    "        if self.right:\n",
    "            yield from self.right.inOrder()\n",
    "\n",
    "    def postOrder(self):\n",
    "        if self.left:\n",
    "            yield from self.left.postOrder()\n",
    "        if self.right:\n",
    "            yield from self.right.postOrder()\n",
    "        yield self   \n"
   ]
  },
  {
   "cell_type": "code",
   "execution_count": null,
   "metadata": {},
   "outputs": [],
   "source": [
    "tree = TreeNode('root', \n",
    "                TreeNode('left',\n",
    "                         TreeNode('left-1'),\n",
    "                        ), \n",
    "                TreeNode('right')\n",
    "               )\n",
    "print(list(tree.preOrder()))\n",
    "print(list(tree.inOrder()))\n",
    "print(list(tree.postOrder()))"
   ]
  },
  {
   "cell_type": "markdown",
   "metadata": {},
   "source": [
    "# List, set and dict comprehensions"
   ]
  },
  {
   "cell_type": "code",
   "execution_count": null,
   "metadata": {},
   "outputs": [],
   "source": [
    "[2*x for x in range(4)]"
   ]
  },
  {
   "cell_type": "code",
   "execution_count": null,
   "metadata": {},
   "outputs": [],
   "source": [
    "{2*x for x in range(4)}"
   ]
  },
  {
   "cell_type": "code",
   "execution_count": null,
   "metadata": {},
   "outputs": [],
   "source": [
    "{2*x:'y' for x in range(4)}"
   ]
  },
  {
   "cell_type": "markdown",
   "metadata": {},
   "source": [
    "## Generator expressions"
   ]
  },
  {
   "cell_type": "code",
   "execution_count": null,
   "metadata": {},
   "outputs": [],
   "source": [
    "(x for x in range(10) if x % 2 == 0)"
   ]
  },
  {
   "cell_type": "code",
   "execution_count": null,
   "metadata": {},
   "outputs": [],
   "source": [
    "gen = ( x \n",
    "       for x in range(10) \n",
    "       if x % 2 == 0 \n",
    "      )"
   ]
  },
  {
   "cell_type": "code",
   "execution_count": null,
   "metadata": {},
   "outputs": [],
   "source": [
    "next(gen)"
   ]
  },
  {
   "cell_type": "code",
   "execution_count": null,
   "metadata": {},
   "outputs": [],
   "source": [
    "next(gen)"
   ]
  },
  {
   "cell_type": "code",
   "execution_count": null,
   "metadata": {},
   "outputs": [],
   "source": [
    "list(gen)"
   ]
  },
  {
   "cell_type": "code",
   "execution_count": null,
   "metadata": {},
   "outputs": [],
   "source": [
    "'-'.join(str(x) for x in range(1, 20, 3))"
   ]
  },
  {
   "cell_type": "code",
   "execution_count": null,
   "metadata": {},
   "outputs": [],
   "source": [
    "gen = range(10)\n",
    "gen = ( x for x in gen if x % 2 == 0 )  # filter\n",
    "# gen = some_other_transformation(gen)\n",
    "gen = ( x * 2 for x in gen )            # map\n",
    "list(gen)"
   ]
  },
  {
   "cell_type": "code",
   "execution_count": null,
   "metadata": {},
   "outputs": [],
   "source": [
    "pow2 = [2 ** i for i in range(10)]\n",
    "pow2"
   ]
  },
  {
   "cell_type": "code",
   "execution_count": null,
   "metadata": {},
   "outputs": [],
   "source": [
    "pow2 = list(2 ** i for i in range(10))\n",
    "pow2"
   ]
  },
  {
   "cell_type": "code",
   "execution_count": null,
   "metadata": {},
   "outputs": [],
   "source": [
    "pow2 = tuple(2 ** i for i in range(10))\n",
    "pow2"
   ]
  },
  {
   "cell_type": "markdown",
   "metadata": {},
   "source": [
    "## Builtin iterator functions"
   ]
  },
  {
   "cell_type": "code",
   "execution_count": null,
   "metadata": {},
   "outputs": [],
   "source": [
    "lst = list('abcdefghijklmnopqrstuvwxyz')\n",
    "lst[:10]"
   ]
  },
  {
   "cell_type": "code",
   "execution_count": null,
   "metadata": {},
   "outputs": [],
   "source": [
    "for position, value in enumerate(lst[:10]):\n",
    "    print(position, value)"
   ]
  },
  {
   "cell_type": "code",
   "execution_count": null,
   "metadata": {},
   "outputs": [],
   "source": [
    "stooges = 'Larry Moe Curley'.split()\n",
    "stooges"
   ]
  },
  {
   "cell_type": "code",
   "execution_count": null,
   "metadata": {},
   "outputs": [],
   "source": [
    "for i in range(len(stooges)):\n",
    "    print(i, stooges[i])"
   ]
  },
  {
   "cell_type": "code",
   "execution_count": null,
   "metadata": {},
   "outputs": [],
   "source": [
    "for i, stooge in enumerate(stooges):\n",
    "    print(i, stooge)"
   ]
  },
  {
   "cell_type": "code",
   "execution_count": null,
   "metadata": {},
   "outputs": [],
   "source": [
    "lst1 = lst[5:]"
   ]
  },
  {
   "cell_type": "code",
   "execution_count": null,
   "metadata": {},
   "outputs": [],
   "source": [
    "for x, y in zip(lst, lst1):\n",
    "    print(x, y, end=' - ')"
   ]
  },
  {
   "cell_type": "code",
   "execution_count": null,
   "metadata": {},
   "outputs": [],
   "source": [
    "lst1 = lst[5:]\n",
    "for i, (x, y) in enumerate(zip(lst, lst1)):\n",
    "    print(i, x, y, end=' - ')"
   ]
  },
  {
   "cell_type": "code",
   "execution_count": null,
   "metadata": {},
   "outputs": [],
   "source": [
    "lst1 = lst[5:]\n",
    "for x, y, z in zip(lst, lst1, lst1):\n",
    "    print(x, y, z, end=' - ')"
   ]
  },
  {
   "cell_type": "markdown",
   "metadata": {},
   "source": [
    "## The `itertools` module\n",
    "\n",
    "`itertools` provides a number of \"higher-order iterators\" that allow you to combine iterators in interesting ways."
   ]
  },
  {
   "cell_type": "code",
   "execution_count": null,
   "metadata": {},
   "outputs": [],
   "source": [
    "import itertools\n",
    "itertools?"
   ]
  },
  {
   "cell_type": "code",
   "execution_count": null,
   "metadata": {},
   "outputs": [],
   "source": [
    "ranks = '2 3 4 5 6 7 8 9 10 J Q K A'.split()\n",
    "suits = 'diamonds hearts spades clubs'.split()"
   ]
  },
  {
   "cell_type": "code",
   "execution_count": null,
   "metadata": {},
   "outputs": [],
   "source": [
    "ranks"
   ]
  },
  {
   "cell_type": "code",
   "execution_count": null,
   "metadata": {
    "scrolled": true
   },
   "outputs": [],
   "source": [
    "list(itertools.product(suits, ranks))"
   ]
  },
  {
   "cell_type": "code",
   "execution_count": null,
   "metadata": {
    "scrolled": true
   },
   "outputs": [],
   "source": [
    "dimensions = [suits, ranks]\n",
    "list(itertools.product(*dimensions))"
   ]
  },
  {
   "cell_type": "code",
   "execution_count": null,
   "metadata": {},
   "outputs": [],
   "source": [
    "from itertools import chain, count, groupby"
   ]
  },
  {
   "cell_type": "code",
   "execution_count": null,
   "metadata": {},
   "outputs": [],
   "source": [
    "# chain links multiple iterators end-to-end\n",
    "xs = range(10)\n",
    "ys = 'abcdef'\n",
    "\n",
    "list(chain(xs, ys))"
   ]
  },
  {
   "cell_type": "code",
   "execution_count": null,
   "metadata": {},
   "outputs": [],
   "source": [
    "def mycat(filenames):\n",
    "    files = (open(fn) for fn in filenames)\n",
    "    return chain.from_iterable(files)\n"
   ]
  },
  {
   "cell_type": "code",
   "execution_count": null,
   "metadata": {},
   "outputs": [],
   "source": [
    "for line in mycat(['./data/hamlet.txt', './data/poem.txt']):\n",
    "    print(line, end='')"
   ]
  },
  {
   "cell_type": "code",
   "execution_count": null,
   "metadata": {},
   "outputs": [],
   "source": [
    "# The Python 3 built-in \"zip\" lets us iteratively zip multiple iterators. \n",
    "#  Useful when building a giant dictionary:\n",
    "import string\n",
    "dict(zip(string.ascii_lowercase, string.ascii_uppercase[:10]))"
   ]
  },
  {
   "cell_type": "code",
   "execution_count": null,
   "metadata": {},
   "outputs": [],
   "source": [
    "z = zip(string.ascii_lowercase, string.ascii_uppercase)\n",
    "next(z)"
   ]
  },
  {
   "cell_type": "code",
   "execution_count": null,
   "metadata": {},
   "outputs": [],
   "source": [
    "next(z)"
   ]
  },
  {
   "cell_type": "code",
   "execution_count": null,
   "metadata": {},
   "outputs": [],
   "source": [
    "from itertools import zip_longest"
   ]
  },
  {
   "cell_type": "code",
   "execution_count": null,
   "metadata": {
    "scrolled": true
   },
   "outputs": [],
   "source": [
    "dict(zip_longest(\n",
    "    string.ascii_lowercase, \n",
    "    string.ascii_uppercase[:10]\n",
    "))"
   ]
  },
  {
   "cell_type": "code",
   "execution_count": null,
   "metadata": {
    "scrolled": true
   },
   "outputs": [],
   "source": [
    "dict(zip_longest(\n",
    "    string.ascii_lowercase, \n",
    "    string.ascii_uppercase[:10],\n",
    "    fillvalue='---'\n",
    "))"
   ]
  },
  {
   "cell_type": "code",
   "execution_count": null,
   "metadata": {},
   "outputs": [],
   "source": [
    "# count() gives us a simple iterator of consecutive values\n",
    "\n",
    "for i, letter in zip(count(), string.ascii_letters[:10]):\n",
    "    print(i, letter)"
   ]
  },
  {
   "cell_type": "code",
   "execution_count": null,
   "metadata": {},
   "outputs": [],
   "source": [
    "for i, letter in enumerate(string.ascii_letters[:10]):\n",
    "    print(i, letter)"
   ]
  },
  {
   "cell_type": "markdown",
   "metadata": {},
   "source": [
    "`groupby()` allows us to efficiently group values from an iterator into sub-iterators. For instance, we might have \n",
    "some datetime-based data that we wish to convert to date-based data:"
   ]
  },
  {
   "cell_type": "code",
   "execution_count": null,
   "metadata": {
    "scrolled": true
   },
   "outputs": [],
   "source": [
    "from random import random\n",
    "from datetime import datetime, timedelta\n",
    "\n",
    "trades = []\n",
    "dt = datetime(2016, 4, 24)\n",
    "while dt < datetime(2016,4,27):\n",
    "    trades.append((dt, random()))\n",
    "    dt += timedelta(hours=1)\n",
    "    \n",
    "print(len(trades))"
   ]
  },
  {
   "cell_type": "code",
   "execution_count": null,
   "metadata": {},
   "outputs": [],
   "source": [
    "trades[:10]"
   ]
  },
  {
   "cell_type": "code",
   "execution_count": null,
   "metadata": {},
   "outputs": [],
   "source": [
    "def day_of_trade(item):\n",
    "    dt, value = item\n",
    "    return dt.date()"
   ]
  },
  {
   "cell_type": "code",
   "execution_count": null,
   "metadata": {},
   "outputs": [],
   "source": [
    "day_of_trade(trades[12])"
   ]
  },
  {
   "cell_type": "code",
   "execution_count": null,
   "metadata": {},
   "outputs": [],
   "source": [
    "for date, date_trades in groupby(trades, key=day_of_trade):\n",
    "    print(date, date_trades)"
   ]
  },
  {
   "cell_type": "code",
   "execution_count": null,
   "metadata": {},
   "outputs": [],
   "source": [
    "for date, date_trades in groupby(trades, key=day_of_trade):\n",
    "    print(date, len(list(date_trades)))"
   ]
  },
  {
   "cell_type": "code",
   "execution_count": null,
   "metadata": {},
   "outputs": [],
   "source": [
    "for date, date_trades in groupby(trades, key=day_of_trade):\n",
    "    date_trades = list(date_trades)\n",
    "    #print(date, sum(v for dt, v in date_trades) / len(date_trades))\n",
    "    print(date, sum(t[1] for t in date_trades) / len(date_trades))\n"
   ]
  },
  {
   "cell_type": "code",
   "execution_count": null,
   "metadata": {},
   "outputs": [],
   "source": [
    "!cat data/hamlet.txt | uniq | wc -l"
   ]
  },
  {
   "cell_type": "code",
   "execution_count": null,
   "metadata": {},
   "outputs": [],
   "source": [
    "!cat data/hamlet.txt | sort | uniq | wc -l"
   ]
  },
  {
   "cell_type": "code",
   "execution_count": null,
   "metadata": {
    "scrolled": true
   },
   "outputs": [],
   "source": [
    "import random\n",
    "random.shuffle(trades)\n",
    "\n",
    "for date, date_trades in groupby(trades, key=day_of_trade):\n",
    "    date_trades = list(date_trades)\n",
    "    print(date, len(date_trades), sum(v for dt, v in date_trades) / len(list(date_trades)))\n"
   ]
  },
  {
   "cell_type": "markdown",
   "metadata": {},
   "source": [
    "https://boltons.readthedocs.io/en/latest/iterutils.html"
   ]
  },
  {
   "cell_type": "markdown",
   "metadata": {},
   "source": [
    "### If you wish to group *unsorted* data, you should use a `defaultdict` instead."
   ]
  },
  {
   "cell_type": "code",
   "execution_count": null,
   "metadata": {},
   "outputs": [],
   "source": [
    "from collections import defaultdict\n",
    "\n",
    "date_trades = defaultdict(list)\n",
    "for dt, value in trades:\n",
    "    day = dt.date()\n",
    "    date_trades[day].append(value)"
   ]
  },
  {
   "cell_type": "code",
   "execution_count": null,
   "metadata": {},
   "outputs": [],
   "source": [
    "len(date_trades)"
   ]
  },
  {
   "cell_type": "code",
   "execution_count": null,
   "metadata": {},
   "outputs": [],
   "source": [
    "{day: len(values) for day, values in date_trades.items()}"
   ]
  },
  {
   "cell_type": "markdown",
   "metadata": {},
   "source": [
    "This is the one place where itertools can use *lots* of memory:"
   ]
  },
  {
   "cell_type": "code",
   "execution_count": null,
   "metadata": {},
   "outputs": [],
   "source": [
    "import itertools \n",
    "itertools.tee?"
   ]
  },
  {
   "cell_type": "code",
   "execution_count": null,
   "metadata": {
    "scrolled": true
   },
   "outputs": [],
   "source": [
    "with open('./data/hamlet.txt') as f:\n",
    "    (it1, it2) = itertools.tee(f)\n",
    "    for line in it2:\n",
    "        pass\n",
    "    print(next(it1), end='')    \n",
    "    print(next(it1), end='')    \n",
    "    print(next(it1), end='')"
   ]
  },
  {
   "cell_type": "code",
   "execution_count": null,
   "metadata": {},
   "outputs": [],
   "source": [
    "def uniq_line_count(filename):\n",
    "    count = 0\n",
    "    with open(filename) as f:\n",
    "        cur, prev = itertools.tee(f)\n",
    "        first_line = next(cur)\n",
    "        count = 1\n",
    "        for c, p in zip(cur, prev):\n",
    "            if c != p:\n",
    "                count += 1\n",
    "    return count\n",
    "                "
   ]
  },
  {
   "cell_type": "code",
   "execution_count": null,
   "metadata": {},
   "outputs": [],
   "source": [
    "uniq_line_count('./data/hamlet.txt')"
   ]
  },
  {
   "cell_type": "markdown",
   "metadata": {},
   "source": [
    "# Lab\n",
    "\n",
    "Open [Generators and Iterators Lab][iteration-lab]\n",
    "\n",
    "[iteration-lab]: ./iteration-lab.ipynb"
   ]
  },
  {
   "cell_type": "code",
   "execution_count": null,
   "metadata": {},
   "outputs": [],
   "source": []
  }
 ],
 "metadata": {
  "kernelspec": {
   "display_name": "deep_discovery",
   "language": "python",
   "name": "python3"
  },
  "language_info": {
   "codemirror_mode": {
    "name": "ipython",
    "version": 3
   },
   "file_extension": ".py",
   "mimetype": "text/x-python",
   "name": "python",
   "nbconvert_exporter": "python",
   "pygments_lexer": "ipython3",
   "version": "3.8.10 | packaged by conda-forge | (default, May 11 2021, 06:39:48) \n[Clang 11.1.0 ]"
  },
  "vscode": {
   "interpreter": {
    "hash": "f5843dadf34720d1d49bd40b40c179895302ad51d2a706663a7036f5f983c84b"
   }
  }
 },
 "nbformat": 4,
 "nbformat_minor": 4
}
