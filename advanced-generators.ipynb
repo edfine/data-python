{
 "cells": [
  {
   "cell_type": "markdown",
   "metadata": {},
   "source": [
    "# Generators and Coroutines"
   ]
  },
  {
   "cell_type": "markdown",
   "metadata": {},
   "source": [
    "## Processing Pipelines"
   ]
  },
  {
   "cell_type": "code",
   "execution_count": null,
   "metadata": {},
   "outputs": [],
   "source": [
    "def gen_lines(filename):\n",
    "    \"\"\"This is a 'source', so it does not take a generator as input.\"\"\"\n",
    "    with open(filename) as fp:\n",
    "        for line in fp:\n",
    "            yield line\n",
    "            "
   ]
  },
  {
   "cell_type": "code",
   "execution_count": null,
   "metadata": {},
   "outputs": [],
   "source": [
    "def gstrip(gen):\n",
    "    for line in gen:\n",
    "        yield line.strip()"
   ]
  },
  {
   "cell_type": "code",
   "execution_count": null,
   "metadata": {},
   "outputs": [],
   "source": [
    "def gdecomment(gen):\n",
    "    for line in gen:\n",
    "        if line.startswith('#'):\n",
    "            continue\n",
    "        if not line:\n",
    "            continue\n",
    "        yield line"
   ]
  },
  {
   "cell_type": "code",
   "execution_count": null,
   "metadata": {},
   "outputs": [],
   "source": [
    "def gsplit(gen):\n",
    "    for line in gen:\n",
    "        yield line.split()"
   ]
  },
  {
   "cell_type": "code",
   "execution_count": null,
   "metadata": {},
   "outputs": [],
   "source": [
    "def remove_bom(gen):\n",
    "    for line in gen:\n",
    "        if line == '\\ufeff':\n",
    "            continue\n",
    "        else:\n",
    "            yield line"
   ]
  },
  {
   "cell_type": "code",
   "execution_count": null,
   "metadata": {
    "scrolled": true
   },
   "outputs": [],
   "source": [
    "x = gen_lines('/etc/hosts')\n",
    "x = gstrip(x)\n",
    "x = gdecomment(x)\n",
    "x = remove_bom(x)   # for wsl2...\n",
    "x = gsplit(x)\n",
    "for words in x:\n",
    "    print(words)"
   ]
  },
  {
   "cell_type": "code",
   "execution_count": null,
   "metadata": {},
   "outputs": [],
   "source": [
    "!cat /etc/hosts"
   ]
  },
  {
   "cell_type": "code",
   "execution_count": null,
   "metadata": {},
   "outputs": [],
   "source": [
    "x = open('/etc/hosts')\n",
    "x = (line.strip() for line in x)   # strip\n",
    "x = (line for line in x if not line.startswith('#'))  # decomment\n",
    "x = (line for line in x if line)  # remove empty lines\n",
    "x = (line for line in x if line != '\\ufeff')  # remove BOM\n",
    "x = (line.split() for line in x)  # split into words\n",
    "for words in x:\n",
    "    print(words)"
   ]
  },
  {
   "cell_type": "markdown",
   "metadata": {},
   "source": [
    "## CSV example"
   ]
  },
  {
   "cell_type": "code",
   "execution_count": null,
   "metadata": {},
   "outputs": [],
   "source": [
    "!head data/closing-prices.csv"
   ]
  },
  {
   "cell_type": "code",
   "execution_count": null,
   "metadata": {},
   "outputs": [],
   "source": [
    "import csv\n",
    "from datetime import datetime"
   ]
  },
  {
   "cell_type": "code",
   "execution_count": null,
   "metadata": {},
   "outputs": [],
   "source": [
    "import itertools\n",
    "\n",
    "def month(tup):\n",
    "    \"\"\"tup is (date, price)\n",
    "    \n",
    "    where date is a string that looks like '2020-09-23'\n",
    "    \"\"\"\n",
    "    date, price = tup\n",
    "    dt = datetime.strptime(date, '%Y-%m-%d')\n",
    "    return (dt.year, dt.month)\n",
    "\n",
    "def get_prices_for(it, ticker):\n",
    "    \"\"\"it is an iterator of dictionaries \"d\"\n",
    "    \n",
    "    where d[''] is the date on which trades occurred\n",
    "    and d['TSLA'] contains the closing price for that date\n",
    "    \"\"\"\n",
    "    for d in it:\n",
    "        date_str = d['']\n",
    "        closing_price = float(d[ticker])\n",
    "        yield (date_str, closing_price)"
   ]
  },
  {
   "cell_type": "code",
   "execution_count": null,
   "metadata": {},
   "outputs": [],
   "source": [
    "lines = gen_lines('./data/closing-prices.csv')\n",
    "dicts = csv.DictReader(lines)"
   ]
  },
  {
   "cell_type": "code",
   "execution_count": null,
   "metadata": {},
   "outputs": [],
   "source": [
    "tesla_prices = get_prices_for(dicts, 'TSLA')"
   ]
  },
  {
   "cell_type": "code",
   "execution_count": null,
   "metadata": {
    "scrolled": true
   },
   "outputs": [],
   "source": [
    "for month, sub_iter in itertools.groupby(tesla_prices, month):\n",
    "    prices = [price for (dt, price) in sub_iter]\n",
    "    o = prices[0]\n",
    "    h = max(prices)\n",
    "    l = min(prices)\n",
    "    c = prices[-1]\n",
    "    print(month, (o, h, l, c))"
   ]
  },
  {
   "cell_type": "markdown",
   "metadata": {},
   "source": [
    "## Coroutines"
   ]
  },
  {
   "cell_type": "code",
   "execution_count": null,
   "metadata": {},
   "outputs": [],
   "source": [
    "def simple_coro(name):\n",
    "    print('Entering coro', name)\n",
    "    while True:\n",
    "        value = yield\n",
    "        print('coro {} got {}'.format(name, value))"
   ]
  },
  {
   "cell_type": "code",
   "execution_count": null,
   "metadata": {},
   "outputs": [],
   "source": [
    "sc0 = simple_coro('sc0')\n",
    "sc1 = simple_coro('sc1')"
   ]
  },
  {
   "cell_type": "code",
   "execution_count": null,
   "metadata": {},
   "outputs": [],
   "source": [
    "next(sc0)\n",
    "next(sc1)"
   ]
  },
  {
   "cell_type": "code",
   "execution_count": null,
   "metadata": {},
   "outputs": [],
   "source": [
    "sc0.send('foo')"
   ]
  },
  {
   "cell_type": "code",
   "execution_count": null,
   "metadata": {},
   "outputs": [],
   "source": [
    "sc1.send('bar')"
   ]
  },
  {
   "cell_type": "code",
   "execution_count": null,
   "metadata": {},
   "outputs": [],
   "source": [
    "sc1.send('bat')"
   ]
  },
  {
   "cell_type": "markdown",
   "metadata": {},
   "source": [
    "# Event streams & discrete event simulation"
   ]
  },
  {
   "cell_type": "code",
   "execution_count": null,
   "metadata": {},
   "outputs": [],
   "source": [
    "def every_xs(x):\n",
    "    for i in range(5):\n",
    "        name = yield x   # \"wait for 'x' ticks\"\n",
    "        print('{}: every_xs({}, {})'.format(name, x, i))\n"
   ]
  },
  {
   "cell_type": "code",
   "execution_count": null,
   "metadata": {},
   "outputs": [],
   "source": [
    "every_1s = every_xs(1)\n",
    "every_2s = every_xs(2)\n",
    "every_3s = every_xs(3)"
   ]
  },
  {
   "cell_type": "code",
   "execution_count": null,
   "metadata": {},
   "outputs": [],
   "source": [
    "import heapq\n",
    "\n",
    "def ev_loop(coros):\n",
    "    now = 0\n",
    "    events = []\n",
    "    \n",
    "    # Initialize coroutines\n",
    "    for name, coro in coros.items():\n",
    "        offset = next(coro)\n",
    "        heapq.heappush(events, (offset + now, name, coro))\n",
    "        \n",
    "    while events:\n",
    "        new_now, name, coro = heapq.heappop(events)\n",
    "        if new_now != now:\n",
    "            print('=== {} ==='.format(new_now))\n",
    "            now = new_now\n",
    "        try:\n",
    "            offset = coro.send(name)\n",
    "            sched = offset + now\n",
    "            # print '{}: scheduled next event for {}'.format(name, offset+now)\n",
    "            heapq.heappush(events, (sched, name, coro))\n",
    "        except StopIteration:\n",
    "            print(name, 'is done!')\n",
    "            \n",
    "    print('No more events!')\n",
    "        "
   ]
  },
  {
   "cell_type": "code",
   "execution_count": null,
   "metadata": {},
   "outputs": [],
   "source": [
    "ev_loop({'1s': every_1s, '2s': every_2s, '3s': every_3s})"
   ]
  },
  {
   "cell_type": "code",
   "execution_count": null,
   "metadata": {},
   "outputs": [],
   "source": [
    "def every_xs(sim, x):\n",
    "    while True:\n",
    "        print('Yielding from every_xs({})'.format(x))\n",
    "        yield sim.delay(x)\n"
   ]
  },
  {
   "cell_type": "code",
   "execution_count": null,
   "metadata": {},
   "outputs": [],
   "source": [
    "class Event:\n",
    "    \n",
    "    def __init__(self, when, coro, value=None):\n",
    "        self.when = when\n",
    "        self.coro = coro\n",
    "        self.value = value\n",
    "        \n",
    "    def __lt__(self, other):\n",
    "        \"Implements self < other\"\n",
    "        return self.when < other.when\n",
    "\n",
    "class Simulator:\n",
    "\n",
    "    def __init__(self):\n",
    "        self.now = 0\n",
    "        self.events = []\n",
    "        self.current = None\n",
    "\n",
    "    def run(self, coro):\n",
    "        try:\n",
    "            self.current = coro\n",
    "            ev = next(coro)\n",
    "            heapq.heappush(self.events, ev)\n",
    "        except StopIteration:\n",
    "            pass\n",
    "        \n",
    "    def simulate(self, max_time=10):\n",
    "        while self.events and self.now <= max_time:\n",
    "            ev = heapq.heappop(self.events)\n",
    "            if ev.when != self.now:\n",
    "                print(f'=== {ev.when} ===')\n",
    "            self.now, self.current = ev.when, ev.coro\n",
    "            try:\n",
    "                ev = self.current.send(ev.value)\n",
    "                heapq.heappush(self.events, ev)\n",
    "            except StopIteration:\n",
    "                pass\n",
    "        print('Simulation terminated at', self.now)\n",
    "\n",
    "    def delay(self, seconds):\n",
    "        return Event(self.now + seconds, self.current, 'delay expired!')\n",
    "        "
   ]
  },
  {
   "cell_type": "code",
   "execution_count": null,
   "metadata": {},
   "outputs": [],
   "source": [
    "sim = Simulator()\n",
    "sim.run(every_xs(sim, 1))\n",
    "sim.run(every_xs(sim, 2))\n",
    "sim.run(every_xs(sim, 3))"
   ]
  },
  {
   "cell_type": "code",
   "execution_count": null,
   "metadata": {},
   "outputs": [],
   "source": [
    "sim.simulate()"
   ]
  },
  {
   "cell_type": "markdown",
   "metadata": {},
   "source": [
    "### Event streams use case: Asynchronous I/O\n",
    "\n",
    "Asynchronous I/O can use event streams and coroutines to provide 'thread-like' syntax.\n",
    "\n",
    "1. A top-level event loop is created to handle events\n",
    "1. Each coroutine runs until it yields an object to 'wait' on -- call it an 'awaitable'. (This could be a socket that we are receiving data from.) The 'yield' goes to the event loop.\n",
    "1. The event loop generally has a `select` or `poll` statement that checks for available data on all its awaitable objects.\n",
    "1. When the 'awaitable' has data, that data is \"sent\" into the coroutine, which picks up *as though it had blocked waiting on data*\n"
   ]
  },
  {
   "cell_type": "markdown",
   "metadata": {},
   "source": [
    "```python\n",
    "# your code does this\n",
    "data = yield from socket.async_recv(100)\n",
    "\n",
    "# socket.async_recv does this\n",
    "value_to_be_result_of_yield_from = yield wait_for_socket_to_have_data\n",
    "\n",
    "# the event loop eventually does this\n",
    "coro.send(data_from_socket)\n",
    "\n",
    "# socket.async_recv eventually does this:\n",
    "raise StopIteration(data_from_socket)\n",
    "# alternatively\n",
    "return data_from_socket\n",
    "```"
   ]
  },
  {
   "cell_type": "markdown",
   "metadata": {},
   "source": [
    "Open [Advanced Generators Lab](./advanced-generators-lab.ipynb)"
   ]
  }
 ],
 "metadata": {
  "kernelspec": {
   "display_name": "deep_discovery",
   "language": "python",
   "name": "python3"
  },
  "language_info": {
   "codemirror_mode": {
    "name": "ipython",
    "version": 3
   },
   "file_extension": ".py",
   "mimetype": "text/x-python",
   "name": "python",
   "nbconvert_exporter": "python",
   "pygments_lexer": "ipython3",
   "version": "3.8.10 | packaged by conda-forge | (default, May 11 2021, 06:39:48) \n[Clang 11.1.0 ]"
  },
  "vscode": {
   "interpreter": {
    "hash": "f5843dadf34720d1d49bd40b40c179895302ad51d2a706663a7036f5f983c84b"
   }
  }
 },
 "nbformat": 4,
 "nbformat_minor": 1
}
