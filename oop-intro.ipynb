{
 "cells": [
  {
   "cell_type": "markdown",
   "metadata": {},
   "source": [
    "# Introduction to Object-Oriented Programming\n",
    "\n",
    "Up until now, we've been doing things inline in our notebooks or creating functions that we call later.\n",
    "\n",
    "Object-Oriented Programming is a style of programming that lets us encapsulate functions together with the data they operate on. "
   ]
  },
  {
   "cell_type": "code",
   "execution_count": null,
   "metadata": {},
   "outputs": [],
   "source": [
    "s = 'Prince'"
   ]
  },
  {
   "cell_type": "code",
   "execution_count": null,
   "metadata": {},
   "outputs": [],
   "source": [
    "type(s)"
   ]
  },
  {
   "cell_type": "code",
   "execution_count": null,
   "metadata": {},
   "outputs": [],
   "source": [
    "s.startswith('Pri')"
   ]
  },
  {
   "cell_type": "code",
   "execution_count": null,
   "metadata": {},
   "outputs": [],
   "source": [
    "str.startswith(s, 'Pri')"
   ]
  },
  {
   "cell_type": "code",
   "execution_count": null,
   "metadata": {},
   "outputs": [],
   "source": [
    "x = 5.5\n",
    "x.as_integer_ratio()"
   ]
  },
  {
   "cell_type": "markdown",
   "metadata": {},
   "source": [
    "To create our new encapsulated objects, we use Python's `class` statement to create a custom, user-defined `type`. In this case, we're going to create a directory that maps hostnames to IP addresses."
   ]
  },
  {
   "cell_type": "code",
   "execution_count": null,
   "metadata": {},
   "outputs": [],
   "source": [
    "class Directory:\n",
    "    \"\"\"Keep a mapping of hosts to addresses.\"\"\"\n",
    "    \n",
    "    def __init__(self):  # \"dunder init\"\n",
    "        \"Set up the instance for use\"\n",
    "        self.hosts = {}\n",
    "        \n",
    "    def add_mapping(self, name, address):\n",
    "        if name not in self.hosts:\n",
    "            self.hosts[name] = set()\n",
    "        self.hosts[name].add(address)\n",
    "        \n",
    "    def remove_mapping(self, name, address):\n",
    "        if name in self.hosts:\n",
    "            self.hosts[name].discard(address)\n",
    "            \n",
    "    def resolve(self, name):\n",
    "        if name in self.hosts:\n",
    "            return self.hosts[name]\n",
    "        else:\n",
    "            return 'NXDOMAIN'"
   ]
  },
  {
   "cell_type": "code",
   "execution_count": null,
   "metadata": {},
   "outputs": [],
   "source": [
    "Directory"
   ]
  },
  {
   "cell_type": "code",
   "execution_count": null,
   "metadata": {},
   "outputs": [],
   "source": [
    "type(Directory)"
   ]
  },
  {
   "cell_type": "markdown",
   "metadata": {},
   "source": [
    "## Using a class\n",
    "\n",
    "To use the class, we must first create an **instance** of the class. We do this by \"calling\" the class as if it were a function:"
   ]
  },
  {
   "cell_type": "code",
   "execution_count": null,
   "metadata": {},
   "outputs": [],
   "source": [
    "str()"
   ]
  },
  {
   "cell_type": "code",
   "execution_count": null,
   "metadata": {},
   "outputs": [],
   "source": [
    "list()"
   ]
  },
  {
   "cell_type": "code",
   "execution_count": null,
   "metadata": {},
   "outputs": [],
   "source": [
    "dict()"
   ]
  },
  {
   "cell_type": "code",
   "execution_count": null,
   "metadata": {},
   "outputs": [],
   "source": [
    "d0 = Directory()   # automatically calls __init__\n",
    "\n",
    "d0"
   ]
  },
  {
   "cell_type": "code",
   "execution_count": null,
   "metadata": {},
   "outputs": [],
   "source": [
    "d0.hosts"
   ]
  },
  {
   "cell_type": "code",
   "execution_count": null,
   "metadata": {},
   "outputs": [],
   "source": [
    "type(d0)"
   ]
  },
  {
   "cell_type": "code",
   "execution_count": null,
   "metadata": {},
   "outputs": [],
   "source": [
    "d0.add_mapping('swim', '192.168.0.1')\n",
    "# Directory.add_mapping(d0, 'swim', '192.168.0.1')"
   ]
  },
  {
   "cell_type": "code",
   "execution_count": null,
   "metadata": {},
   "outputs": [],
   "source": [
    "d0.hosts"
   ]
  },
  {
   "cell_type": "markdown",
   "metadata": {},
   "source": [
    "```python\n",
    "d.add_mapping('foo', '127.0.0.1')  ==> Directory.add_mapping(d, 'foo', ...)\n",
    "```"
   ]
  },
  {
   "cell_type": "code",
   "execution_count": null,
   "metadata": {},
   "outputs": [],
   "source": [
    "s.startswith('Pri')"
   ]
  },
  {
   "cell_type": "code",
   "execution_count": null,
   "metadata": {},
   "outputs": [],
   "source": [
    "str.startswith(s, 'Pri')"
   ]
  },
  {
   "cell_type": "code",
   "execution_count": null,
   "metadata": {},
   "outputs": [],
   "source": [
    "d0.add_mapping('swim', '192.168.0.2')\n",
    "d0.add_mapping('bike', '192.168.0.3')\n",
    "d0.add_mapping('bike', '192.168.0.4')\n",
    "d0.add_mapping('run', '192.168.0.5')"
   ]
  },
  {
   "cell_type": "code",
   "execution_count": null,
   "metadata": {},
   "outputs": [],
   "source": [
    "d0.resolve('swim')"
   ]
  },
  {
   "cell_type": "code",
   "execution_count": null,
   "metadata": {},
   "outputs": [],
   "source": [
    "d0.resolve('swimmer')"
   ]
  },
  {
   "cell_type": "code",
   "execution_count": null,
   "metadata": {},
   "outputs": [],
   "source": [
    "d0.hosts"
   ]
  },
  {
   "cell_type": "markdown",
   "metadata": {},
   "source": [
    "## Anatomy of a class definition:\n",
    "\n",
    "Let's look at the class definition in more detail:"
   ]
  },
  {
   "cell_type": "markdown",
   "metadata": {},
   "source": [
    "```python\n",
    "class Directory():\n",
    "```\n",
    "\n",
    "This snippet says we're defining a new type called `Directory`. We aren't creating a specialization / extension of an existing type, so the parens `()` are empty (they can also be omitted). If we were specializing an existing type, we would put the type that we are extending inside the parens."
   ]
  },
  {
   "cell_type": "markdown",
   "metadata": {},
   "source": [
    "```python\n",
    "    \"\"\"Keep a mapping of hosts to addresses.\"\"\"\n",
    "```\n",
    "\n",
    "This is a *docstring*. It doesn't get used at execution time, but provides documentation for users of our class:"
   ]
  },
  {
   "cell_type": "code",
   "execution_count": null,
   "metadata": {
    "scrolled": false
   },
   "outputs": [],
   "source": [
    "help(Directory)"
   ]
  },
  {
   "cell_type": "markdown",
   "metadata": {},
   "source": [
    "Next, we have our first **method** (function attached to a class):\n",
    "\n",
    "```python\n",
    "    def __init__(self):\n",
    "        self.hosts = {}\n",
    "```\n",
    "\n",
    "Here, we define the class *initializer*. This sets up any *attributes* that we want to be available when we're using a particular *instance* of the class. In this case, the only attribute we're interested in is the `hosts` dict.\n",
    "\n",
    "Note that in Python, unlike other languages such as Ruby, Java, Javascript, or C++, you *must* be explicit about the name of the instance variable. The Python convention is to call this parameter `self`, though the language does not enforce that."
   ]
  },
  {
   "cell_type": "markdown",
   "metadata": {},
   "source": [
    "Our next method defines the actual functionality of the class:\n",
    "    \n",
    "```python\n",
    "    def add_mapping(self, name, address):\n",
    "        if name not in self.hosts:\n",
    "            self.hosts[name] = set()\n",
    "        self.hosts[name].add(address)\n",
    "        \n",
    "```"
   ]
  },
  {
   "cell_type": "markdown",
   "metadata": {},
   "source": [
    "## Common \"magic\" methods\n",
    "\n",
    "You may have noticed the strange naming convention of the initializer `__init__`. Leading and trailing double underscores (pronounced \"dunder\") are used to mark a method as 'magic', meaning that it typically gets called *implicitly* by the Python interpreter rather than being called directly. \n",
    "\n",
    "While there are [many][magic-methods] different magic methods, the following are used most frequently:\n",
    "\n",
    "- `__init__` gets called automatically called when creating an instance of the class. \n",
    "- `__repr__` gets called automatically by the `repr()` built-in function or when showing the 'representation' of an instance\n",
    "- `__str__` gets called automatically by the `str()` built-in function or when `print()`ing an instance\n",
    "\n",
    "[magic-methods]: https://docs.python.org/3/reference/datamodel.html#special-method-names"
   ]
  },
  {
   "cell_type": "code",
   "execution_count": null,
   "metadata": {},
   "outputs": [],
   "source": [
    "'5'"
   ]
  },
  {
   "cell_type": "code",
   "execution_count": null,
   "metadata": {},
   "outputs": [],
   "source": [
    "5"
   ]
  },
  {
   "cell_type": "code",
   "execution_count": null,
   "metadata": {},
   "outputs": [],
   "source": [
    "5+5"
   ]
  },
  {
   "cell_type": "code",
   "execution_count": null,
   "metadata": {},
   "outputs": [],
   "source": [
    "'5' + '5'"
   ]
  },
  {
   "cell_type": "code",
   "execution_count": null,
   "metadata": {},
   "outputs": [],
   "source": [
    "print(str('5'), repr('5'))"
   ]
  },
  {
   "cell_type": "code",
   "execution_count": null,
   "metadata": {},
   "outputs": [],
   "source": [
    "x = '5'\n",
    "user_friendly_x = str(x)\n",
    "dev_friendly_x = repr(x)\n",
    "print('type of user_friendly_x', type(user_friendly_x))\n",
    "print('type of dev_friendly_x', type(dev_friendly_x))\n",
    "print('user_friendly, dev_friendly:', user_friendly_x, dev_friendly_x)"
   ]
  },
  {
   "cell_type": "code",
   "execution_count": null,
   "metadata": {},
   "outputs": [],
   "source": [
    "y = repr(x)\n",
    "len(y)"
   ]
  },
  {
   "cell_type": "code",
   "execution_count": null,
   "metadata": {},
   "outputs": [],
   "source": [
    "y = str(x)\n",
    "len(y)"
   ]
  },
  {
   "cell_type": "code",
   "execution_count": null,
   "metadata": {},
   "outputs": [],
   "source": [
    "print(x)"
   ]
  },
  {
   "cell_type": "code",
   "execution_count": null,
   "metadata": {},
   "outputs": [],
   "source": [
    "print(d0)"
   ]
  },
  {
   "cell_type": "code",
   "execution_count": null,
   "metadata": {},
   "outputs": [],
   "source": [
    "repr(d0), str(d0)"
   ]
  },
  {
   "cell_type": "code",
   "execution_count": null,
   "metadata": {},
   "outputs": [],
   "source": [
    "x = \"5\"\n",
    "print(f'__str__: {x}')\n",
    "print(f'__repr__: {x!r}')"
   ]
  },
  {
   "cell_type": "code",
   "execution_count": null,
   "metadata": {},
   "outputs": [],
   "source": [
    "print('__str__: %s' % x)\n",
    "print('__repr__: %r' % x)"
   ]
  },
  {
   "cell_type": "markdown",
   "metadata": {},
   "source": [
    "https://pyformat.info"
   ]
  },
  {
   "cell_type": "markdown",
   "metadata": {},
   "source": [
    "Let's add a `__repr__`:"
   ]
  },
  {
   "cell_type": "code",
   "execution_count": null,
   "metadata": {},
   "outputs": [],
   "source": [
    "class Directory2:\n",
    "    \"\"\"Keep a mapping of hosts to addresses.\"\"\"\n",
    "    \n",
    "    def __init__(self):\n",
    "        self.hosts = {}\n",
    "        \n",
    "    def __repr__(self):\n",
    "        #return '<Directory of %d hosts>' % (len(self.hosts))\n",
    "        #return '<Directory of {} hosts>'.format(len(self.hosts))\n",
    "        return f'<Directory of {len(self.hosts)} hosts>'  # py3.6+\n",
    "        \n",
    "    def add_mapping(self, name, address):\n",
    "        if name not in self.hosts:\n",
    "            self.hosts[name] = set()\n",
    "        self.hosts[name].add(address)\n",
    "        \n",
    "    def remove_mapping(self, name, address):\n",
    "        if name in self.hosts:\n",
    "            self.hosts[name].discard(address)\n",
    "            \n",
    "    def resolve(self, name):\n",
    "        if name in self.hosts:\n",
    "            return self.hosts[name]\n",
    "        else:\n",
    "            return 'NXDOMAIN'"
   ]
  },
  {
   "cell_type": "code",
   "execution_count": null,
   "metadata": {},
   "outputs": [],
   "source": [
    "d2 = Directory2()"
   ]
  },
  {
   "cell_type": "code",
   "execution_count": null,
   "metadata": {},
   "outputs": [],
   "source": [
    "d2"
   ]
  },
  {
   "cell_type": "code",
   "execution_count": null,
   "metadata": {},
   "outputs": [],
   "source": [
    "d2.add_mapping('swim', '192.168.0.1')\n",
    "d2.add_mapping('swim', '192.168.0.2')\n",
    "d2.add_mapping('bike', '192.168.0.3')\n",
    "d2.add_mapping('bike', '192.168.0.4')\n",
    "d2.add_mapping('run', '192.168.0.5')"
   ]
  },
  {
   "cell_type": "code",
   "execution_count": null,
   "metadata": {},
   "outputs": [],
   "source": [
    "d2"
   ]
  },
  {
   "cell_type": "markdown",
   "metadata": {},
   "source": [
    "If we have no `__str__`, Python will just use the `__repr__`, which is often good enough:"
   ]
  },
  {
   "cell_type": "code",
   "execution_count": null,
   "metadata": {},
   "outputs": [],
   "source": [
    "print(d2)  # uses __str__"
   ]
  },
  {
   "cell_type": "code",
   "execution_count": null,
   "metadata": {},
   "outputs": [],
   "source": [
    "str(d2)"
   ]
  },
  {
   "cell_type": "markdown",
   "metadata": {},
   "source": [
    "We can customize the `__str__` if we want:"
   ]
  },
  {
   "cell_type": "code",
   "execution_count": null,
   "metadata": {},
   "outputs": [],
   "source": [
    "class Directory3():\n",
    "    \"\"\"Keep a mapping of hosts to addresses.\"\"\"\n",
    "    \n",
    "    def __init__(self):\n",
    "        self.hosts = {}\n",
    "        \n",
    "    def __repr__(self):\n",
    "        return f'<Directory of {len(self.hosts)} hosts>'\n",
    "        \n",
    "    def __str__(self):\n",
    "        # lines = [f'Directory of {len(self.hosts)} hosts']\n",
    "        lines = [repr(self)]\n",
    "        lines += [\n",
    "            f' - {host} => {addresses}' \n",
    "            for host, addresses in self.hosts.items()\n",
    "        ]\n",
    "#         for host, addresses in self.hosts.items():\n",
    "#             lines.append(f' - {host} => {addresses}')\n",
    "        return '\\n'.join(lines)\n",
    "        \n",
    "    def add_mapping(self, name, address):\n",
    "        if name not in self.hosts:\n",
    "            self.hosts[name] = set()\n",
    "        self.hosts[name].add(address)\n",
    "        \n",
    "    def remove_mapping(self, name, address):\n",
    "        if name in self.hosts:\n",
    "            self.hosts[name].discard(address)\n",
    "            \n",
    "    def resolve(self, name):\n",
    "        if name in self.hosts:\n",
    "            return self.hosts[name]\n",
    "        else:\n",
    "            return 'NXDOMAIN'"
   ]
  },
  {
   "cell_type": "code",
   "execution_count": null,
   "metadata": {},
   "outputs": [],
   "source": [
    "d3 = Directory3()\n",
    "d3.add_mapping('swim', '192.168.0.1')\n",
    "d3.add_mapping('swim', '192.168.0.2')\n",
    "d3.add_mapping('bike', '192.168.0.3')\n",
    "d3.add_mapping('bike', '192.168.0.4')\n",
    "d3.add_mapping('run', '192.168.0.5')"
   ]
  },
  {
   "cell_type": "code",
   "execution_count": null,
   "metadata": {},
   "outputs": [],
   "source": [
    "d3"
   ]
  },
  {
   "cell_type": "code",
   "execution_count": null,
   "metadata": {
    "scrolled": true
   },
   "outputs": [],
   "source": [
    "print(d3)  # uses str() and thus __str__"
   ]
  },
  {
   "cell_type": "code",
   "execution_count": null,
   "metadata": {},
   "outputs": [],
   "source": [
    "print(d3.__str__())"
   ]
  },
  {
   "cell_type": "markdown",
   "metadata": {},
   "source": [
    "## Fallback behavior"
   ]
  },
  {
   "cell_type": "code",
   "execution_count": null,
   "metadata": {},
   "outputs": [],
   "source": [
    "class FallbackToStr:\n",
    "    def __str__(self):\n",
    "        return '<Fallback>'"
   ]
  },
  {
   "cell_type": "code",
   "execution_count": null,
   "metadata": {},
   "outputs": [],
   "source": [
    "fts = FallbackToStr()"
   ]
  },
  {
   "cell_type": "code",
   "execution_count": null,
   "metadata": {},
   "outputs": [],
   "source": [
    "repr(fts)"
   ]
  },
  {
   "cell_type": "code",
   "execution_count": null,
   "metadata": {},
   "outputs": [],
   "source": [
    "fts"
   ]
  },
  {
   "cell_type": "code",
   "execution_count": null,
   "metadata": {},
   "outputs": [],
   "source": [
    "str(fts)"
   ]
  },
  {
   "cell_type": "code",
   "execution_count": null,
   "metadata": {},
   "outputs": [],
   "source": [
    "class FallbackToRepr:\n",
    "    def __repr__(self):\n",
    "        return '<Fallback>'"
   ]
  },
  {
   "cell_type": "code",
   "execution_count": null,
   "metadata": {},
   "outputs": [],
   "source": [
    "ftr = FallbackToRepr()\n",
    "ftr"
   ]
  },
  {
   "cell_type": "code",
   "execution_count": null,
   "metadata": {},
   "outputs": [],
   "source": [
    "repr(ftr)"
   ]
  },
  {
   "cell_type": "code",
   "execution_count": null,
   "metadata": {},
   "outputs": [],
   "source": [
    "str(ftr)"
   ]
  },
  {
   "cell_type": "markdown",
   "metadata": {},
   "source": [
    "Other example of str/repr difference"
   ]
  },
  {
   "cell_type": "code",
   "execution_count": null,
   "metadata": {
    "scrolled": true
   },
   "outputs": [],
   "source": [
    "from datetime import datetime\n",
    "now = datetime.utcnow()\n",
    "now"
   ]
  },
  {
   "cell_type": "code",
   "execution_count": null,
   "metadata": {},
   "outputs": [],
   "source": [
    "str(now)  # calls __str__"
   ]
  },
  {
   "cell_type": "code",
   "execution_count": null,
   "metadata": {},
   "outputs": [],
   "source": [
    "repr(now) # calls __repr__"
   ]
  },
  {
   "cell_type": "code",
   "execution_count": null,
   "metadata": {},
   "outputs": [],
   "source": [
    "print(now) # calls str() on its arguments"
   ]
  },
  {
   "cell_type": "code",
   "execution_count": null,
   "metadata": {},
   "outputs": [],
   "source": [
    "# This is jupyter syntax, not regular python\n",
    "datetime??"
   ]
  },
  {
   "cell_type": "markdown",
   "metadata": {},
   "source": [
    "# \"Private\" variables\n",
    "\n",
    "Most of the time, we may not want to expose our attributes to the users of the class. \n",
    "\n",
    "The __convention__ in Python is to use a single leading underscore to indicate that this attribute is not part of the \"public\" interface of the class:"
   ]
  },
  {
   "cell_type": "code",
   "execution_count": null,
   "metadata": {},
   "outputs": [],
   "source": [
    "class Directory:\n",
    "    \"\"\"Keep a mapping of hosts to addresses.\"\"\"\n",
    "    \n",
    "    def __init__(self):\n",
    "        self._hosts = {}\n",
    "        \n",
    "    def __repr__(self):\n",
    "        return f'<Directory of {len(self._hosts)} hosts>'\n",
    "        \n",
    "    def __str__(self):\n",
    "        lines = [f'Directory of {len(self._hosts)} hosts']\n",
    "        for host, addresses in self._hosts.items():\n",
    "            lines.append(f' - {host} => {addresses}')\n",
    "        return '\\n'.join(lines)\n",
    "        \n",
    "    def add_mapping(self, name, address):\n",
    "        if name not in self._hosts:\n",
    "            self._hosts[name] = set()\n",
    "        self._hosts[name].add(address)\n",
    "        \n",
    "    def remove_mapping(self, name, address):\n",
    "        if name in self._hosts:\n",
    "            self._hosts[name].discard(address)\n",
    "            \n",
    "    def resolve(self, name):\n",
    "        if name in self._hosts:\n",
    "            return self._hosts[name]\n",
    "        else:\n",
    "            return 'NXDOMAIN'"
   ]
  },
  {
   "cell_type": "markdown",
   "metadata": {},
   "source": [
    "It's not *really* private, though:"
   ]
  },
  {
   "cell_type": "code",
   "execution_count": null,
   "metadata": {},
   "outputs": [],
   "source": [
    "d0 = Directory()\n",
    "d0._hosts   # this will void your warranty for the class"
   ]
  },
  {
   "cell_type": "markdown",
   "metadata": {},
   "source": [
    "Occasionally you'll see code which uses **two** leading underscores to make an attribute \"private\":"
   ]
  },
  {
   "cell_type": "code",
   "execution_count": null,
   "metadata": {},
   "outputs": [],
   "source": [
    "class Directory:\n",
    "    \"\"\"Keep a mapping of hosts to addresses.\"\"\"\n",
    "\n",
    "    def __init__(self):\n",
    "        self.__hosts = {}\n",
    "        \n",
    "    def __repr__(self):\n",
    "        return f'<Directory of {len(self.__hosts)} hosts>'\n",
    "        \n",
    "    def __str__(self):\n",
    "        lines = [f'Directory of {len(self.__hosts)} hosts']\n",
    "        for host, addresses in self.__hosts.items():\n",
    "            lines.append(f' - {host} => {addresses}')\n",
    "        return '\\n'.join(lines)\n",
    "        \n",
    "    def add_mapping(self, name, address):\n",
    "        if name not in self.__hosts:\n",
    "            self.__hosts[name] = set()\n",
    "        self.__hosts[name].add(address)\n",
    "        \n",
    "    def remove_mapping(self, name, address):\n",
    "        if name in self.__hosts:\n",
    "            self.__hosts[name].discard(address)\n",
    "            \n",
    "    def resolve(self, name):\n",
    "        if name in self.__hosts:\n",
    "            return self.__hosts[name]\n",
    "        else:\n",
    "            return 'NXDOMAIN'"
   ]
  },
  {
   "cell_type": "code",
   "execution_count": null,
   "metadata": {},
   "outputs": [],
   "source": [
    "d0 = Directory()\n",
    "d0.__hosts"
   ]
  },
  {
   "cell_type": "code",
   "execution_count": null,
   "metadata": {
    "scrolled": true
   },
   "outputs": [],
   "source": [
    "d0._Directory__hosts # name-mangling"
   ]
  },
  {
   "cell_type": "markdown",
   "metadata": {},
   "source": [
    "## Other ways to violate encapsulation"
   ]
  },
  {
   "cell_type": "code",
   "execution_count": null,
   "metadata": {},
   "outputs": [],
   "source": [
    "d0.__dict__"
   ]
  },
  {
   "cell_type": "code",
   "execution_count": null,
   "metadata": {},
   "outputs": [],
   "source": [
    "d0.__dict__['foo'] = 'bar'\n",
    "d0.foo"
   ]
  },
  {
   "cell_type": "code",
   "execution_count": null,
   "metadata": {},
   "outputs": [],
   "source": [
    "d0.__dict__['_Directory__hosts']"
   ]
  },
  {
   "cell_type": "code",
   "execution_count": null,
   "metadata": {},
   "outputs": [],
   "source": [
    "d0.__dict__"
   ]
  },
  {
   "cell_type": "code",
   "execution_count": null,
   "metadata": {},
   "outputs": [],
   "source": [
    "d0.bat = 'Batman!'\n",
    "d0.__dict__['bat']"
   ]
  },
  {
   "cell_type": "code",
   "execution_count": null,
   "metadata": {},
   "outputs": [],
   "source": [
    "d0.bat"
   ]
  },
  {
   "cell_type": "code",
   "execution_count": null,
   "metadata": {},
   "outputs": [],
   "source": [
    "d0.__dict__"
   ]
  },
  {
   "cell_type": "markdown",
   "metadata": {},
   "source": [
    "## Aside: Python has no method overloading"
   ]
  },
  {
   "cell_type": "code",
   "execution_count": null,
   "metadata": {},
   "outputs": [],
   "source": [
    "class Animal:\n",
    "    def foo(self): \n",
    "        print('foo0')\n",
    "    def foo(self, a): # completely replaces Animal.foo\n",
    "        print('foo1')\n",
    "    def foo(self, a, b): \n",
    "        print('foo2')        \n",
    "        "
   ]
  },
  {
   "cell_type": "code",
   "execution_count": null,
   "metadata": {},
   "outputs": [],
   "source": [
    "a =  Animal()\n",
    "#a.foo()\n",
    "# a.foo(1)\n",
    "a.foo(1, 2)"
   ]
  },
  {
   "cell_type": "markdown",
   "metadata": {},
   "source": [
    "# Lab\n",
    "\n",
    "Open [OOP Intro lab][oop-intro-lab]\n",
    "\n",
    "[oop-intro-lab]: ./oop-intro-lab.ipynb"
   ]
  },
  {
   "cell_type": "code",
   "execution_count": null,
   "metadata": {},
   "outputs": [],
   "source": []
  }
 ],
 "metadata": {
  "kernelspec": {
   "display_name": "Python 3",
   "language": "python",
   "name": "python3"
  },
  "language_info": {
   "codemirror_mode": {
    "name": "ipython",
    "version": 3
   },
   "file_extension": ".py",
   "mimetype": "text/x-python",
   "name": "python",
   "nbconvert_exporter": "python",
   "pygments_lexer": "ipython3",
   "version": "3.8.5"
  }
 },
 "nbformat": 4,
 "nbformat_minor": 2
}
