{
 "cells": [
  {
   "cell_type": "markdown",
   "metadata": {},
   "source": [
    "# Web Programming: server (WSGI)\n",
    "\n",
    "To manage the proliferation of web framworks, Python adopted the web server gateway interface (WSGI) as a way for frameworks to interoperate with servers.\n",
    "\n",
    "The basic WSGI application is extremely simple:"
   ]
  },
  {
   "cell_type": "code",
   "execution_count": null,
   "metadata": {},
   "outputs": [],
   "source": [
    "def wsgi_app(environ, start_response):\n",
    "    start_response('200 OK', headers=[])\n",
    "    yield b'Hello world!'"
   ]
  },
  {
   "cell_type": "code",
   "execution_count": null,
   "metadata": {},
   "outputs": [],
   "source": [
    "from wsgiref.simple_server import make_server"
   ]
  },
  {
   "cell_type": "code",
   "execution_count": null,
   "metadata": {},
   "outputs": [],
   "source": [
    "server = make_server('localhost', 8000, wsgi_app)"
   ]
  },
  {
   "cell_type": "code",
   "execution_count": null,
   "metadata": {},
   "outputs": [],
   "source": [
    "server.serve_forever()"
   ]
  },
  {
   "cell_type": "markdown",
   "metadata": {},
   "source": [
    "http://localhost:8000"
   ]
  },
  {
   "cell_type": "code",
   "execution_count": null,
   "metadata": {},
   "outputs": [],
   "source": [
    "import json\n",
    "\n",
    "def return_environ(environ, start_response):\n",
    "    start_response('200 OK', headers=[('Content-Type', 'application/json')])\n",
    "    resp = {k: str(v) for k, v in environ.items()}\n",
    "    yield json.dumps(resp).encode('utf-8')"
   ]
  },
  {
   "cell_type": "code",
   "execution_count": null,
   "metadata": {},
   "outputs": [],
   "source": [
    "server = make_server('localhost', 8002, return_environ)"
   ]
  },
  {
   "cell_type": "code",
   "execution_count": null,
   "metadata": {
    "scrolled": true
   },
   "outputs": [],
   "source": [
    "server.serve_forever()"
   ]
  },
  {
   "cell_type": "markdown",
   "metadata": {},
   "source": [
    "http://localhost:8002/foo/bar?baz=bat"
   ]
  },
  {
   "cell_type": "markdown",
   "metadata": {},
   "source": [
    "## WSGI Resources\n",
    "\n",
    "### WSGI Middleware\n",
    "\n",
    "There are some WSGI \"wrappers\" called *middleware* that can be used to modify requests and responses before/after the \"main app\" is called.\n",
    "\n",
    "To WSGI, middleware looks like \"just another app\" (but an app that happens to invoke another app).\n",
    "\n",
    "Some examples can be found [here](http://wsgi.readthedocs.io/en/latest/libraries.html). Notable ones include:\n",
    "\n",
    " - Beaker provides sessions and caching for WSGI apps\n",
    " - static allows you to serve static content for part of your app\n",
    " - wsgiauth provides an authentication framework\n",
    " - wsgiform parses form submissions\n",
    " \n",
    "### WSGI Servers\n",
    "\n",
    "If your application is a WSGI application, it can be used by any WSGI web server. Some notable servers include:\n",
    "\n",
    " - apache (with [mod_wsgi](https://modwsgi.readthedocs.io/en/develop/))\n",
    " - [gunicorn](http://gunicorn.org/)\n",
    " - [uWSGI](https://uwsgi-docs.readthedocs.io/en/latest/)\n",
    " - [CherryPy](https://cherrypy.dev/)\n",
    "\n",
    "### WSGI Frameworks\n",
    "\n",
    "Most Python web programming is done via frameworks, and most Python web frameworks provide a top-level WSGI application (and can thus be embedded in any of the above servers). Some notable framworks include:\n",
    "\n",
    " - [Django](https://www.djangoproject.com/)\n",
    " - [Flask](http://flask.pocoo.org/)\n",
    " - [Pyramid](https://trypyramid.com/)"
   ]
  },
  {
   "cell_type": "markdown",
   "metadata": {},
   "source": [
    "# Lab\n",
    "\n",
    "Open [WSGI Lab](./wsgi-lab.ipynb)"
   ]
  }
 ],
 "metadata": {
  "kernelspec": {
   "display_name": "deep_discovery",
   "language": "python",
   "name": "python3"
  },
  "language_info": {
   "codemirror_mode": {
    "name": "ipython",
    "version": 3
   },
   "file_extension": ".py",
   "mimetype": "text/x-python",
   "name": "python",
   "nbconvert_exporter": "python",
   "pygments_lexer": "ipython3",
   "version": "3.8.10 | packaged by conda-forge | (default, May 11 2021, 06:39:48) \n[Clang 11.1.0 ]"
  },
  "vscode": {
   "interpreter": {
    "hash": "f5843dadf34720d1d49bd40b40c179895302ad51d2a706663a7036f5f983c84b"
   }
  }
 },
 "nbformat": 4,
 "nbformat_minor": 1
}
