{
 "cells": [
  {
   "cell_type": "markdown",
   "metadata": {},
   "source": [
    "# Packaging Projects for Distribution\n",
    "\n",
    "- Creating a basic Python project with `setup.py` and `setup.cfg`\n",
    "- Specifying dependencies\n",
    "- Activating projects in a virtualenv with `setup.py develop`\n",
    "- Distributing data with your project\n",
    "- Using entry points to create console scripts\n",
    "- Uploading source distributions to PyPI"
   ]
  },
  {
   "cell_type": "markdown",
   "metadata": {},
   "source": [
    "# First, some terminology...\n",
    "\n",
    "- a Python **module** is typically a single file ending in `.py` located somewhere along `sys.path` that you can use with the Python `import` statement\n",
    "- a Python **package** is a folder located somewhere along `sys.path` containing a \"magic\" file `__init__.py` which can also be imported. If you import a package, Python is actually importing the `__init__.py` *module* in that *package*. You can also import modules or subpackages from a package.\n",
    "- a Python **project** is a unit of distribution of Python code (it's something you can `pip install`)"
   ]
  },
  {
   "cell_type": "markdown",
   "metadata": {},
   "source": [
    "# Creating a basic Python project with `setup.py` and `setup.cfg`\n",
    "\n",
    "To create a project for distribution, you'll need to create a directory with:\n",
    "\n",
    "- one or more Python packages to distribute\n",
    "- a `setup.py` file\n",
    "- (optionally) a `setup.cfg` file"
   ]
  },
  {
   "cell_type": "code",
   "execution_count": null,
   "metadata": {},
   "outputs": [],
   "source": [
    "%%bash\n",
    "rm -fr data/MyProject\n",
    "mkdir -p data/MyProject/mypackage"
   ]
  },
  {
   "cell_type": "code",
   "execution_count": null,
   "metadata": {
    "scrolled": true
   },
   "outputs": [],
   "source": [
    "%%file data/MyProject/mypackage/__init__.py\n",
    "print('This is the __init__ file for mypackage')"
   ]
  },
  {
   "cell_type": "code",
   "execution_count": null,
   "metadata": {},
   "outputs": [],
   "source": [
    "%%file data/MyProject/mypackage/mymodule.py\n",
    "print('This is mymodule')\n",
    "\n",
    "\n",
    "def greet(name):\n",
    "    print(f'Hello, {name}!')"
   ]
  },
  {
   "cell_type": "code",
   "execution_count": null,
   "metadata": {},
   "outputs": [],
   "source": [
    "!find data/MyProject"
   ]
  },
  {
   "cell_type": "markdown",
   "metadata": {},
   "source": [
    "For this demo, we'll use `setup.cfg` to provide metadata for our project, so we only need a minimal setup.py:"
   ]
  },
  {
   "cell_type": "code",
   "execution_count": null,
   "metadata": {},
   "outputs": [],
   "source": [
    "%%file data/MyProject/setup.py\n",
    "from setuptools import setup\n",
    "\n",
    "setup(\n",
    "#     name='MyProject',\n",
    "#     version='0.1',\n",
    "#     ...\n",
    ")"
   ]
  },
  {
   "cell_type": "markdown",
   "metadata": {},
   "source": [
    "We can create the `setup.cfg` file to specify how `setuptools` will build and distribute our project:"
   ]
  },
  {
   "cell_type": "code",
   "execution_count": null,
   "metadata": {},
   "outputs": [],
   "source": [
    "%%file data/MyProject/setup.cfg\n",
    "[metadata]\n",
    "name = MyProject\n",
    "version = 0.1\n",
    "url = file:///\n",
    "# author = Some Person\n",
    "# author_email = somebody@example.com\n",
    "# description = This should be a short description of our project\n",
    "# long_description = file: README.md\n",
    "# long_description_content_type = text/markdown\n",
    "# classifiers =\n",
    "#     Programming Language :: Python :: 3\n",
    "#     Programming Language :: Python :: 3.7\n",
    "#     Programming Language :: Python :: 3.8\n",
    "# keywords = test, class"
   ]
  },
  {
   "cell_type": "markdown",
   "metadata": {},
   "source": [
    "(Aside: you can use [cookiecutter](https://cookiecutter.readthedocs.io/en/1.7.2/) to get started on some projects)"
   ]
  },
  {
   "cell_type": "markdown",
   "metadata": {},
   "source": [
    "It's always nice to provide a README as well:"
   ]
  },
  {
   "cell_type": "code",
   "execution_count": null,
   "metadata": {},
   "outputs": [],
   "source": [
    "%%file data/MyProject/README.md\n",
    "# MyProject\n",
    "\n",
    "This project is a test setuptools project.\n",
    "\n",
    "Its features:\n",
    "    \n",
    "* feature 1\n",
    "* feature 2\n",
    "* feature 3"
   ]
  },
  {
   "cell_type": "code",
   "execution_count": null,
   "metadata": {},
   "outputs": [],
   "source": [
    "!find data/MyProject"
   ]
  },
  {
   "cell_type": "markdown",
   "metadata": {},
   "source": [
    "## Creating a source distribution\n",
    "\n",
    "The entry point for all our project management commands is `setup.py`.\n",
    "\n",
    "We can create a simple source distribution of our project by calling `python setup.py sdist`:"
   ]
  },
  {
   "cell_type": "code",
   "execution_count": null,
   "metadata": {},
   "outputs": [],
   "source": [
    "%%bash\n",
    "cd data/MyProject\n",
    "rm -fr dist\n",
    "python setup.py sdist"
   ]
  },
  {
   "cell_type": "code",
   "execution_count": null,
   "metadata": {},
   "outputs": [],
   "source": [
    "!ls data/MyProject/dist"
   ]
  },
  {
   "cell_type": "code",
   "execution_count": null,
   "metadata": {},
   "outputs": [],
   "source": [
    "!pip install data/MyProject/dist/MyProject-0.1.tar.gz"
   ]
  },
  {
   "cell_type": "code",
   "execution_count": null,
   "metadata": {},
   "outputs": [],
   "source": [
    "import mypackage"
   ]
  },
  {
   "cell_type": "code",
   "execution_count": null,
   "metadata": {},
   "outputs": [],
   "source": [
    "!pip uninstall -y MyProject"
   ]
  },
  {
   "cell_type": "code",
   "execution_count": null,
   "metadata": {},
   "outputs": [],
   "source": [
    "!tar tzf data/MyProject/dist/MyProject-0.1.tar.gz"
   ]
  },
  {
   "cell_type": "markdown",
   "metadata": {},
   "source": [
    "## Adding our packages\n",
    "\n",
    "So we have an empty project (no packages/modules). We need to tell setuptools to actually include our package explicitly:"
   ]
  },
  {
   "cell_type": "code",
   "execution_count": null,
   "metadata": {},
   "outputs": [],
   "source": [
    "%%file data/MyProject/setup.cfg\n",
    "[metadata]\n",
    "name = MyProject\n",
    "url = file:///\n",
    "author = Some Person\n",
    "author_email = somebody@example.com\n",
    "version = 0.1\n",
    "description = This should be a short description of our project\n",
    "long_description = file: README.md\n",
    "long_description_content_type = text/markdown\n",
    "\n",
    "[options]\n",
    "packages = mypackage"
   ]
  },
  {
   "cell_type": "code",
   "execution_count": null,
   "metadata": {},
   "outputs": [],
   "source": [
    "%%bash\n",
    "cd data/MyProject\n",
    "python setup.py sdist"
   ]
  },
  {
   "cell_type": "code",
   "execution_count": null,
   "metadata": {},
   "outputs": [],
   "source": [
    "!tar tzf data/MyProject/dist/MyProject-0.1.tar.gz"
   ]
  },
  {
   "cell_type": "code",
   "execution_count": null,
   "metadata": {},
   "outputs": [],
   "source": [
    "!pip install data/MyProject/dist/MyProject-0.1.tar.gz"
   ]
  },
  {
   "cell_type": "code",
   "execution_count": null,
   "metadata": {},
   "outputs": [],
   "source": [
    "import mypackage"
   ]
  },
  {
   "cell_type": "code",
   "execution_count": null,
   "metadata": {},
   "outputs": [],
   "source": [
    "from mypackage import mymodule\n",
    "mymodule.greet('Class')"
   ]
  },
  {
   "cell_type": "code",
   "execution_count": null,
   "metadata": {},
   "outputs": [],
   "source": [
    "!pip uninstall -y MyProject"
   ]
  },
  {
   "cell_type": "markdown",
   "metadata": {},
   "source": [
    "## Specifying dependencies\n",
    "\n",
    "We can tell setuptools that we depend on particular versions (or version ranges) of other packages with an `install_requires` option:"
   ]
  },
  {
   "cell_type": "code",
   "execution_count": null,
   "metadata": {},
   "outputs": [],
   "source": [
    "%%file data/MyProject/setup.cfg\n",
    "[metadata]\n",
    "name = MyProject\n",
    "url = file:///\n",
    "author = Some Person\n",
    "author_email = somebody@example.com\n",
    "version = 0.1\n",
    "description = This should be a short description of our project\n",
    "long_description = file: README.md\n",
    "long_description_content_type = text/markdown\n",
    "\n",
    "[options]\n",
    "packages = mypackage\n",
    "install_requires = \n",
    "    numpy>=1.16"
   ]
  },
  {
   "cell_type": "code",
   "execution_count": null,
   "metadata": {},
   "outputs": [],
   "source": [
    "%%bash\n",
    "cd data/MyProject\n",
    "python setup.py sdist"
   ]
  },
  {
   "cell_type": "code",
   "execution_count": null,
   "metadata": {},
   "outputs": [],
   "source": [
    "cat data/MyProject/MyProject.egg-info/requires.txt"
   ]
  },
  {
   "cell_type": "markdown",
   "metadata": {},
   "source": [
    "# Activating projects using `setup.py develop`\n",
    "\n",
    "When we're developing our project, we probably want its packages to be importable as though it were 'installed' in our virtualenv. To do this, we can invoke `setup.py` with the `develop` option. \n",
    "\n",
    "This creates a `MyProject.egg-link` file in a location along `sys.path` which makes your packages importable from anwhere that uses the virtualenv.\n",
    "\n",
    "Note:\n",
    "\n",
    "`pip install -e .` has equivalent effect to `python setup.py develop`"
   ]
  },
  {
   "cell_type": "code",
   "execution_count": null,
   "metadata": {
    "scrolled": false
   },
   "outputs": [],
   "source": [
    "%%bash\n",
    "cd data/MyProject\n",
    "rm -fr env\n",
    "/usr/bin/python -m venv env\n",
    "source env/bin/activate\n",
    "# pip install -e .\n",
    "python setup.py develop    # makes mypackage importable from anywhere in the venv"
   ]
  },
  {
   "cell_type": "code",
   "execution_count": null,
   "metadata": {},
   "outputs": [],
   "source": [
    "cat data/MyProject/env/lib/python3.8/site-packages/easy-install.pth"
   ]
  },
  {
   "cell_type": "code",
   "execution_count": null,
   "metadata": {},
   "outputs": [],
   "source": [
    "%%bash\n",
    "source data/MyProject/env/bin/activate\n",
    "cd /\n",
    "python -c 'import mypackage.mymodule; mypackage.mymodule.greet(\"class\")'"
   ]
  },
  {
   "cell_type": "markdown",
   "metadata": {},
   "source": [
    "If we *don't* do `setup.py develop`, we *won't* be able to import the package:"
   ]
  },
  {
   "cell_type": "code",
   "execution_count": null,
   "metadata": {
    "scrolled": true
   },
   "outputs": [],
   "source": [
    "%%bash\n",
    "source data/MyProject/env/bin/activate\n",
    "pip uninstall -y MyProject   \n",
    "cd /\n",
    "python -c 'import mypackage.mymodule; mypackage.mymodule.greet(\"class\")'"
   ]
  },
  {
   "cell_type": "code",
   "execution_count": null,
   "metadata": {},
   "outputs": [],
   "source": [
    "%%bash\n",
    "source data/MyProject/env/bin/activate\n",
    "# cd data/MyProject; python setup.py develop \n",
    "pip install -e data/MyProject\n",
    "cd /\n",
    "python -c 'import mypackage.mymodule; mypackage.mymodule.greet(\"class\")'"
   ]
  },
  {
   "cell_type": "markdown",
   "metadata": {},
   "source": [
    "## Distributing data with our project\n",
    "\n",
    "Normally, only Python files are included with our project. In order to include non-Python files, we need to specify those as well:"
   ]
  },
  {
   "cell_type": "code",
   "execution_count": null,
   "metadata": {},
   "outputs": [],
   "source": [
    "%%file data/MyProject/mypackage/template.txt\n",
    "This is an awesome template that greets you.\n",
    "\n",
    "Hello, ${name}!"
   ]
  },
  {
   "cell_type": "code",
   "execution_count": null,
   "metadata": {},
   "outputs": [],
   "source": [
    "%%file data/MyProject/mypackage/mymodule.py\n",
    "import os, string\n",
    "\n",
    "\n",
    "def greet(name):\n",
    "    with open(os.path.join(\n",
    "        os.path.dirname(__file__),\n",
    "        'template.txt'\n",
    "    )) as f:\n",
    "        template = string.Template(f.read())\n",
    "    print(template.safe_substitute({'name': name}))"
   ]
  },
  {
   "cell_type": "code",
   "execution_count": null,
   "metadata": {},
   "outputs": [],
   "source": [
    "%%bash\n",
    "cd data/MyProject\n",
    "python setup.py sdist"
   ]
  },
  {
   "cell_type": "code",
   "execution_count": null,
   "metadata": {},
   "outputs": [],
   "source": [
    "%%file data/MyProject/setup.cfg\n",
    "[metadata]\n",
    "name = MyProject\n",
    "url = file:///\n",
    "author = Some Person\n",
    "author_email = somebody@example.com\n",
    "version = 0.1\n",
    "description = This should be a short description of our project\n",
    "long_description = file: README.md\n",
    "long_description_content_type = text/markdown\n",
    "\n",
    "\n",
    "[options]\n",
    "packages = mypackage\n",
    "install_requires = \n",
    "    numpy\n",
    "    \n",
    "[options.package_data]\n",
    "* = *.txt"
   ]
  },
  {
   "cell_type": "code",
   "execution_count": null,
   "metadata": {},
   "outputs": [],
   "source": [
    "%%bash\n",
    "cd data/MyProject\n",
    "python setup.py sdist"
   ]
  },
  {
   "cell_type": "markdown",
   "metadata": {},
   "source": [
    "You can also use include_package_data = true to include *all* data in package directories"
   ]
  },
  {
   "cell_type": "code",
   "execution_count": null,
   "metadata": {},
   "outputs": [],
   "source": [
    "%%file data/MyProject/setup.cfg\n",
    "[metadata]\n",
    "name = MyProject\n",
    "url = file:///\n",
    "author = Some Person\n",
    "author_email = somebody@example.com\n",
    "version = 0.1\n",
    "description = This should be a short description of our project\n",
    "long_description = file: README.md\n",
    "long_description_content_type = text/markdown\n",
    "\n",
    "\n",
    "[options]\n",
    "packages = mypackage\n",
    "install_requires = \n",
    "    numpy\n",
    "include_package_data = true\n",
    "    "
   ]
  },
  {
   "cell_type": "code",
   "execution_count": null,
   "metadata": {},
   "outputs": [],
   "source": [
    "%%bash\n",
    "cd data/MyProject\n",
    "python setup.py sdist"
   ]
  },
  {
   "cell_type": "code",
   "execution_count": null,
   "metadata": {},
   "outputs": [],
   "source": [
    "%%bash\n",
    "source data/MyProject/env/bin/activate\n",
    "cd /\n",
    "python -c 'import mypackage.mymodule; mypackage.mymodule.greet(\"class\")'"
   ]
  },
  {
   "cell_type": "markdown",
   "metadata": {},
   "source": [
    "# Use pkg_resources to access data files"
   ]
  },
  {
   "cell_type": "code",
   "execution_count": null,
   "metadata": {},
   "outputs": [],
   "source": [
    "%%file data/MyProject/mypackage/mymodule.py\n",
    "import string\n",
    "import pkg_resources\n",
    "\n",
    "\n",
    "def greet(name):\n",
    "    filename = pkg_resources.resource_filename('mypackage', 'template.txt')\n",
    "    with open(filename) as f:\n",
    "        template = string.Template(f.read())\n",
    "    print(template.safe_substitute({'name': name}))"
   ]
  },
  {
   "cell_type": "code",
   "execution_count": null,
   "metadata": {},
   "outputs": [],
   "source": [
    "%%bash\n",
    "source data/MyProject/env/bin/activate\n",
    "cd /\n",
    "python -c 'import mypackage.mymodule; mypackage.mymodule.greet(\"class\")'"
   ]
  },
  {
   "cell_type": "markdown",
   "metadata": {},
   "source": [
    "# Using entry_points for console_scripts\n",
    "\n",
    "If you need to create a new command-line tool, a nice approach is to use the `entry_points` feature of `setuptools`:"
   ]
  },
  {
   "cell_type": "code",
   "execution_count": null,
   "metadata": {},
   "outputs": [],
   "source": [
    "%%file data/MyProject/setup.cfg\n",
    "[metadata]\n",
    "name = MyProject\n",
    "url = file:///\n",
    "author = Some Person\n",
    "author_email = somebody@example.com\n",
    "version = 0.1\n",
    "description = This should be a short description of our project\n",
    "long_description = file: README.md\n",
    "long_description_content_type = text/markdown\n",
    "\n",
    "\n",
    "[options]\n",
    "packages = mypackage\n",
    "install_requires = \n",
    "    numpy>=1.16.0\n",
    "    \n",
    "[options.package_data]\n",
    "* = *.txt\n",
    "\n",
    "[options.entry_points]\n",
    "console_scripts =\n",
    "  my-greet=mypackage.mymodule:greet_main"
   ]
  },
  {
   "cell_type": "code",
   "execution_count": null,
   "metadata": {},
   "outputs": [],
   "source": [
    "%%file data/MyProject/mypackage/mymodule.py\n",
    "import sys\n",
    "import string\n",
    "import pkg_resources\n",
    "\n",
    "\n",
    "def greet(name):\n",
    "    filename = pkg_resources.resource_filename('mypackage', 'template.txt')\n",
    "    with open(filename) as f:\n",
    "        template = string.Template(f.read())\n",
    "    print(template.safe_substitute({'name': name}))    \n",
    "    \n",
    "def greet_main():\n",
    "    if len(sys.argv) > 1:\n",
    "        name = ' '.join(sys.argv[1:])\n",
    "    else:\n",
    "        name = 'unknown human'\n",
    "    greet(name)"
   ]
  },
  {
   "cell_type": "code",
   "execution_count": null,
   "metadata": {
    "scrolled": false
   },
   "outputs": [],
   "source": [
    "%%bash\n",
    "cd data/MyProject\n",
    "source env/bin/activate\n",
    "python setup.py develop  # or pip install -e ."
   ]
  },
  {
   "cell_type": "code",
   "execution_count": null,
   "metadata": {},
   "outputs": [],
   "source": [
    "!data/MyProject/env/bin/my-greet"
   ]
  },
  {
   "cell_type": "code",
   "execution_count": null,
   "metadata": {},
   "outputs": [],
   "source": [
    "!data/MyProject/env/bin/my-greet Advanced Python"
   ]
  },
  {
   "cell_type": "code",
   "execution_count": null,
   "metadata": {},
   "outputs": [],
   "source": [
    "cat data/MyProject/env/bin/my-greet"
   ]
  },
  {
   "cell_type": "markdown",
   "metadata": {},
   "source": [
    "# Registering with PyPI\n",
    "\n",
    "You'll need to create an account at http://pypi.org"
   ]
  },
  {
   "cell_type": "code",
   "execution_count": null,
   "metadata": {},
   "outputs": [],
   "source": [
    "%%file data/MyProject/setup.cfg\n",
    "[metadata]\n",
    ";; change name to make it unique\n",
    "name = ProductionalizingProject-1\n",
    "url = https://github.com/DevelopIntelligence\n",
    "author = Some Person\n",
    "author_email = somebody@example.com\n",
    "version = 0.16.0\n",
    "description = This should be a short description of our project\n",
    "long_description = file: README.md\n",
    "long_description_content_type = text/markdown\n",
    "\n",
    "[options]\n",
    "packages = mypackage\n",
    "install_requires = \n",
    "    numpy>=1.16.0\n",
    "python_requires = >=3.6\n",
    "\n",
    "[options.package_data]\n",
    "* = *.txt\n",
    "\n",
    "[options.entry_points]\n",
    "console_scripts =\n",
    "  my-greet=mypackage.mymodule:greet_main"
   ]
  },
  {
   "cell_type": "code",
   "execution_count": null,
   "metadata": {
    "scrolled": true
   },
   "outputs": [],
   "source": [
    "%%bash\n",
    "cd data/MyProject\n",
    "rm dist/*   # clean up old distributions\n",
    "source env/bin/activate\n",
    "pip install twine wheel\n",
    "python setup.py sdist bdist_wheel\n",
    "#twine upload dist/*"
   ]
  },
  {
   "cell_type": "code",
   "execution_count": null,
   "metadata": {},
   "outputs": [],
   "source": [
    "!data/MyProject/env/bin/twine upload --help\n"
   ]
  },
  {
   "cell_type": "code",
   "execution_count": null,
   "metadata": {},
   "outputs": [],
   "source": [
    "!data/MyProject/env/bin/twine  check data/MyProject/dist/*"
   ]
  },
  {
   "cell_type": "code",
   "execution_count": null,
   "metadata": {},
   "outputs": [],
   "source": [
    "!/usr/bin/python -m venv --clear env-tmp"
   ]
  },
  {
   "cell_type": "code",
   "execution_count": null,
   "metadata": {},
   "outputs": [],
   "source": [
    "%%bash\n",
    "source env-tmp/bin/activate\n",
    "pip install -U ProductionalizingProject-1"
   ]
  },
  {
   "cell_type": "code",
   "execution_count": null,
   "metadata": {
    "scrolled": true
   },
   "outputs": [],
   "source": [
    "%%bash\n",
    "source env-tmp/bin/activate\n",
    "pip freeze"
   ]
  },
  {
   "cell_type": "code",
   "execution_count": null,
   "metadata": {},
   "outputs": [],
   "source": [
    "%%bash\n",
    "source env-tmp/bin/activate\n",
    "my-greet \"Another Environment\""
   ]
  },
  {
   "cell_type": "markdown",
   "metadata": {},
   "source": [
    "Clean things up"
   ]
  },
  {
   "cell_type": "code",
   "execution_count": null,
   "metadata": {},
   "outputs": [],
   "source": [
    "!rm -r env-tmp data/MyProject"
   ]
  },
  {
   "cell_type": "markdown",
   "metadata": {},
   "source": [
    "# Lab\n",
    "\n",
    "Open [packaging lab][packaging-lab]\n",
    "\n",
    "[packaging-lab]: ./packaging-lab.ipynb"
   ]
  }
 ],
 "metadata": {
  "kernelspec": {
   "display_name": "Python 3",
   "language": "python",
   "name": "python3"
  },
  "language_info": {
   "codemirror_mode": {
    "name": "ipython",
    "version": 3
   },
   "file_extension": ".py",
   "mimetype": "text/x-python",
   "name": "python",
   "nbconvert_exporter": "python",
   "pygments_lexer": "ipython3",
   "version": "3.8.5"
  }
 },
 "nbformat": 4,
 "nbformat_minor": 2
}
