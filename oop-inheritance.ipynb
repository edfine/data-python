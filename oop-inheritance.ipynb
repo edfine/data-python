{
 "cells": [
  {
   "cell_type": "markdown",
   "metadata": {},
   "source": [
    "# Object-Oriented Inheritance\n",
    "\n",
    "A key concept of OOP in Python and other languages is the notion of inheritance, also known as subclassing or subtyping. Consider modeling Animals:"
   ]
  },
  {
   "cell_type": "code",
   "execution_count": null,
   "metadata": {},
   "outputs": [],
   "source": [
    "class Animal:\n",
    "\n",
    "    def __init__(self, name):\n",
    "        self._name = name\n",
    "        \n",
    "    def speak(self, message):\n",
    "        print(f'{self._name} the {type(self).__name__} says \"{message}\"')\n",
    "        \n",
    "    def get_number_of_legs(self):\n",
    "        raise NotImplementedError"
   ]
  },
  {
   "cell_type": "code",
   "execution_count": null,
   "metadata": {},
   "outputs": [],
   "source": [
    "animal = Animal('Generic')"
   ]
  },
  {
   "cell_type": "code",
   "execution_count": null,
   "metadata": {},
   "outputs": [],
   "source": [
    "animal.speak('Can I really speak?')"
   ]
  },
  {
   "cell_type": "code",
   "execution_count": null,
   "metadata": {},
   "outputs": [],
   "source": [
    "animal.get_number_of_legs()"
   ]
  },
  {
   "cell_type": "markdown",
   "metadata": {},
   "source": [
    "We might want to create some more specific `class`es that \"know\" how many legs they have. We do this by **overriding** the implementation of the `get_number_of_legs` method:"
   ]
  },
  {
   "cell_type": "code",
   "execution_count": null,
   "metadata": {},
   "outputs": [],
   "source": [
    "class Biped(Animal):   # \"Biped extends Animal\" or \"Biped specializes Animal\"\n",
    "    \n",
    "    def get_number_of_legs(self):\n",
    "        return 2\n",
    "\n",
    "    \n",
    "class Quadruped(Animal):\n",
    "    \n",
    "    def get_number_of_legs(self):\n",
    "        return 4  "
   ]
  },
  {
   "cell_type": "markdown",
   "metadata": {},
   "source": [
    "override ~== overwrite"
   ]
  },
  {
   "cell_type": "code",
   "execution_count": null,
   "metadata": {},
   "outputs": [],
   "source": [
    "monkey = Biped('George')\n",
    "dog = Quadruped('Gracie')"
   ]
  },
  {
   "cell_type": "code",
   "execution_count": null,
   "metadata": {},
   "outputs": [],
   "source": [
    "isinstance(monkey, Biped)"
   ]
  },
  {
   "cell_type": "code",
   "execution_count": null,
   "metadata": {},
   "outputs": [],
   "source": [
    "isinstance(monkey, Animal)"
   ]
  },
  {
   "cell_type": "code",
   "execution_count": null,
   "metadata": {},
   "outputs": [],
   "source": [
    "isinstance(monkey, Quadruped)"
   ]
  },
  {
   "cell_type": "markdown",
   "metadata": {},
   "source": [
    "## Inheritance represents an \"is-a\" relationship\n",
    "## Composition represents a  \"has-a\" relationship"
   ]
  },
  {
   "cell_type": "code",
   "execution_count": null,
   "metadata": {},
   "outputs": [],
   "source": [
    "issubclass(Biped, Animal)"
   ]
  },
  {
   "cell_type": "code",
   "execution_count": null,
   "metadata": {},
   "outputs": [],
   "source": [
    "isinstance(Biped, Animal)"
   ]
  },
  {
   "cell_type": "code",
   "execution_count": null,
   "metadata": {},
   "outputs": [],
   "source": [
    "isinstance(Biped, type)"
   ]
  },
  {
   "cell_type": "code",
   "execution_count": null,
   "metadata": {},
   "outputs": [],
   "source": [
    "monkey.speak('hello')"
   ]
  },
  {
   "cell_type": "code",
   "execution_count": null,
   "metadata": {},
   "outputs": [],
   "source": [
    "dog.speak('hello')"
   ]
  },
  {
   "cell_type": "code",
   "execution_count": null,
   "metadata": {},
   "outputs": [],
   "source": [
    "monkey.get_number_of_legs()"
   ]
  },
  {
   "cell_type": "code",
   "execution_count": null,
   "metadata": {},
   "outputs": [],
   "source": [
    "dog.get_number_of_legs()"
   ]
  },
  {
   "cell_type": "markdown",
   "metadata": {},
   "source": [
    "We can further specialize our classes. In this case, we'll provide a default name for instances of the `Monkey` and `Dog` class, and then **delegate** to the base class (\"superclass\") implementation of `__init__`:"
   ]
  },
  {
   "cell_type": "markdown",
   "metadata": {},
   "source": [
    "Keep your code \"DRY\" -- \n",
    "\n",
    "- Don't \n",
    "- Repeat\n",
    "- Yourself"
   ]
  },
  {
   "cell_type": "code",
   "execution_count": null,
   "metadata": {},
   "outputs": [],
   "source": [
    "class Monkey(Biped):\n",
    "\n",
    "    def __init__(self, name='George'):\n",
    "        super().__init__(name)\n",
    "        # Biped.__init__(self, name) not preferred\n",
    "        \n",
    "\n",
    "class Dog(Quadruped):\n",
    "    \n",
    "    def __init__(self, name='Gracie'):\n",
    "        super().__init__(name)"
   ]
  },
  {
   "cell_type": "code",
   "execution_count": null,
   "metadata": {},
   "outputs": [],
   "source": [
    "animals = [Monkey(), Dog(), Dog('Fido')]"
   ]
  },
  {
   "cell_type": "code",
   "execution_count": null,
   "metadata": {},
   "outputs": [],
   "source": [
    "for a in animals:\n",
    "    a.speak(f'Hello there, I have {a.get_number_of_legs()} legs')\n",
    "#     f = a.speak  => \"bound method\"\n",
    "#     f('Hello there, I have {a.get_number_of_legs()} legs')    "
   ]
  },
  {
   "cell_type": "markdown",
   "metadata": {},
   "source": [
    "# Python attribute lookup\n",
    "\n",
    "Assume we have this code:\n",
    "\n",
    "```python\n",
    "foo = Dog()\n",
    "```\n",
    "\n",
    "When you use the syntax `foo.bar`, or `getattr(foo, \"bar\")` what does Python actually _do_?\n",
    "\n",
    "1. Examine the **instance** foo to see if has an instance attribute named `bar`. If it does, return it.\n",
    "1. Examine the the **class** of foo (in this case, `Dog`) to see if it has an attribute named `bar`. If it does, return it.\n",
    "1. Using the *method resolution order* (MRO) of Dog, examine the superclasses (a.k.a. base classes, ancestor classes, etc.) of Dog to see if any of them have an attribute named `bar`, returning the value if it does\n",
    "1. Upon exhausting the MRO, without finding the name, raise `AttributeError`\n",
    "\n",
    "This happens on all attribute lookups (i.e. reading a dotted name, or using the builtin function `getattr()`), including method lookups. "
   ]
  },
  {
   "cell_type": "code",
   "execution_count": null,
   "metadata": {},
   "outputs": [],
   "source": [
    "def tripod():\n",
    "    return 3\n",
    "\n",
    "animals[2].get_number_of_legs = tripod"
   ]
  },
  {
   "cell_type": "code",
   "execution_count": null,
   "metadata": {},
   "outputs": [],
   "source": [
    "animals[2].get_number_of_legs"
   ]
  },
  {
   "cell_type": "code",
   "execution_count": null,
   "metadata": {},
   "outputs": [],
   "source": [
    "animals[2].get_number_of_legs()"
   ]
  },
  {
   "cell_type": "code",
   "execution_count": null,
   "metadata": {},
   "outputs": [],
   "source": [
    "animals[2].get_number_of_legs"
   ]
  },
  {
   "cell_type": "code",
   "execution_count": null,
   "metadata": {},
   "outputs": [],
   "source": [
    "animals[1].get_number_of_legs()"
   ]
  },
  {
   "cell_type": "code",
   "execution_count": null,
   "metadata": {},
   "outputs": [],
   "source": [
    "Dog.mro()"
   ]
  },
  {
   "cell_type": "code",
   "execution_count": null,
   "metadata": {},
   "outputs": [],
   "source": [
    "a = animals[2]\n",
    "a.__dict__"
   ]
  },
  {
   "cell_type": "code",
   "execution_count": null,
   "metadata": {},
   "outputs": [],
   "source": [
    "type(a)"
   ]
  },
  {
   "cell_type": "code",
   "execution_count": null,
   "metadata": {},
   "outputs": [],
   "source": [
    "type(a).__dict__"
   ]
  },
  {
   "cell_type": "code",
   "execution_count": null,
   "metadata": {},
   "outputs": [],
   "source": [
    "Quadruped.__dict__"
   ]
  },
  {
   "cell_type": "code",
   "execution_count": null,
   "metadata": {},
   "outputs": [],
   "source": [
    "a.speak"
   ]
  },
  {
   "cell_type": "code",
   "execution_count": null,
   "metadata": {},
   "outputs": [],
   "source": [
    "a.get_number_of_legs   # not really a method "
   ]
  },
  {
   "cell_type": "code",
   "execution_count": null,
   "metadata": {},
   "outputs": [],
   "source": [
    "getattr(a, '_name')  # a._name"
   ]
  },
  {
   "cell_type": "code",
   "execution_count": null,
   "metadata": {},
   "outputs": [],
   "source": [
    "Monkey.mro()"
   ]
  },
  {
   "cell_type": "code",
   "execution_count": null,
   "metadata": {},
   "outputs": [],
   "source": [
    "Dog.mro()"
   ]
  },
  {
   "cell_type": "markdown",
   "metadata": {},
   "source": [
    "## Multiple Inheritance\n",
    "\n",
    "The MRO if a class in a single-inheritance situation is just a linear search. If we use multiple inheritance, the situation is a bit more complex. "
   ]
  },
  {
   "cell_type": "code",
   "execution_count": null,
   "metadata": {},
   "outputs": [],
   "source": [
    "class MonkeyDog(Monkey, Dog):\n",
    "    pass\n",
    "\n",
    "class DogMonkey(Dog, Monkey):\n",
    "    pass"
   ]
  },
  {
   "cell_type": "markdown",
   "metadata": {},
   "source": [
    "```\n",
    "Animal\n",
    "|  \\\n",
    ".    .\n",
    "Dog  Monkey\n",
    "|   /\n",
    "| /\n",
    "DogMonkey```"
   ]
  },
  {
   "cell_type": "code",
   "execution_count": null,
   "metadata": {},
   "outputs": [],
   "source": [
    "weird = [MonkeyDog(), DogMonkey()]"
   ]
  },
  {
   "cell_type": "code",
   "execution_count": null,
   "metadata": {
    "scrolled": true
   },
   "outputs": [],
   "source": [
    "for a in weird:\n",
    "    a.speak(f'Hello there, I have {a.get_number_of_legs()} legs')    "
   ]
  },
  {
   "cell_type": "markdown",
   "metadata": {},
   "source": [
    "### MRO\n",
    "\n",
    "Two (+1) desirable properties:\n",
    "\n",
    "- visit each superclass exactly once\n",
    "- visit a subclass before its superclass\n",
    "- (+1) linearization"
   ]
  },
  {
   "cell_type": "code",
   "execution_count": null,
   "metadata": {},
   "outputs": [],
   "source": [
    "MonkeyDog.mro()"
   ]
  },
  {
   "cell_type": "code",
   "execution_count": null,
   "metadata": {},
   "outputs": [],
   "source": [
    "DogMonkey.mro()"
   ]
  },
  {
   "cell_type": "markdown",
   "metadata": {},
   "source": [
    "### Multiple inheritance and `super()`\n",
    "\n",
    "`super()` also obeys the MRO of the class when finding the superclass, so things can sometimes get confusing:"
   ]
  },
  {
   "cell_type": "code",
   "execution_count": null,
   "metadata": {},
   "outputs": [],
   "source": [
    "class Animal():\n",
    "\n",
    "    def __init__(self, name):\n",
    "        self._name = name\n",
    "        \n",
    "    def speak(self, message):\n",
    "        print(f'{self._name} the {type(self).__name__} says \"{message}\"')\n",
    "        \n",
    "    def get_number_of_legs(self):\n",
    "        raise NotImplementedError\n",
    "        \n",
    "    def illustrate(self):\n",
    "        print('In Animal.illustrate')\n",
    "        \n",
    "        \n",
    "class Biped(Animal):\n",
    "    \n",
    "    def get_number_of_legs(self):\n",
    "        return 2\n",
    "\n",
    "    def illustrate(self):\n",
    "        print('In Biped.illustrate, delegating to super')\n",
    "        super().illustrate()\n",
    "        \n",
    "    \n",
    "class Quadruped(Animal):\n",
    "    \n",
    "    def get_number_of_legs(self):\n",
    "        return 4 \n",
    "\n",
    "    def illustrate(self):\n",
    "        print('In Quadruped.illustrate, delegating to super')\n",
    "        super().illustrate()\n",
    "    \n",
    "\n",
    "class Monkey(Biped):\n",
    "    \n",
    "    def __init__(self, name='George'):\n",
    "        super().__init__(name)\n",
    "\n",
    "    def illustrate(self):\n",
    "        print('In Monkey.illustrate, delegating to super')\n",
    "        super().illustrate()\n",
    "        \n",
    "\n",
    "class Dog(Quadruped):\n",
    "    \n",
    "    def __init__(self, name='Fido'):\n",
    "        super().__init__(name)\n",
    "\n",
    "    def illustrate(self):\n",
    "        print('In Dog.illustrate, delegating to super')\n",
    "        super().illustrate()\n",
    "        \n",
    "        \n",
    "class MonkeyDog(Monkey, Dog):\n",
    "    \n",
    "    def illustrate(self):\n",
    "        print('In MonkeyDog.illustrate, delegating to super')\n",
    "        super().illustrate()\n",
    "\n",
    "\n",
    "class DogMonkey(Dog, Monkey):\n",
    "\n",
    "    def illustrate(self):\n",
    "        print('In DogMonkey.illustrate, delegating to super')\n",
    "        super().illustrate()"
   ]
  },
  {
   "cell_type": "code",
   "execution_count": null,
   "metadata": {},
   "outputs": [],
   "source": [
    "md = MonkeyDog()\n",
    "dm = DogMonkey()\n",
    "m = Monkey()\n",
    "d = Dog()"
   ]
  },
  {
   "cell_type": "code",
   "execution_count": null,
   "metadata": {},
   "outputs": [],
   "source": [
    "m.illustrate()"
   ]
  },
  {
   "cell_type": "code",
   "execution_count": null,
   "metadata": {},
   "outputs": [],
   "source": [
    "d.illustrate()"
   ]
  },
  {
   "cell_type": "code",
   "execution_count": null,
   "metadata": {},
   "outputs": [],
   "source": [
    "md.illustrate()"
   ]
  },
  {
   "cell_type": "code",
   "execution_count": null,
   "metadata": {
    "scrolled": true
   },
   "outputs": [],
   "source": [
    "dm.illustrate()  # Python 2.7 & below, \"super(Quadruped, self)\""
   ]
  },
  {
   "cell_type": "code",
   "execution_count": null,
   "metadata": {},
   "outputs": [],
   "source": [
    "def superish(method_class, self):\n",
    "    mro = type(self).mro()\n",
    "    for i, cls  in enumerate(mro):\n",
    "        if cls == method_class:\n",
    "            break\n",
    "    return mro[i+1]"
   ]
  },
  {
   "cell_type": "code",
   "execution_count": null,
   "metadata": {},
   "outputs": [],
   "source": [
    "superish(Quadruped, dm)"
   ]
  },
  {
   "cell_type": "code",
   "execution_count": null,
   "metadata": {},
   "outputs": [],
   "source": [
    "superish(Quadruped, d)"
   ]
  },
  {
   "cell_type": "markdown",
   "metadata": {},
   "source": [
    "## Example: SocketServer\n",
    "\n",
    "Multiple dimensions of abstraction\n",
    "\n",
    "- Protocol: TCP vs UDP vs Unix\n",
    "- Concurrency: Threads vs Processes\n",
    "\n",
    "Solution: (at least in stdlib): (similar to this)...\n",
    "```python\n",
    "class SocketServer\n",
    "class UDPServer(SocketServer)\n",
    "class TCPServer(SocketServer)\n",
    "class ThreadingMixin\n",
    "class ForkingMixin\n",
    "class ThreadingTCPServer(ThreadingMixin, TCPServer): pass\n",
    "```"
   ]
  },
  {
   "cell_type": "code",
   "execution_count": null,
   "metadata": {},
   "outputs": [],
   "source": [
    "import socketserver\n",
    "socketserver.ThreadingTCPServer??"
   ]
  },
  {
   "cell_type": "code",
   "execution_count": null,
   "metadata": {},
   "outputs": [],
   "source": [
    "socketserver.ThreadingMixIn??"
   ]
  },
  {
   "cell_type": "code",
   "execution_count": null,
   "metadata": {},
   "outputs": [],
   "source": [
    "class PrettyMixin:\n",
    "    repr_format = 'detail goes here'\n",
    "\n",
    "    def __repr__(self):\n",
    "        detail = self.repr_format.format(self=self)\n",
    "        return f'<{type(self).__qualname__} {detail}>'"
   ]
  },
  {
   "cell_type": "code",
   "execution_count": null,
   "metadata": {},
   "outputs": [],
   "source": [
    "pm = PrettyMixin()\n",
    "pm"
   ]
  },
  {
   "cell_type": "code",
   "execution_count": null,
   "metadata": {},
   "outputs": [],
   "source": [
    "class SQLTable():\n",
    "    pass\n",
    "\n",
    "class SomethingElse(PrettyMixin, SQLTable):\n",
    "    repr_format = 'name={self.name}'\n",
    "    \n",
    "    def __init__(self):\n",
    "        self.name = 'Rick'"
   ]
  },
  {
   "cell_type": "code",
   "execution_count": null,
   "metadata": {},
   "outputs": [],
   "source": [
    "se = SomethingElse()\n",
    "se"
   ]
  },
  {
   "cell_type": "markdown",
   "metadata": {},
   "source": [
    "# Lab\n",
    "\n",
    "Open [OOP inheritance lab][oop-inheritance-lab]\n",
    "\n",
    "[oop-inheritance-lab]: ./oop-inheritance-lab.ipynb"
   ]
  }
 ],
 "metadata": {
  "kernelspec": {
   "display_name": "deep_discovery",
   "language": "python",
   "name": "python3"
  },
  "language_info": {
   "codemirror_mode": {
    "name": "ipython",
    "version": 3
   },
   "file_extension": ".py",
   "mimetype": "text/x-python",
   "name": "python",
   "nbconvert_exporter": "python",
   "pygments_lexer": "ipython3",
   "version": "3.8.10 | packaged by conda-forge | (default, May 11 2021, 06:39:48) \n[Clang 11.1.0 ]"
  },
  "vscode": {
   "interpreter": {
    "hash": "f5843dadf34720d1d49bd40b40c179895302ad51d2a706663a7036f5f983c84b"
   }
  }
 },
 "nbformat": 4,
 "nbformat_minor": 2
}
