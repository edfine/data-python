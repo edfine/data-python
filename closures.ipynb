{
 "cells": [
  {
   "cell_type": "markdown",
   "metadata": {
    "slideshow": {
     "slide_type": "slide"
    }
   },
   "source": [
    "# Functional Closures and Decorators\n",
    "\n",
    "Sometimes we may have \"cross-cutting\" concerns: functionality which is not related to the \"core\" functionality of a function:\n",
    "\n",
    "- logging\n",
    "- authentication\n",
    "- locking\n",
    "- entry of the function into a global registry\n",
    "\n",
    "Python has a syntax that uses two features of the language (scoping and first-class functions) to enable such operations to be separated from the core function.\n",
    "\n",
    "First, though, let's see if you can guess what the following code prints:"
   ]
  },
  {
   "cell_type": "code",
   "execution_count": null,
   "metadata": {},
   "outputs": [],
   "source": [
    "a = 5\n",
    "b = 12\n",
    "c = 30\n",
    "def foo():\n",
    "    a = 10\n",
    "    b = 15\n",
    "    print(f'1 => a={a}, b={b}, c={c}')  # '1 => a={}, b={}'.format(a, b)   Py 3.5+\n",
    "    def bar():\n",
    "        a = 20\n",
    "        print(f'2 => a={a}, b={b}, c={c}')\n",
    "    bar()\n",
    "    print(f'3 => a={a}, b={b}, c={c}')\n",
    "foo()\n",
    "print(f'4 => a={a}, b={b}, c={c}')\n"
   ]
  },
  {
   "cell_type": "markdown",
   "metadata": {
    "slideshow": {
     "slide_type": "subslide"
    }
   },
   "source": [
    "##  LEGB\n",
    "* In order to understand closures, let's review the Python scoping rules: LEGB\n",
    "  * L = local\n",
    "  * E = enclosing (i.e. `nonlocal`)\n",
    "  * G = global (i.e. `global`)\n",
    "  * B = builtin (e.g., len() function)\n",
    "  \n",
    "```python\n",
    "a = 'global scope'\n",
    "\n",
    "def outer_func():\n",
    "    b = 'local to outer_func()'\n",
    "    def inner_func():\n",
    "        c = 'local to inner_func()'\n",
    "        print(b, 'enclosing/nonlocal scope')\n",
    "        print(a, 'global scope')\n",
    "    return inner_func\n",
    "```\n",
    "                \n",
    "* When a function references a name that is not local, Python first attempts to resolve that name in the enclosing scope\n",
    "* A *closure* is a nested function which \"remembers\" a value or values from the enclosing lexical scope even when the program flow is no longer in the enclosing scope"
   ]
  },
  {
   "cell_type": "markdown",
   "metadata": {},
   "source": [
    "## `global` and `nonlocal` keywords\n",
    "\n",
    "Python scoping works as described above for *reading* values associated with names\n",
    "\n",
    "When **assigning** values, assignment is local *unless*\n",
    "\n",
    "- the value is declared as `global`, in which case it assigns globally\n",
    "- the value is declared as `nonlocal`, in which case it assigns to the \"nearest\" enclosing scope"
   ]
  },
  {
   "cell_type": "markdown",
   "metadata": {},
   "source": [
    "# Closures"
   ]
  },
  {
   "cell_type": "code",
   "execution_count": null,
   "metadata": {
    "slideshow": {
     "slide_type": "subslide"
    }
   },
   "outputs": [],
   "source": [
    "def make_adder(x):\n",
    "    \n",
    "    def adder(y):\n",
    "        return x + y # Python uses LEGB to find 'x'\n",
    "    \n",
    "    return adder"
   ]
  },
  {
   "cell_type": "code",
   "execution_count": null,
   "metadata": {
    "slideshow": {
     "slide_type": "subslide"
    }
   },
   "outputs": [],
   "source": [
    "add39 = make_adder(x=39)\n",
    "add39"
   ]
  },
  {
   "cell_type": "code",
   "execution_count": null,
   "metadata": {},
   "outputs": [],
   "source": [
    "add39(y=10)"
   ]
  },
  {
   "cell_type": "code",
   "execution_count": null,
   "metadata": {},
   "outputs": [],
   "source": [
    "add12 = make_adder(12)\n",
    "add12(10)"
   ]
  },
  {
   "cell_type": "code",
   "execution_count": null,
   "metadata": {},
   "outputs": [],
   "source": [
    "add39(10)"
   ]
  },
  {
   "cell_type": "markdown",
   "metadata": {},
   "source": [
    "(This is for enrichment, you will likely not need the details of implementation in your 'real' code)"
   ]
  },
  {
   "cell_type": "code",
   "execution_count": null,
   "metadata": {},
   "outputs": [],
   "source": [
    "add39.__closure__"
   ]
  },
  {
   "cell_type": "code",
   "execution_count": null,
   "metadata": {},
   "outputs": [],
   "source": [
    "cell = add39.__closure__[0]"
   ]
  },
  {
   "cell_type": "code",
   "execution_count": null,
   "metadata": {},
   "outputs": [],
   "source": [
    "cell.cell_contents"
   ]
  },
  {
   "cell_type": "code",
   "execution_count": null,
   "metadata": {},
   "outputs": [],
   "source": [
    "x = make_adder(39)\n",
    "x(10)"
   ]
  },
  {
   "cell_type": "code",
   "execution_count": null,
   "metadata": {},
   "outputs": [],
   "source": [
    "add6 = make_adder(6)"
   ]
  },
  {
   "cell_type": "code",
   "execution_count": null,
   "metadata": {},
   "outputs": [],
   "source": [
    "print(add6(10), add39(10))"
   ]
  },
  {
   "cell_type": "code",
   "execution_count": null,
   "metadata": {},
   "outputs": [],
   "source": [
    "# let's use repr so we can see the address of the function\n",
    "# we could use print(\"%X\") as well...\n",
    "#type(add39)\n",
    "repr(add39)"
   ]
  },
  {
   "cell_type": "code",
   "execution_count": null,
   "metadata": {},
   "outputs": [],
   "source": [
    "repr(add6)"
   ]
  },
  {
   "cell_type": "code",
   "execution_count": null,
   "metadata": {},
   "outputs": [],
   "source": [
    "from IPython.display import IFrame\n",
    "IFrame(\"\"\"\n",
    "https://pythontutor.com/iframe-embed.html#code=def%20make_adder%28x%29%3A%0A%20%20%20%20%0A%20%20%20%20def%20adder%28y%29%3A%0A%20%20%20%20%20%20%20%20return%20x%20%2B%20y%20%23%20Python%20uses%20LEGB%20to%20find%20'x'%0A%20%20%20%20%0A%20%20%20%20return%20adder%0A%20%20%20%20%0Aadd39%20%3D%20make_adder%2839%29%0Aadd6%20%3D%20make_adder%286%29%0Aprint%28add39%2812%29%29%0Aprint%28add6%285%29%29&codeDivHeight=400&codeDivWidth=350&cumulative=true&curInstr=0&heapPrimitives=nevernest&origin=opt-frontend.js&py=3&rawInputLstJSON=%5B%5D&textReferences=false\n",
    "\"\"\", width=800, height=500)"
   ]
  },
  {
   "cell_type": "markdown",
   "metadata": {
    "collapsed": true,
    "slideshow": {
     "slide_type": "subslide"
    }
   },
   "source": [
    "## Building function wrappers\n",
    "\n",
    "* One case where closures are frequently used is in building function wrappers\n",
    "* Suppose we want to log each invocation of a function:"
   ]
  },
  {
   "cell_type": "code",
   "execution_count": null,
   "metadata": {
    "slideshow": {
     "slide_type": "-"
    }
   },
   "outputs": [],
   "source": [
    "def myprinter(x):\n",
    "    print('The value of x is', x)"
   ]
  },
  {
   "cell_type": "code",
   "execution_count": null,
   "metadata": {},
   "outputs": [],
   "source": [
    "myprinter(22)"
   ]
  },
  {
   "cell_type": "code",
   "execution_count": null,
   "metadata": {
    "slideshow": {
     "slide_type": "-"
    }
   },
   "outputs": [],
   "source": [
    "def logging(function):\n",
    "    print('Wrapping {}'.format(function))\n",
    "    def wrapper(*args, **kwargs):\n",
    "        # print('Calling %r(%r, %r)' % (function, args, kwargs))\n",
    "        print(f'Calling {function!r}({args!r}, {kwargs!r})')\n",
    "        return function(*args, **kwargs)\n",
    "    return wrapper"
   ]
  },
  {
   "cell_type": "code",
   "execution_count": null,
   "metadata": {
    "slideshow": {
     "slide_type": "-"
    }
   },
   "outputs": [],
   "source": [
    "logging_myprinter = logging(myprinter)"
   ]
  },
  {
   "cell_type": "code",
   "execution_count": null,
   "metadata": {},
   "outputs": [],
   "source": [
    "logging_myprinter"
   ]
  },
  {
   "cell_type": "code",
   "execution_count": null,
   "metadata": {},
   "outputs": [],
   "source": [
    "myprinter(42)"
   ]
  },
  {
   "cell_type": "code",
   "execution_count": null,
   "metadata": {},
   "outputs": [],
   "source": [
    "logging_myprinter(42)"
   ]
  },
  {
   "cell_type": "code",
   "execution_count": null,
   "metadata": {},
   "outputs": [],
   "source": [
    "logging_myprinter(5)"
   ]
  },
  {
   "cell_type": "code",
   "execution_count": null,
   "metadata": {},
   "outputs": [],
   "source": [
    "def add2(x, y):\n",
    "    return x+y"
   ]
  },
  {
   "cell_type": "code",
   "execution_count": null,
   "metadata": {},
   "outputs": [],
   "source": [
    "logging_add2 = logging(add2)"
   ]
  },
  {
   "cell_type": "code",
   "execution_count": null,
   "metadata": {},
   "outputs": [],
   "source": [
    "logging_add2(10, 12)"
   ]
  },
  {
   "cell_type": "markdown",
   "metadata": {},
   "source": [
    "(again, for enrichment)"
   ]
  },
  {
   "cell_type": "code",
   "execution_count": null,
   "metadata": {
    "slideshow": {
     "slide_type": "subslide"
    }
   },
   "outputs": [],
   "source": [
    "logging_myprinter.__closure__[0].cell_contents"
   ]
  },
  {
   "cell_type": "markdown",
   "metadata": {},
   "source": [
    "(back to the main idea...)"
   ]
  },
  {
   "cell_type": "code",
   "execution_count": null,
   "metadata": {},
   "outputs": [],
   "source": [
    "myprinter = logging(myprinter)"
   ]
  },
  {
   "cell_type": "code",
   "execution_count": null,
   "metadata": {},
   "outputs": [],
   "source": [
    "myprinter"
   ]
  },
  {
   "cell_type": "code",
   "execution_count": null,
   "metadata": {},
   "outputs": [],
   "source": [
    "myprinter(5)"
   ]
  },
  {
   "cell_type": "code",
   "execution_count": null,
   "metadata": {},
   "outputs": [],
   "source": [
    "myprinter(22)"
   ]
  },
  {
   "cell_type": "code",
   "execution_count": null,
   "metadata": {},
   "outputs": [],
   "source": [
    "def myprinter(x):\n",
    "    print('The value of x is', x)\n",
    "myprinter = logging(myprinter)"
   ]
  },
  {
   "cell_type": "code",
   "execution_count": null,
   "metadata": {},
   "outputs": [],
   "source": [
    "@logging\n",
    "def myprinter(x):\n",
    "    print('The value of x is', x)"
   ]
  },
  {
   "cell_type": "code",
   "execution_count": null,
   "metadata": {
    "scrolled": true
   },
   "outputs": [],
   "source": [
    "myprinter(22)"
   ]
  },
  {
   "cell_type": "markdown",
   "metadata": {},
   "source": [
    "# Definition of 'function decorator'\n",
    "\n",
    "> A function that takes another function as its only argument and returns a replacement for the function that was passed in"
   ]
  },
  {
   "cell_type": "markdown",
   "metadata": {},
   "source": [
    "# Non-wrapping decorators"
   ]
  },
  {
   "cell_type": "code",
   "execution_count": null,
   "metadata": {},
   "outputs": [],
   "source": [
    "# Flask-like routing\n",
    "\n",
    "routes = {}  # map url => python function\n",
    "\n",
    "\n",
    "def route(path):   # \"decorator factory\" (returns a decorator)\n",
    "    print(f'Build route({path})')\n",
    "#     print('Build route({path})'.format(path=path))\n",
    "#     print('Build route(%s)' % path)\n",
    "    def decorator(function):   # decorator (takes a single function as input)\n",
    "        print(f'Call decorator({path})({function})')\n",
    "        routes[path] = function\n",
    "        # (no wrapping going on here)\n",
    "        return function\n",
    "    return decorator"
   ]
  },
  {
   "cell_type": "code",
   "execution_count": null,
   "metadata": {},
   "outputs": [],
   "source": [
    "@route('/')\n",
    "def get_home():\n",
    "    return 'Welcome'\n",
    "print('routes', routes)"
   ]
  },
  {
   "cell_type": "code",
   "execution_count": null,
   "metadata": {},
   "outputs": [],
   "source": [
    "# route_home_deco = route('/')\n",
    "# def get_home():\n",
    "#     return 'Welcome'\n",
    "# get_home = route_home_deco(get_home)\n",
    "\n",
    "@route('/about')\n",
    "def get_about():\n",
    "    return 'About us'\n",
    "print('routes', routes)"
   ]
  },
  {
   "cell_type": "code",
   "execution_count": null,
   "metadata": {},
   "outputs": [],
   "source": [
    "@route('/error')\n",
    "@route('/other_error')\n",
    "def get_error():\n",
    "    return '404'\n",
    "print('routes', routes)\n",
    "\n",
    "# route_error_decorator = route('/error')\n",
    "# route_other_error_decorator = route('/other_error')\n",
    "# def get_error():\n",
    "#     return '404'\n",
    "# get_error = route_other_error_decorator(get_error)\n",
    "# get_error = route_error_decorator(get_error)"
   ]
  },
  {
   "cell_type": "code",
   "execution_count": null,
   "metadata": {},
   "outputs": [],
   "source": [
    "routes"
   ]
  },
  {
   "cell_type": "code",
   "execution_count": null,
   "metadata": {},
   "outputs": [],
   "source": [
    "get_home"
   ]
  },
  {
   "cell_type": "code",
   "execution_count": null,
   "metadata": {},
   "outputs": [],
   "source": [
    "def run_request(routes, url):\n",
    "    function_to_call = routes[url]\n",
    "    return function_to_call()"
   ]
  },
  {
   "cell_type": "code",
   "execution_count": null,
   "metadata": {},
   "outputs": [],
   "source": [
    "run_request(routes, '/')"
   ]
  },
  {
   "cell_type": "code",
   "execution_count": null,
   "metadata": {},
   "outputs": [],
   "source": [
    "run_request(routes, '/about')"
   ]
  },
  {
   "cell_type": "code",
   "execution_count": null,
   "metadata": {},
   "outputs": [],
   "source": [
    "run_request(routes, '/error')"
   ]
  },
  {
   "cell_type": "markdown",
   "metadata": {},
   "source": [
    "Wrapping order matters...\n",
    "\n",
    "```python\n",
    "def with_api_client(func):\n",
    "    def wrapper(*args, **kwargs):\n",
    "        cli = get_client_function()\n",
    "        return func(cli, *args, **kwargs)\n",
    "    return wrapper\n",
    "\n",
    "\n",
    "@app.route('/patient/<patientId>')\n",
    "@with_api_client\n",
    "def get_patients(cli, patientId):\n",
    "    ...\n",
    "\n",
    "@with_api_client\n",
    "@app.route('/patient/<patientId>')\n",
    "def get_patients(cli, patientId):\n",
    "    ...\n",
    "```"
   ]
  },
  {
   "cell_type": "markdown",
   "metadata": {
    "collapsed": true
   },
   "source": [
    "```python\n",
    "@EXPR0  # (\n",
    "@EXPR1  # (\n",
    "def FUNC():\n",
    "    ...\n",
    "# ))\n",
    "```\n",
    "    \n",
    "... means nothing more than ...\n",
    "\n",
    "```python\n",
    "_temp0 = EXPR0\n",
    "_temp1 = EXPR1\n",
    "def FUNC():\n",
    "    ...\n",
    "FUNC = _temp1(FUNC)\n",
    "FUNC = _temp0(FUNC)\n",
    "```"
   ]
  },
  {
   "cell_type": "code",
   "execution_count": null,
   "metadata": {},
   "outputs": [],
   "source": [
    "def my_decorator_factory(a, b, c=5):   # decorator factory\n",
    "    print('calling my_decorator_factory')\n",
    "    def decorator(func):               # decorator\n",
    "        print('Calling decorator')\n",
    "        def wrapper(*args, **kwargs):  # wrapper\n",
    "            print(f'Calling wrapper with {a}, {b}, {c} on {func}')\n",
    "            return func(*args, **kwargs)\n",
    "        return wrapper\n",
    "    return decorator\n",
    "\n",
    "@my_decorator_factory('foo', 'bar')\n",
    "def somefunc(x, y):\n",
    "    return x + y"
   ]
  },
  {
   "cell_type": "code",
   "execution_count": null,
   "metadata": {},
   "outputs": [],
   "source": [
    "_deco = my_decorator_factory('foo', 'bar')\n",
    "def somefunc(x, y):\n",
    "    return x + y\n",
    "somefunc = _deco(somefunc)"
   ]
  },
  {
   "cell_type": "code",
   "execution_count": null,
   "metadata": {},
   "outputs": [],
   "source": [
    "somefunc(1, 2)"
   ]
  },
  {
   "cell_type": "code",
   "execution_count": null,
   "metadata": {},
   "outputs": [],
   "source": [
    "somefunc(5, 10)"
   ]
  },
  {
   "cell_type": "markdown",
   "metadata": {},
   "source": [
    "# Auth psuedo-code\n",
    "\n",
    "```python\n",
    "def authorize_or_403(perms):\n",
    "    ...\n",
    "    \n",
    "def require_authorized(perms):\n",
    "    def decorator(func):\n",
    "        @wraps(func)\n",
    "        def wrapper(*args, **kwargs):\n",
    "            authorize_or_403(perms)\n",
    "            return func(*args, **kwargs)\n",
    "        return wrapper\n",
    "    return decorator\n",
    "\n",
    "@route('/protected')\n",
    "def get_some_protected_thing():\n",
    "    authorize_or_403('Patient.read')\n",
    "    ...\n",
    "\n",
    "@route('/protected2')\n",
    "@require_authorized('Patient.read')\n",
    "def get_some_other_protected_thing():\n",
    "    ...\n",
    "```"
   ]
  },
  {
   "cell_type": "markdown",
   "metadata": {},
   "source": [
    "# Preserving introspection"
   ]
  },
  {
   "cell_type": "code",
   "execution_count": null,
   "metadata": {},
   "outputs": [],
   "source": [
    "def document_it(func):\n",
    "    \"This is my document_it docstring\"\n",
    "    # below is a nested, or inner function\n",
    "    def wrapper(*args, **kwargs):\n",
    "        \"wrapper docstring\"\n",
    "        print('Running function: {}'.format(func.__name__))\n",
    "        print('Positional arguments: {}'.format(args))\n",
    "        print('Keyword arguments: {}'.format(kwargs))\n",
    "        # here we invoke the function passed in as an argument\n",
    "        result = func(*args, **kwargs)\n",
    "        print('Result: {}'.format(result))\n",
    "        return result\n",
    "    \n",
    "    # document_it() is returning a reference to the inner function\n",
    "    return wrapper"
   ]
  },
  {
   "cell_type": "code",
   "execution_count": null,
   "metadata": {},
   "outputs": [],
   "source": [
    "@document_it\n",
    "def addit(x, y):\n",
    "    \"\"\"I heard I should use docstrings so here ya go\"\"\"\n",
    "    return x + y"
   ]
  },
  {
   "cell_type": "code",
   "execution_count": null,
   "metadata": {},
   "outputs": [],
   "source": [
    "addit(1,2)"
   ]
  },
  {
   "cell_type": "code",
   "execution_count": null,
   "metadata": {},
   "outputs": [],
   "source": [
    "help(addit)"
   ]
  },
  {
   "cell_type": "code",
   "execution_count": null,
   "metadata": {},
   "outputs": [],
   "source": [
    "addit"
   ]
  },
  {
   "cell_type": "code",
   "execution_count": null,
   "metadata": {},
   "outputs": [],
   "source": [
    "from functools import wraps\n",
    "\n",
    "def document_it(func):\n",
    "    \"\"\"This is the decorator docstring\"\"\"\n",
    "    # below is a nested, or inner function\n",
    "    @wraps(func)\n",
    "    def wrapper(*args, **kwargs):\n",
    "        \"\"\"This is the wrapper docstring\"\"\"\n",
    "        print('Running function: {}'.format(func.__name__))\n",
    "        print('Positional arguments: {}'.format(args))\n",
    "        print('Keyword arguments: {}'.format(kwargs))\n",
    "        # here we invoke the function passed in as an argument\n",
    "        result = func(*args, **kwargs)\n",
    "        print('Result: {}'.format(result))\n",
    "        return result\n",
    "    \n",
    "    # document_it() is returning a reference to the inner function\n",
    "    return wrapper"
   ]
  },
  {
   "cell_type": "code",
   "execution_count": null,
   "metadata": {},
   "outputs": [],
   "source": [
    "@document_it\n",
    "def addit(x, y):\n",
    "    \"\"\"I heard I should use docstrings so here ya go\"\"\"\n",
    "    return x + y"
   ]
  },
  {
   "cell_type": "code",
   "execution_count": null,
   "metadata": {},
   "outputs": [],
   "source": [
    "addit(1,2)"
   ]
  },
  {
   "cell_type": "code",
   "execution_count": null,
   "metadata": {},
   "outputs": [],
   "source": [
    "help(addit)"
   ]
  },
  {
   "cell_type": "code",
   "execution_count": null,
   "metadata": {},
   "outputs": [],
   "source": [
    "addit"
   ]
  },
  {
   "cell_type": "markdown",
   "metadata": {},
   "source": [
    "# Lab\n",
    "\n",
    "Open the [Closures Lab][closures-lab]\n",
    "\n",
    "[closures-lab]: ./closures-lab.ipynb\n"
   ]
  },
  {
   "cell_type": "code",
   "execution_count": null,
   "metadata": {},
   "outputs": [],
   "source": []
  }
 ],
 "metadata": {
  "kernelspec": {
   "display_name": "deep_discovery",
   "language": "python",
   "name": "python3"
  },
  "language_info": {
   "codemirror_mode": {
    "name": "ipython",
    "version": 3
   },
   "file_extension": ".py",
   "mimetype": "text/x-python",
   "name": "python",
   "nbconvert_exporter": "python",
   "pygments_lexer": "ipython3",
   "version": "3.8.10 | packaged by conda-forge | (default, May 11 2021, 06:39:48) \n[Clang 11.1.0 ]"
  },
  "vscode": {
   "interpreter": {
    "hash": "f5843dadf34720d1d49bd40b40c179895302ad51d2a706663a7036f5f983c84b"
   }
  }
 },
 "nbformat": 4,
 "nbformat_minor": 1
}
