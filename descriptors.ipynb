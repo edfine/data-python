{
 "cells": [
  {
   "cell_type": "markdown",
   "metadata": {},
   "source": [
    "# Descriptors\n",
    "\n",
    "... or \"ever wonder how `@property`, `@classmethod`, and `@staticmethod` work?\"\n",
    "\n",
    "**Descriptors** are object which contain one or more of the following magic methods, and which occur in a class body:\n",
    "\n",
    "- `__get__(self, inst, cls)` - called when the descriptor attribute is looked up (e.g. `getattr()`)\n",
    "- `__set__(self, inst, value)` - called when the descriptor attribute is set (e.g. `setattr()`)\n",
    "- `__delete__(self, inst)` - called when the descriptor attribute is deleted (e.g. `delattr()` or `del inst.attr`)\n",
    "- `__set_name__(self, cls, name)` - called to notify the descriptor of its name within the class"
   ]
  },
  {
   "cell_type": "code",
   "execution_count": null,
   "metadata": {},
   "outputs": [],
   "source": [
    "class MyDesc:\n",
    "    \n",
    "    def __get__(self, inst, cls):\n",
    "        # default behavior is something like return inst.__dict__[my_own_name]\n",
    "        print(f'Calling __get__({self}, {inst}, {cls})')\n",
    "        if inst is None:\n",
    "            return self\n",
    "\n",
    "    def __set__(self, inst, value):\n",
    "        print(f'Calling __set__({self}, {inst}, {value})')\n",
    "\n",
    "    def __delete__(self, inst):\n",
    "        print(f'Calling __delete__({self}, {inst})')\n",
    "        \n",
    "    def __set_name__(self, cls, name):\n",
    "        print(f'Setting name of the descriptor {self} in class {cls} to {name}')"
   ]
  },
  {
   "cell_type": "code",
   "execution_count": null,
   "metadata": {},
   "outputs": [],
   "source": [
    "the_descriptor = MyDesc()\n",
    "\n",
    "class MyClass:\n",
    "    a = the_descriptor       # a.__set_name__ is called at class creation time\n",
    "    b = the_descriptor\n",
    "    c = the_descriptor\n",
    "    d = MyDesc()\n",
    "    \n",
    "    def __repr__(self):\n",
    "        return '<Instance of MyClass>'"
   ]
  },
  {
   "cell_type": "markdown",
   "metadata": {},
   "source": [
    "```python\n",
    "# Psuedo-code for what's happening at class creation time\n",
    "for key, value in dct.items():\n",
    "    if hasattr(value, '__set_name__'):\n",
    "        value.__set_name__(key)\n",
    "```"
   ]
  },
  {
   "cell_type": "code",
   "execution_count": null,
   "metadata": {},
   "outputs": [],
   "source": [
    "myobj = MyClass()"
   ]
  },
  {
   "cell_type": "code",
   "execution_count": null,
   "metadata": {},
   "outputs": [],
   "source": [
    "MyClass.a   # invokes a.__get__(None, MyClass)"
   ]
  },
  {
   "cell_type": "code",
   "execution_count": null,
   "metadata": {},
   "outputs": [],
   "source": [
    "myobj.a     # invoke a.__get__(myobj, MyClass)"
   ]
  },
  {
   "cell_type": "code",
   "execution_count": null,
   "metadata": {},
   "outputs": [],
   "source": [
    "# MyClass.a = 5  # Overwrites the descriptor, so don't do this"
   ]
  },
  {
   "cell_type": "code",
   "execution_count": null,
   "metadata": {},
   "outputs": [],
   "source": [
    "myobj.a = 20   # invokes a.__set__(myobj, 20)"
   ]
  },
  {
   "cell_type": "code",
   "execution_count": null,
   "metadata": {},
   "outputs": [],
   "source": [
    "del myobj.a    # invokes a.__delete__(myobj)"
   ]
  },
  {
   "cell_type": "markdown",
   "metadata": {},
   "source": [
    "Let's re-implement `@property`:"
   ]
  },
  {
   "cell_type": "code",
   "execution_count": null,
   "metadata": {},
   "outputs": [],
   "source": [
    "class myproperty:\n",
    "\n",
    "    def __init__(self, getter, setter=None, deleter=None):\n",
    "        self._getter = getter\n",
    "        self._setter = setter\n",
    "        self._deleter = deleter\n",
    "        \n",
    "    def __get__(self, inst, cls):\n",
    "        print('Calling __get__')\n",
    "        if inst is None:\n",
    "            return self\n",
    "        return self._getter(inst)\n",
    "    \n",
    "    def __set__(self, inst, value):\n",
    "        print('Calling __set__')\n",
    "        if self._setter is None:\n",
    "            raise TypeError('value is read-only')\n",
    "        self._setter(inst, value)\n",
    "        \n",
    "    def __delete__(self, inst):\n",
    "        print('Calling __delete__')\n",
    "        if self._deleter is None:\n",
    "            raise TypeError('value is undeleteable')\n",
    "        self._deleter(inst)\n",
    "        \n",
    "    def setter(self, setter):\n",
    "        \"\"\"Decorator to add a setter\"\"\"\n",
    "        self._setter = setter\n",
    "        return self\n",
    "    \n",
    "    def deleter(self, deleter):\n",
    "        \"\"\"Decorator to add a deleter\"\"\"\n",
    "        self._deleter = deleter\n",
    "        return self"
   ]
  },
  {
   "cell_type": "code",
   "execution_count": null,
   "metadata": {},
   "outputs": [],
   "source": [
    "class Foo:   # Foo()    Foo(object)\n",
    "    \n",
    "    def get_bar(self):\n",
    "        print('Calling getter for bar')\n",
    "        return 'barval'\n",
    "    \n",
    "    def set_bar(self, value):\n",
    "        print('Calling setter for bar')\n",
    "\n",
    "    def del_bar(self):  # del foo.bar\n",
    "        print('Calling deleter for bar')\n",
    "        \n",
    "    bar = myproperty(get_bar, set_bar, del_bar)\n",
    "\n",
    "foo = Foo()"
   ]
  },
  {
   "cell_type": "code",
   "execution_count": null,
   "metadata": {},
   "outputs": [],
   "source": [
    "class Foo:   # Foo()    Foo(object)\n",
    "    \n",
    "    @myproperty\n",
    "    def bar(self):\n",
    "        print('Calling getter for bar')\n",
    "        return 'barval'\n",
    "    #bar = myproperty(bar)\n",
    "    \n",
    "    @bar.setter\n",
    "    def bar(self, value):\n",
    "        print('Calling setter for bar')\n",
    "    # bar is an instance of myproperty on this line\n",
    "        \n",
    "#     _tmp0 = bar.setter\n",
    "#     def bar(self, value):\n",
    "#         print('Calling the setter for bar')\n",
    "#     bar = _tmp0(bar)\n",
    "        \n",
    "    @bar.deleter\n",
    "    def bar(self):  # del foo.bar\n",
    "        print('Calling deleter for bar')\n",
    "\n",
    "foo = Foo()"
   ]
  },
  {
   "cell_type": "code",
   "execution_count": null,
   "metadata": {},
   "outputs": [],
   "source": [
    "Foo.__dict__['bar']"
   ]
  },
  {
   "cell_type": "code",
   "execution_count": null,
   "metadata": {},
   "outputs": [],
   "source": [
    "Foo.bar"
   ]
  },
  {
   "cell_type": "code",
   "execution_count": null,
   "metadata": {},
   "outputs": [],
   "source": [
    "foo.bar"
   ]
  },
  {
   "cell_type": "code",
   "execution_count": null,
   "metadata": {},
   "outputs": [],
   "source": [
    "foo.bar = 10"
   ]
  },
  {
   "cell_type": "code",
   "execution_count": null,
   "metadata": {},
   "outputs": [],
   "source": [
    "foo.bar"
   ]
  },
  {
   "cell_type": "code",
   "execution_count": null,
   "metadata": {},
   "outputs": [],
   "source": [
    "del foo.bar"
   ]
  },
  {
   "cell_type": "code",
   "execution_count": null,
   "metadata": {},
   "outputs": [],
   "source": [
    "Foo.bar"
   ]
  },
  {
   "cell_type": "markdown",
   "metadata": {},
   "source": [
    "## Descriptor types\n",
    "\n",
    "- A **data descriptor** is a descriptor that defines both `__get__` and `__set__`\n",
    "- A **non-data descriptor** is a descriptor that defines only `__get__`\n",
    "\n",
    "> Data and non-data descriptors differ in how overrides are calculated with respect to entries in an instance’s dictionary. If an instance’s dictionary has an entry with the same name as a data descriptor, the data descriptor takes precedence. If an instance’s dictionary has an entry with the same name as a non-data descriptor, the dictionary entry takes precedence.\n",
    "\n",
    "So order of precedence in attribute access is:\n",
    "\n",
    "- data descriptor\n",
    "- instance `__dict__`\n",
    "- non-data descriptor"
   ]
  },
  {
   "cell_type": "code",
   "execution_count": null,
   "metadata": {},
   "outputs": [],
   "source": [
    "class Foo(): \n",
    "    pass\n",
    "\n",
    "foo = Foo()\n",
    "foo.a = 5"
   ]
  },
  {
   "cell_type": "code",
   "execution_count": null,
   "metadata": {},
   "outputs": [],
   "source": [
    "foo.__dict__"
   ]
  },
  {
   "cell_type": "code",
   "execution_count": null,
   "metadata": {},
   "outputs": [],
   "source": [
    "class DataDescriptor:\n",
    "    \n",
    "    def __get__(self, obj, typ):\n",
    "        if obj is None:\n",
    "            return self\n",
    "        return 'data descriptor value'\n",
    "    \n",
    "    def __set__(self, obj, value):\n",
    "        # Just make it a read-only data descriptor\n",
    "        raise TypeError('read-only property')"
   ]
  },
  {
   "cell_type": "code",
   "execution_count": null,
   "metadata": {},
   "outputs": [],
   "source": [
    "class NonDataDescriptor:\n",
    "    \n",
    "    def __get__(self, obj, typ):\n",
    "        if obj is None:\n",
    "            return self\n",
    "        return 'non-data descriptor value'\n",
    "        "
   ]
  },
  {
   "cell_type": "code",
   "execution_count": null,
   "metadata": {},
   "outputs": [],
   "source": [
    "class MyClass:\n",
    "    data = DataDescriptor()\n",
    "    nondata = NonDataDescriptor()"
   ]
  },
  {
   "cell_type": "code",
   "execution_count": null,
   "metadata": {},
   "outputs": [],
   "source": [
    "obj = MyClass()\n",
    "obj.__dict__.update(\n",
    "    data='instance data',\n",
    "    nondata='instance nondata'\n",
    ")"
   ]
  },
  {
   "cell_type": "markdown",
   "metadata": {},
   "source": [
    "Data descriptors have precedence over instance data:"
   ]
  },
  {
   "cell_type": "code",
   "execution_count": null,
   "metadata": {},
   "outputs": [],
   "source": [
    "obj.data"
   ]
  },
  {
   "cell_type": "markdown",
   "metadata": {},
   "source": [
    "Instance data has precendence over non-data descriptors:"
   ]
  },
  {
   "cell_type": "code",
   "execution_count": null,
   "metadata": {},
   "outputs": [],
   "source": [
    "obj.nondata"
   ]
  },
  {
   "cell_type": "code",
   "execution_count": null,
   "metadata": {},
   "outputs": [],
   "source": [
    "obj.nondata = 'something else'   # puts the data in the instance dict"
   ]
  },
  {
   "cell_type": "code",
   "execution_count": null,
   "metadata": {},
   "outputs": [],
   "source": [
    "obj.nondata"
   ]
  },
  {
   "cell_type": "markdown",
   "metadata": {},
   "source": [
    "If we delete it from the instance dict, however, it _will_ invoke the non-data descriptor's `__get__` method"
   ]
  },
  {
   "cell_type": "code",
   "execution_count": null,
   "metadata": {},
   "outputs": [],
   "source": [
    "del obj.nondata"
   ]
  },
  {
   "cell_type": "code",
   "execution_count": null,
   "metadata": {},
   "outputs": [],
   "source": [
    "obj.nondata"
   ]
  },
  {
   "cell_type": "markdown",
   "metadata": {},
   "source": [
    "## Descriptor use case: cached property"
   ]
  },
  {
   "cell_type": "code",
   "execution_count": null,
   "metadata": {},
   "outputs": [],
   "source": [
    "class cached_property:  # \"reify\" is another name for this\n",
    "    \n",
    "    def __init__(self, getter):\n",
    "        self._getter = getter\n",
    "        self._name = None\n",
    "        \n",
    "    def __set_name__(self, cls, name):\n",
    "        self._name = name\n",
    "    \n",
    "    def __get__(self, inst, cls):\n",
    "        if inst is None:\n",
    "            return self\n",
    "        value = self._getter(inst)\n",
    "        setattr(inst, self._name, value) # put the value in the instance __dict__\n",
    "        # alternatively, inst.__dict__[name] = value\n",
    "        return value\n",
    "    \n",
    "#     def __set__(self, obj, value):\n",
    "#         obj.__dict__[self._name] = value"
   ]
  },
  {
   "cell_type": "code",
   "execution_count": null,
   "metadata": {},
   "outputs": [],
   "source": [
    "class CachedExample:\n",
    "    \n",
    "    @cached_property\n",
    "    def prop(self):\n",
    "        print('Calculating CachedExample.prop')\n",
    "        return 42\n"
   ]
  },
  {
   "cell_type": "code",
   "execution_count": null,
   "metadata": {},
   "outputs": [],
   "source": [
    "ce = CachedExample()"
   ]
  },
  {
   "cell_type": "code",
   "execution_count": null,
   "metadata": {},
   "outputs": [],
   "source": [
    "ce.prop # adds prop to ce.__dict__"
   ]
  },
  {
   "cell_type": "code",
   "execution_count": null,
   "metadata": {},
   "outputs": [],
   "source": [
    "ce.prop  # Since prop is non-data descriptor, it is not even accessed here"
   ]
  },
  {
   "cell_type": "code",
   "execution_count": null,
   "metadata": {},
   "outputs": [],
   "source": [
    "import sys\n",
    "sys.version_info"
   ]
  },
  {
   "cell_type": "markdown",
   "metadata": {},
   "source": [
    "In \"real life\", this is implemented in `functools.cached_property` (in Python 3.8+)\n",
    "\n",
    "```python\n",
    "import functools\n",
    "help(functools.cached_property)\n",
    "```"
   ]
  },
  {
   "cell_type": "code",
   "execution_count": null,
   "metadata": {},
   "outputs": [],
   "source": [
    "import functools\n",
    "help(functools.cached_property)"
   ]
  },
  {
   "cell_type": "code",
   "execution_count": null,
   "metadata": {},
   "outputs": [],
   "source": [
    "functools.cached_property??"
   ]
  },
  {
   "cell_type": "markdown",
   "metadata": {},
   "source": [
    "## (surprising) use case: plain vanilla methods\n",
    "\n",
    "(where does the `self` come from?)"
   ]
  },
  {
   "cell_type": "markdown",
   "metadata": {},
   "source": [
    "Let's implement a \"method\" (using the `__call__` magic method)"
   ]
  },
  {
   "cell_type": "code",
   "execution_count": null,
   "metadata": {},
   "outputs": [],
   "source": [
    "class BoundMethod:\n",
    "    def __init__(self, inst, function):\n",
    "        self._inst = inst\n",
    "        self._function = function\n",
    "        \n",
    "    def __repr__(self):\n",
    "        return f'<Bound method {self._inst!r}.{self._function!r}'\n",
    "    \n",
    "    def __call__(self, *args, **kwargs):\n",
    "        return self._function(self._inst, *args, **kwargs)\n",
    "        \n",
    "        \n",
    "class UnboundMethod:\n",
    "    def __init__(self, function):\n",
    "        self._function = function\n",
    "        \n",
    "    def __repr__(self):\n",
    "        return f'<Unbound method {self._function}'\n",
    "\n",
    "    def __call__(self, *args, **kwargs):\n",
    "        return self._function(*args, **kwargs)\n",
    "    \n",
    "    def __get__(self, inst, cls):\n",
    "        print(f\"Calling UnboundMethod.__get__({inst}, {cls})\")\n",
    "        if inst is None:\n",
    "            return self._function\n",
    "        else:\n",
    "            return BoundMethod(inst, self._function)"
   ]
  },
  {
   "cell_type": "code",
   "execution_count": null,
   "metadata": {},
   "outputs": [],
   "source": [
    "def amethod_function(self):\n",
    "    print(f'Calling amethod_function with self={self!r}')"
   ]
  },
  {
   "cell_type": "code",
   "execution_count": null,
   "metadata": {},
   "outputs": [],
   "source": [
    "class MyVeryStrangeClass:\n",
    "    def __init__(self, name):\n",
    "        self._name = name\n",
    "        \n",
    "    def __repr__(self):\n",
    "        return f'<VeryStrange {self._name!r}>'\n",
    "        \n",
    "    amethod = UnboundMethod(amethod_function)\n",
    "    \n",
    "    def regular_method(self):\n",
    "        print('Calling a regular method with', self)"
   ]
  },
  {
   "cell_type": "code",
   "execution_count": null,
   "metadata": {},
   "outputs": [],
   "source": [
    "MyVeryStrangeClass.amethod"
   ]
  },
  {
   "cell_type": "code",
   "execution_count": null,
   "metadata": {},
   "outputs": [],
   "source": [
    "MyVeryStrangeClass.regular_method"
   ]
  },
  {
   "cell_type": "code",
   "execution_count": null,
   "metadata": {},
   "outputs": [],
   "source": [
    "foo = MyVeryStrangeClass('foo')\n",
    "foo.amethod"
   ]
  },
  {
   "cell_type": "code",
   "execution_count": null,
   "metadata": {},
   "outputs": [],
   "source": [
    "foo.regular_method"
   ]
  },
  {
   "cell_type": "code",
   "execution_count": null,
   "metadata": {},
   "outputs": [],
   "source": [
    "foo.amethod()"
   ]
  },
  {
   "cell_type": "code",
   "execution_count": null,
   "metadata": {},
   "outputs": [],
   "source": [
    "foo.regular_method()"
   ]
  },
  {
   "cell_type": "markdown",
   "metadata": {},
   "source": [
    "**Surely** that can't be how it's implemented.... that would mean that Python functions actually have a `__get__` method...."
   ]
  },
  {
   "cell_type": "code",
   "execution_count": null,
   "metadata": {},
   "outputs": [],
   "source": [
    "amethod_function.__get__"
   ]
  },
  {
   "cell_type": "markdown",
   "metadata": {},
   "source": [
    "oh no..."
   ]
  },
  {
   "cell_type": "code",
   "execution_count": null,
   "metadata": {},
   "outputs": [],
   "source": [
    "amethod = amethod_function.__get__(foo, MyVeryStrangeClass)"
   ]
  },
  {
   "cell_type": "code",
   "execution_count": null,
   "metadata": {},
   "outputs": [],
   "source": [
    "amethod"
   ]
  },
  {
   "cell_type": "code",
   "execution_count": null,
   "metadata": {},
   "outputs": [],
   "source": [
    "amethod()"
   ]
  },
  {
   "cell_type": "markdown",
   "metadata": {},
   "source": [
    "Open [Descriptors Lab](./descriptors-lab.ipynb)"
   ]
  }
 ],
 "metadata": {
  "kernelspec": {
   "display_name": "deep_discovery",
   "language": "python",
   "name": "python3"
  },
  "language_info": {
   "codemirror_mode": {
    "name": "ipython",
    "version": 3
   },
   "file_extension": ".py",
   "mimetype": "text/x-python",
   "name": "python",
   "nbconvert_exporter": "python",
   "pygments_lexer": "ipython3",
   "version": "3.8.10 | packaged by conda-forge | (default, May 11 2021, 06:39:48) \n[Clang 11.1.0 ]"
  },
  "vscode": {
   "interpreter": {
    "hash": "f5843dadf34720d1d49bd40b40c179895302ad51d2a706663a7036f5f983c84b"
   }
  }
 },
 "nbformat": 4,
 "nbformat_minor": 1
}
