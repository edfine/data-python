{
 "cells": [
  {
   "cell_type": "markdown",
   "metadata": {},
   "source": [
    "### Class decorators: customizing class creation\n",
    "\n",
    "Recall that\n",
    "\n",
    "```python\n",
    "@foo\n",
    "def func(...):\n",
    "    ...\n",
    "```\n",
    "\n",
    "really means\n",
    "\n",
    "```python\n",
    "def func(...):\n",
    "    ...\n",
    "func = foo(func)\n",
    "```"
   ]
  },
  {
   "cell_type": "code",
   "execution_count": null,
   "metadata": {},
   "outputs": [],
   "source": [
    "def decorator_factory(a, b):\n",
    "    def decorator(function):\n",
    "        print(f'Decorating {function} with ({a}, {b}): {id(decorator)}')\n",
    "        def wrapper(*args, **kwargs):\n",
    "            print('Calling decorated function', a, b)\n",
    "            result = function(*args, **kwargs)\n",
    "            ...\n",
    "            return result\n",
    "        return wrapper\n",
    "    print(f'Creating decorator with args({a}, {b}): {id(decorator)}')\n",
    "    return decorator"
   ]
  },
  {
   "cell_type": "code",
   "execution_count": null,
   "metadata": {},
   "outputs": [],
   "source": [
    "deco = decorator_factory(1,2)"
   ]
  },
  {
   "cell_type": "code",
   "execution_count": null,
   "metadata": {
    "scrolled": false
   },
   "outputs": [],
   "source": [
    "@deco\n",
    "def my_cool_function(c, d, e):\n",
    "    print('cool: ', c, d, e)"
   ]
  },
  {
   "cell_type": "code",
   "execution_count": null,
   "metadata": {},
   "outputs": [],
   "source": [
    "my_cool_function"
   ]
  },
  {
   "cell_type": "code",
   "execution_count": null,
   "metadata": {},
   "outputs": [],
   "source": [
    "my_cool_function(10, 20, e=256)"
   ]
  },
  {
   "cell_type": "code",
   "execution_count": null,
   "metadata": {},
   "outputs": [],
   "source": [
    "@decorator_factory(1,2)\n",
    "def my_cool_function(c, d, e):\n",
    "    print('cool: ', c, d, e)"
   ]
  },
  {
   "cell_type": "code",
   "execution_count": null,
   "metadata": {},
   "outputs": [],
   "source": [
    "my_cool_function(5,6,7)"
   ]
  },
  {
   "cell_type": "markdown",
   "metadata": {},
   "source": [
    "```python\n",
    "@locking(the_vault)\n",
    "def transfer_money(a, b, amount):\n",
    "    pass\n",
    "```"
   ]
  },
  {
   "cell_type": "markdown",
   "metadata": {},
   "source": [
    "## So... let's decorate classes, as well..."
   ]
  },
  {
   "cell_type": "markdown",
   "metadata": {},
   "source": [
    "We can do the same with classes:\n",
    "\n",
    "```python\n",
    "@foo\n",
    "class Bar:\n",
    "    ...\n",
    "```\n",
    "\n",
    "means\n",
    "\n",
    "```python\n",
    "class Bar:\n",
    "    ...\n",
    "Bar = foo(Bar)\n",
    "```"
   ]
  },
  {
   "cell_type": "markdown",
   "metadata": {},
   "source": [
    "### Class decorators use case: create a registry of classes"
   ]
  },
  {
   "cell_type": "code",
   "execution_count": null,
   "metadata": {},
   "outputs": [],
   "source": [
    "class Registry:\n",
    "    \n",
    "    def __init__(self):\n",
    "        self._registry = {}\n",
    "\n",
    "    def register(self, cls):\n",
    "        \"\"\"This is to be used as a class decorator....\"\"\"\n",
    "        self._registry[cls.__name__] = cls\n",
    "        return cls\n",
    "\n",
    "    def __getitem__(self, name):\n",
    "        return self._registry[name]\n",
    "    \n",
    "r = Registry()"
   ]
  },
  {
   "cell_type": "code",
   "execution_count": null,
   "metadata": {},
   "outputs": [],
   "source": [
    "# \"Application\" code\n",
    "@r.register\n",
    "class Registered1:\n",
    "    pass\n",
    "\n",
    "#Registered1 = r.register(Registered1)\n",
    "\n",
    "@r.register\n",
    "class Registered2:\n",
    "    pass"
   ]
  },
  {
   "cell_type": "code",
   "execution_count": null,
   "metadata": {},
   "outputs": [],
   "source": [
    "r._registry"
   ]
  },
  {
   "cell_type": "code",
   "execution_count": null,
   "metadata": {},
   "outputs": [],
   "source": [
    "r['Registered1']"
   ]
  },
  {
   "cell_type": "code",
   "execution_count": null,
   "metadata": {},
   "outputs": [],
   "source": [
    "r['Registered2']"
   ]
  },
  {
   "cell_type": "markdown",
   "metadata": {},
   "source": [
    "Real-world examples: [Flask-RESTPlus][rest+], [Flask-SMOREST][smorest]\n",
    "\n",
    "[rest+]: https://flask-restplus.readthedocs.io/en/stable/quickstart.html#a-minimal-api\n",
    "[smorest]: https://flask-smorest.readthedocs.io/en/latest/quickstart.html"
   ]
  },
  {
   "cell_type": "markdown",
   "metadata": {},
   "source": [
    "### Class decorators use case: collect 'important' fields (ORM, schema library, etc.)\n",
    "\n",
    "We would like to write something like the following and have the class 'know' what the important fields are:\n",
    "\n",
    "```python\n",
    "@declarative\n",
    "class MyClass:\n",
    "    def __repr__(self):\n",
    "        return f\"<MyClass {' '.join(repr(i) for i in self._important)} >\"\n",
    "    \n",
    "    a = ImportantField(1)\n",
    "    b = ImportantField(2)\n",
    "    c = ImportantField(3, 'cfield')\n",
    "```"
   ]
  },
  {
   "cell_type": "code",
   "execution_count": null,
   "metadata": {},
   "outputs": [],
   "source": [
    "class ImportantField:\n",
    "    def __init__(self, value, name=None):\n",
    "        self.value = value\n",
    "        self.name = name\n",
    "        \n",
    "    def __repr__(self):\n",
    "        return f'<Important {self.name}: {self.value}>'\n",
    "        \n",
    "        \n",
    "def declarative(cls):\n",
    "    print('Running declarative() decorator')\n",
    "    _important = []\n",
    "    for name in dir(cls):\n",
    "        value = getattr(cls, name)\n",
    "        if isinstance(value, ImportantField):\n",
    "            if value.name is None:\n",
    "                value.name = name\n",
    "            _important.append(value)\n",
    "    cls._important = _important\n",
    "    return cls\n",
    "    \n",
    "@declarative\n",
    "class MyClass:\n",
    "    def __repr__(self):\n",
    "        return f\"<MyClass {' '.join(repr(i) for i in self._important)} >\"\n",
    "    \n",
    "    a = ImportantField(1)\n",
    "    b = ImportantField(2)\n",
    "    c = ImportantField(3, 'cfield')    "
   ]
  },
  {
   "cell_type": "code",
   "execution_count": null,
   "metadata": {},
   "outputs": [],
   "source": [
    "obj = MyClass()"
   ]
  },
  {
   "cell_type": "code",
   "execution_count": null,
   "metadata": {},
   "outputs": [],
   "source": [
    "obj"
   ]
  },
  {
   "cell_type": "code",
   "execution_count": null,
   "metadata": {},
   "outputs": [],
   "source": [
    "MyClass._important"
   ]
  },
  {
   "cell_type": "markdown",
   "metadata": {},
   "source": [
    "### Class decorators are _not_ inherited:"
   ]
  },
  {
   "cell_type": "code",
   "execution_count": null,
   "metadata": {},
   "outputs": [],
   "source": [
    "class OtherClass(MyClass):\n",
    "    d = ImportantField(5)"
   ]
  },
  {
   "cell_type": "code",
   "execution_count": null,
   "metadata": {},
   "outputs": [],
   "source": [
    "OtherClass()"
   ]
  },
  {
   "cell_type": "code",
   "execution_count": null,
   "metadata": {},
   "outputs": [],
   "source": [
    "@declarative\n",
    "class OtherClass(MyClass):\n",
    "    d = ImportantField(5)"
   ]
  },
  {
   "cell_type": "code",
   "execution_count": null,
   "metadata": {},
   "outputs": [],
   "source": [
    "OtherClass()"
   ]
  },
  {
   "cell_type": "markdown",
   "metadata": {},
   "source": [
    "## Use case/example: introduce a level of inheritance"
   ]
  },
  {
   "cell_type": "markdown",
   "metadata": {},
   "source": [
    "Example from Barin: \n",
    "    \n",
    "```python\n",
    "def cmap(collection):\n",
    "    '''decorator that marks a class as providing behavior for a collection'''\n",
    "    def decorator(cls):\n",
    "        mapped_cls = type(\n",
    "            cls.__name__, (cls, collection), {})\n",
    "        collection.m.registry.register_override(collection, mapped_cls)\n",
    "        return mapped_cls\n",
    "    return decorator\n",
    "\n",
    "\n",
    "@cmap(class_collection)\n",
    "class MyClass(library.MySuperClass):\n",
    "    a = SomeThing()\n",
    "    b = SomeThing()\n",
    "```"
   ]
  },
  {
   "cell_type": "markdown",
   "metadata": {},
   "source": [
    "Another real-world example: [DataClasses][dataclasses]\n",
    "\n",
    "[dataclasses]: https://docs.python.org/3/library/dataclasses.html"
   ]
  },
  {
   "cell_type": "markdown",
   "metadata": {},
   "source": [
    "Open [Class Decorators Lab](./class-decorators-lab.ipynb)"
   ]
  }
 ],
 "metadata": {
  "kernelspec": {
   "display_name": "deep_discovery",
   "language": "python",
   "name": "python3"
  },
  "language_info": {
   "codemirror_mode": {
    "name": "ipython",
    "version": 3
   },
   "file_extension": ".py",
   "mimetype": "text/x-python",
   "name": "python",
   "nbconvert_exporter": "python",
   "pygments_lexer": "ipython3",
   "version": "3.8.10 | packaged by conda-forge | (default, May 11 2021, 06:39:48) \n[Clang 11.1.0 ]"
  },
  "vscode": {
   "interpreter": {
    "hash": "f5843dadf34720d1d49bd40b40c179895302ad51d2a706663a7036f5f983c84b"
   }
  }
 },
 "nbformat": 4,
 "nbformat_minor": 1
}
