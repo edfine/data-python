{
 "cells": [
  {
   "cell_type": "markdown",
   "metadata": {},
   "source": [
    "# Lab\n",
    "\n",
    "Using the following code as a basis, use async methods to fetch the temperatures in the given cities:"
   ]
  },
  {
   "cell_type": "code",
   "execution_count": 1,
   "metadata": {},
   "outputs": [],
   "source": [
    "APPID = '10d4440bbaa8581bb8da9bd1fbea5617'\n",
    "UNITS = 'metric'\n",
    "# UNITS = 'imperial'\n",
    "cities = [\n",
    "    'Boulder', 'Atlanta', 'San Francisco',\n",
    "    'Reno', 'Honolulu', 'Zurich', 'Dubai',\n",
    "    'Dublin','Stuttgart', 'Rome', 'Singapore', \n",
    "    'Bangalore', 'Hyderabad', 'Seattle',\n",
    "]\n",
    "\n",
    "from aiohttp_requests import requests\n",
    "\n",
    "async def get_temp(city, units=UNITS, appid=APPID):\n",
    "    url = 'http://api.openweathermap.org/data/2.5/weather'\n",
    "    resp = await requests.get(url, params={\n",
    "        'q': city,\n",
    "        'units': units,\n",
    "        'appid': appid,        \n",
    "    })\n",
    "    resp.raise_for_status()\n",
    "    json_data = await resp.json()\n",
    "    temp = json_data['main']['temp']\n",
    "    return temp"
   ]
  },
  {
   "cell_type": "code",
   "execution_count": 2,
   "metadata": {},
   "outputs": [
    {
     "data": {
      "text/plain": [
       "[<coroutine object get_temp at 0x7fe3fce63340>,\n",
       " <coroutine object get_temp at 0x7fe3fce633c0>,\n",
       " <coroutine object get_temp at 0x7fe3fce63440>,\n",
       " <coroutine object get_temp at 0x7fe3fce634c0>,\n",
       " <coroutine object get_temp at 0x7fe3fce63540>,\n",
       " <coroutine object get_temp at 0x7fe3fce635c0>,\n",
       " <coroutine object get_temp at 0x7fe3fce63640>,\n",
       " <coroutine object get_temp at 0x7fe3fce636c0>,\n",
       " <coroutine object get_temp at 0x7fe3fce63740>,\n",
       " <coroutine object get_temp at 0x7fe3fce63840>,\n",
       " <coroutine object get_temp at 0x7fe3fce638c0>,\n",
       " <coroutine object get_temp at 0x7fe3fce63940>,\n",
       " <coroutine object get_temp at 0x7fe3fce639c0>,\n",
       " <coroutine object get_temp at 0x7fe3fce63a40>]"
      ]
     },
     "execution_count": 2,
     "metadata": {},
     "output_type": "execute_result"
    }
   ],
   "source": [
    "import asyncio\n",
    "\n",
    "coroutines = [get_temp(city) for city in cities]\n",
    "\n",
    "coroutines"
   ]
  },
  {
   "cell_type": "code",
   "execution_count": 3,
   "metadata": {},
   "outputs": [],
   "source": [
    "result = await asyncio.gather(*coroutines)\n",
    "# result = await asyncio.gather(coroutines[0], coroutines[1], ...)"
   ]
  },
  {
   "cell_type": "markdown",
   "metadata": {},
   "source": [
    "See also multiprocessing.Pool.[map, imap, imap_unordered]"
   ]
  },
  {
   "cell_type": "code",
   "execution_count": 4,
   "metadata": {},
   "outputs": [
    {
     "data": {
      "text/plain": [
       "[26.26,\n",
       " 29.98,\n",
       " 21.84,\n",
       " 15.14,\n",
       " 28.55,\n",
       " 9.71,\n",
       " 32.54,\n",
       " 22.51,\n",
       " 9.48,\n",
       " 29.78,\n",
       " 25.98,\n",
       " 18.9,\n",
       " 23.73,\n",
       " 23.36]"
      ]
     },
     "execution_count": 4,
     "metadata": {},
     "output_type": "execute_result"
    }
   ],
   "source": [
    "result"
   ]
  },
  {
   "cell_type": "code",
   "execution_count": 5,
   "metadata": {},
   "outputs": [
    {
     "data": {
      "text/plain": [
       "['Boulder',\n",
       " 'Atlanta',\n",
       " 'San Francisco',\n",
       " 'Reno',\n",
       " 'Honolulu',\n",
       " 'Zurich',\n",
       " 'Dubai',\n",
       " 'Dublin',\n",
       " 'Stuttgart',\n",
       " 'Rome',\n",
       " 'Singapore',\n",
       " 'Bangalore',\n",
       " 'Hyderabad',\n",
       " 'Seattle']"
      ]
     },
     "execution_count": 5,
     "metadata": {},
     "output_type": "execute_result"
    }
   ],
   "source": [
    "cities"
   ]
  },
  {
   "cell_type": "code",
   "execution_count": 6,
   "metadata": {},
   "outputs": [
    {
     "data": {
      "text/plain": [
       "{'Boulder': 26.26,\n",
       " 'Atlanta': 29.98,\n",
       " 'San Francisco': 21.84,\n",
       " 'Reno': 15.14,\n",
       " 'Honolulu': 28.55,\n",
       " 'Zurich': 9.71,\n",
       " 'Dubai': 32.54,\n",
       " 'Dublin': 22.51,\n",
       " 'Stuttgart': 9.48,\n",
       " 'Rome': 29.78,\n",
       " 'Singapore': 25.98,\n",
       " 'Bangalore': 18.9,\n",
       " 'Hyderabad': 23.73,\n",
       " 'Seattle': 23.36}"
      ]
     },
     "execution_count": 6,
     "metadata": {},
     "output_type": "execute_result"
    }
   ],
   "source": [
    "dict(zip(cities, result))"
   ]
  },
  {
   "cell_type": "code",
   "execution_count": 7,
   "metadata": {},
   "outputs": [],
   "source": [
    "async def serialized():\n",
    "    result = []\n",
    "    for city in cities:\n",
    "        result.append(await get_temp(city))\n",
    "    return result"
   ]
  },
  {
   "cell_type": "code",
   "execution_count": 8,
   "metadata": {},
   "outputs": [],
   "source": [
    "result = await serialized()"
   ]
  },
  {
   "cell_type": "code",
   "execution_count": 9,
   "metadata": {},
   "outputs": [
    {
     "data": {
      "text/plain": [
       "[26.26,\n",
       " 29.81,\n",
       " 21.84,\n",
       " 15.18,\n",
       " 28.55,\n",
       " 9.71,\n",
       " 32.54,\n",
       " 22.5,\n",
       " 9.48,\n",
       " 29.81,\n",
       " 25.98,\n",
       " 18.9,\n",
       " 23.73,\n",
       " 23.46]"
      ]
     },
     "execution_count": 9,
     "metadata": {},
     "output_type": "execute_result"
    }
   ],
   "source": [
    "result"
   ]
  },
  {
   "cell_type": "markdown",
   "metadata": {},
   "source": [
    "How about queues?"
   ]
  },
  {
   "cell_type": "code",
   "execution_count": 10,
   "metadata": {},
   "outputs": [],
   "source": [
    "from asyncio import Queue"
   ]
  },
  {
   "cell_type": "code",
   "execution_count": 11,
   "metadata": {},
   "outputs": [],
   "source": [
    "q = Queue()\n",
    "\n",
    "async def worker(i, q):\n",
    "    while True:\n",
    "        city = await q.get()\n",
    "        temp = await get_temp(city)\n",
    "        print(i, city, temp)"
   ]
  },
  {
   "cell_type": "code",
   "execution_count": 12,
   "metadata": {},
   "outputs": [],
   "source": [
    "for city in cities:\n",
    "    await q.put(city)"
   ]
  },
  {
   "cell_type": "code",
   "execution_count": 13,
   "metadata": {},
   "outputs": [],
   "source": [
    "workers = [worker(i, q) for i in range(4)]"
   ]
  },
  {
   "cell_type": "code",
   "execution_count": 14,
   "metadata": {},
   "outputs": [
    {
     "name": "stdout",
     "output_type": "stream",
     "text": [
      "0 Boulder 26.26\n",
      "1 Atlanta 29.98\n",
      "2 San Francisco 21.84\n",
      "3 Reno 15.18\n",
      "0 Honolulu 28.55\n",
      "1 Zurich 9.71\n",
      "2 Dubai 32.54\n",
      "0 Stuttgart 9.48\n",
      "3 Dublin 22.5\n",
      "1 Rome 29.81\n",
      "0 Bangalore 18.9\n",
      "2 Singapore 25.98\n",
      "3 Hyderabad 23.73\n",
      "1 Seattle 23.36\n"
     ]
    }
   ],
   "source": [
    "loop = asyncio.get_event_loop()\n",
    "for w in workers:\n",
    "    loop.create_task(w)"
   ]
  },
  {
   "cell_type": "code",
   "execution_count": null,
   "metadata": {},
   "outputs": [],
   "source": []
  }
 ],
 "metadata": {
  "kernelspec": {
   "display_name": "Python 3",
   "language": "python",
   "name": "python3"
  },
  "language_info": {
   "codemirror_mode": {
    "name": "ipython",
    "version": 3
   },
   "file_extension": ".py",
   "mimetype": "text/x-python",
   "name": "python",
   "nbconvert_exporter": "python",
   "pygments_lexer": "ipython3",
   "version": "3.8.5"
  }
 },
 "nbformat": 4,
 "nbformat_minor": 2
}
