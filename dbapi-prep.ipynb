{
 "cells": [
  {
   "cell_type": "code",
   "execution_count": null,
   "metadata": {},
   "outputs": [],
   "source": [
    "!pip install sqlalchemy"
   ]
  },
  {
   "cell_type": "code",
   "execution_count": null,
   "metadata": {},
   "outputs": [],
   "source": [
    "import pymysql\n",
    "import getpass\n",
    "import pandas as pd\n",
    "import sqlalchemy as sa"
   ]
  },
  {
   "cell_type": "code",
   "execution_count": null,
   "metadata": {},
   "outputs": [],
   "source": [
    "password = getpass.getpass('Admin password?')"
   ]
  },
  {
   "cell_type": "code",
   "execution_count": null,
   "metadata": {},
   "outputs": [],
   "source": [
    "password = 'r*X87M5YhEzzRnE'"
   ]
  },
  {
   "cell_type": "code",
   "execution_count": null,
   "metadata": {},
   "outputs": [],
   "source": [
    "host = 'database-1.c9zriyyu6mtc.us-east-1.rds.amazonaws.com'\n",
    "conn = pymysql.connect(\n",
    "    host=host,\n",
    "    user='admin',\n",
    "    port=3306,\n",
    "    password=password,\n",
    ")"
   ]
  },
  {
   "cell_type": "code",
   "execution_count": null,
   "metadata": {},
   "outputs": [],
   "source": [
    "with conn.cursor() as c:\n",
    "    c.execute('DROP DATABASE class')\n",
    "    c.execute(\"DROP USER 'newuser'\")"
   ]
  },
  {
   "cell_type": "code",
   "execution_count": null,
   "metadata": {},
   "outputs": [],
   "source": [
    "with conn.cursor() as c:\n",
    "    c.execute(f'CREATE DATABASE class')\n",
    "    c.execute(f\"CREATE USER 'newuser' IDENTIFIED BY 'password'\")\n",
    "    c.execute(f\"GRANT ALL PRIVILEGES ON class . * TO 'newuser'\")"
   ]
  },
  {
   "cell_type": "code",
   "execution_count": null,
   "metadata": {},
   "outputs": [],
   "source": [
    "conn = pymysql.connect(\n",
    "    host=host,\n",
    "    user='newuser',\n",
    "    password='password',\n",
    "    db='class'\n",
    ")"
   ]
  },
  {
   "cell_type": "code",
   "execution_count": null,
   "metadata": {},
   "outputs": [],
   "source": [
    "transactions = pd.read_csv('./data/Sacramentorealestatetransactions.csv')\n",
    "transactions.head()"
   ]
  },
  {
   "cell_type": "code",
   "execution_count": null,
   "metadata": {},
   "outputs": [],
   "source": [
    "engine = sa.create_engine(f'mysql+pymysql://newuser:password@{host}/class')\n",
    "transactions.to_sql('transactions', engine)"
   ]
  },
  {
   "cell_type": "code",
   "execution_count": null,
   "metadata": {},
   "outputs": [],
   "source": [
    "stocks = pd.read_csv('./data/closing-prices.csv', index_col=0)\n",
    "stocks.head()"
   ]
  },
  {
   "cell_type": "code",
   "execution_count": null,
   "metadata": {},
   "outputs": [],
   "source": [
    "def segment(symbol):\n",
    "    stocks_values = pd.DataFrame(stocks[symbol])\n",
    "    stocks_values.index.name = 'date'\n",
    "    stocks_values['symbol'] = symbol\n",
    "    stocks_values = stocks_values.reset_index()\n",
    "    cols = stocks_values.columns\n",
    "    print(cols)\n",
    "    stocks_values.columns = 'date price symbol'.split()\n",
    "    return stocks_values\n"
   ]
  },
  {
   "cell_type": "code",
   "execution_count": null,
   "metadata": {},
   "outputs": [],
   "source": [
    "stock_table_data = pd.concat([segment(symbol) for symbol in 'F TSLA GOOG IBM AAPL'.split()])\n",
    "stock_table_data.shape"
   ]
  },
  {
   "cell_type": "code",
   "execution_count": null,
   "metadata": {},
   "outputs": [],
   "source": [
    "stock_table_data.head()"
   ]
  },
  {
   "cell_type": "code",
   "execution_count": null,
   "metadata": {},
   "outputs": [],
   "source": [
    "import sqlite3\n",
    "with sqlite3.connect('./data/stocks.db') as scon:\n",
    "    stock_table_data.to_sql('stocks_data', scon, index=False, if_exists='replace')"
   ]
  },
  {
   "cell_type": "code",
   "execution_count": null,
   "metadata": {},
   "outputs": [],
   "source": [
    "states = pd.read_csv('./data/states.csv') # , index_col=['Abbreviation'])\n",
    "states.head()"
   ]
  },
  {
   "cell_type": "code",
   "execution_count": null,
   "metadata": {},
   "outputs": [],
   "source": [
    "engine = sa.create_engine(f'mysql+pymysql://newuser:password@{host}/class')\n",
    "states.to_sql('states', engine)"
   ]
  },
  {
   "cell_type": "code",
   "execution_count": null,
   "metadata": {},
   "outputs": [],
   "source": []
  }
 ],
 "metadata": {
  "kernelspec": {
   "display_name": "Python 3",
   "language": "python",
   "name": "python3"
  },
  "language_info": {
   "codemirror_mode": {
    "name": "ipython",
    "version": 3
   },
   "file_extension": ".py",
   "mimetype": "text/x-python",
   "name": "python",
   "nbconvert_exporter": "python",
   "pygments_lexer": "ipython3",
   "version": "3.8.5"
  }
 },
 "nbformat": 4,
 "nbformat_minor": 2
}
