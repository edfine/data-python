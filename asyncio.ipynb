{
    "cells": [
        {
            "cell_type": "markdown",
            "metadata": {},
            "source": [
                "# Concurrency, parallelism, and asynchronous I/O\n",
                "\n",
                "## Concurrency\n",
                "\n",
                "> the appearance of doing more than one thing at a time (can be time-sliced)\n",
                "\n",
                "- Easy to do with the `threading` or `multiprocessing` libraries in Python\n",
                "- `libevent`, `gevent`, etc. provide concurrency as well\n",
                "\n",
                "## Parallelism\n",
                "\n",
                "> *actually* doing more than one thing at a time (multi-core/hyperthreading/distributed)\n",
                "\n",
                "- The GIL prevents this in many *threaded* environments (**including** `libevent`, `gevent`, etc.)\n",
                "\n",
                "## Asynchronous programming\n",
                "\n",
                "> programming style where rather than blocking on I/O, we find something useful to do, and \"come back\" to the I/O later\n",
                "\n",
                "- `twisted` did this with reactors and callbacks\n",
                "- `libevent`, `gevent`, et. al. are *implicitly asynchronous* (things that would block in a thread instead yield to\n",
                "an **event loop**, which finds something useful to do\n",
                "- In Py3, (particularly 3.6+), we have an *explicitly asynchronous* style we can use (and 3.7 added `async`/`await` syntax to support it)"
            ]
        },
        {
            "cell_type": "markdown",
            "metadata": {},
            "source": [
                "# Raise StopIteration(value)"
            ]
        },
        {
            "cell_type": "code",
            "execution_count": null,
            "metadata": {},
            "outputs": [],
            "source": [
                "def mygen():\n",
                "    if False:\n",
                "        yield 'wait on data'   # event to wait on\n",
                "    return 'Something'         # actual return value"
            ]
        },
        {
            "cell_type": "code",
            "execution_count": null,
            "metadata": {},
            "outputs": [],
            "source": [
                "gen = mygen()\n",
                "gen"
            ]
        },
        {
            "cell_type": "code",
            "execution_count": null,
            "metadata": {},
            "outputs": [],
            "source": [
                "next(gen)"
            ]
        },
        {
            "cell_type": "code",
            "execution_count": null,
            "metadata": {},
            "outputs": [],
            "source": [
                "def myprint():\n",
                "    value = yield from mygen()  # data = yield from socket.recv(...)\n",
                "    print('Value was', value)"
            ]
        },
        {
            "cell_type": "code",
            "execution_count": null,
            "metadata": {},
            "outputs": [],
            "source": [
                "for event in myprint():\n",
                "    print('got event', event)"
            ]
        },
        {
            "cell_type": "code",
            "execution_count": null,
            "metadata": {},
            "outputs": [],
            "source": [
                "import sys\n",
                "sys.version_info"
            ]
        },
        {
            "cell_type": "markdown",
            "metadata": {},
            "source": [
                "Asyncio in Py3.4-3.5"
            ]
        },
        {
            "cell_type": "code",
            "execution_count": null,
            "metadata": {},
            "outputs": [],
            "source": [
                "%%file data/asyncio-examples/asyncio-old.py\n",
                "import asyncio\n",
                "import logging\n",
                "\n",
                "logging.basicConfig(\n",
                "    level=logging.INFO,\n",
                "    format='%(asctime)s %(levelname)s:%(name)s:%(message)s')\n",
                "\n",
                "log = logging.getLogger()\n",
                "\n",
                "def main():\n",
                "    loop = asyncio.get_event_loop()    \n",
                "    loop.run_until_complete(asyncio.gather(coroutine_1(), coroutine_2()))\n",
                "    #loop.run_until_complete(asyncio.gather(coroutine_2(), coroutine_1()))\n",
                "    \n",
                "@asyncio.coroutine\n",
                "def coroutine_1():\n",
                "    log.info('coroutine_1 is active on the event loop')\n",
                "\n",
                "    log.info('coroutine_1 yielding control. Going to be blocked for 4 seconds')\n",
                "    yield from asyncio.sleep(4)\n",
                "    # data = yield from async_aware_socket.recv(100)\n",
                "\n",
                "    log.info('coroutine_1 resumed. coroutine_1 exiting')\n",
                "    \n",
                "\n",
                "@asyncio.coroutine\n",
                "def coroutine_2():\n",
                "    log.info('coroutine_2 is active on the event loop')\n",
                "\n",
                "    log.info('coroutine_2 yielding control. Going to be blocked for 5 seconds')\n",
                "    yield from asyncio.sleep(5)\n",
                "\n",
                "    log.info('coroutine_2 resumed. coroutine_2 exiting')\n",
                "    \n",
                "\n",
                "if __name__ == '__main__':\n",
                "    main()"
            ]
        },
        {
            "cell_type": "code",
            "execution_count": null,
            "metadata": {},
            "outputs": [],
            "source": [
                "!python data/asyncio-examples/asyncio-old.py"
            ]
        },
        {
            "cell_type": "markdown",
            "metadata": {},
            "source": [
                "Asyncio with `async/await`"
            ]
        },
        {
            "cell_type": "code",
            "execution_count": null,
            "metadata": {},
            "outputs": [],
            "source": [
                "%%file data/asyncio-examples/asyncio-new.py\n",
                "import asyncio\n",
                "import logging\n",
                "\n",
                "logging.basicConfig(\n",
                "    level=logging.INFO,\n",
                "    format='%(asctime)s %(levelname)s:%(name)s:%(message)s')\n",
                "\n",
                "log = logging.getLogger()\n",
                "\n",
                "def main():\n",
                "    loop = asyncio.get_event_loop()    \n",
                "    loop.run_until_complete(asyncio.gather(coroutine_1(), coroutine_2()))\n",
                "    \n",
                "    \n",
                "async def coroutine_1():\n",
                "    log.info('coroutine_1 is active on the event loop')\n",
                "\n",
                "    log.info('coroutine_1 yielding control. Going to be blocked for 4 seconds')\n",
                "    value = await asyncio.sleep(4)\n",
                "\n",
                "    log.info('coroutine_1 resumed. coroutine_1 exiting with %s', value)\n",
                "    \n",
                "\n",
                "async def coroutine_2():\n",
                "    log.info('coroutine_2 is active on the event loop')\n",
                "\n",
                "    log.info('coroutine_2 yielding control. Going to be blocked for 5 seconds')\n",
                "    await asyncio.sleep(5)\n",
                "\n",
                "    log.info('coroutine_2 resumed. coroutine_2 exiting')\n",
                "    \n",
                "\n",
                "if __name__ == '__main__':\n",
                "    main()"
            ]
        },
        {
            "cell_type": "code",
            "execution_count": null,
            "metadata": {},
            "outputs": [],
            "source": [
                "!python data/asyncio-examples/asyncio-new.py"
            ]
        },
        {
            "cell_type": "markdown",
            "metadata": {},
            "source": [
                "Slightly more complex: simple web crawler"
            ]
        },
        {
            "cell_type": "code",
            "execution_count": null,
            "metadata": {
                "scrolled": true
            },
            "outputs": [],
            "source": [
                "!pip install aiohttp-requests beautifulsoup4"
            ]
        },
        {
            "cell_type": "code",
            "execution_count": null,
            "metadata": {},
            "outputs": [],
            "source": [
                "from urllib.parse import urljoin, splittype\n",
                "urljoin('https://www.python.org', 'email:edward.fine@afinepoint.net')"
            ]
        },
        {
            "cell_type": "code",
            "execution_count": null,
            "metadata": {},
            "outputs": [],
            "source": [
                "urljoin('https://www.python.org/jobs/', 'Atlanta')"
            ]
        },
        {
            "cell_type": "code",
            "execution_count": null,
            "metadata": {},
            "outputs": [],
            "source": [
                "from urllib.parse import urljoin, splittype\n",
                "\n",
                "import bs4\n",
                "from aiohttp_requests import requests\n",
                "\n",
                "async def get_links(url):\n",
                "    response = await requests.get(url)\n",
                "    if 'text/html' not in response.headers.get('content-type', 'text/html'):\n",
                "        return\n",
                "    text = await response.text()\n",
                "    soup = bs4.BeautifulSoup(text, 'html.parser')\n",
                "    hrefs = (a.attrs.get('href') for a in soup.find_all('a'))\n",
                "    hrefs = (href for href in hrefs if href)\n",
                "    hrefs = (urljoin(url, href) for href in hrefs)\n",
                "    hrefs = (href for href in hrefs if splittype(href)[0] in ('http', 'https'))\n",
                "    hrefs = (href.split('#')[0] for href in hrefs)\n",
                "    return hrefs"
            ]
        },
        {
            "cell_type": "code",
            "execution_count": null,
            "metadata": {},
            "outputs": [],
            "source": [
                "import re\n",
                "import asyncio\n",
                "from urllib.parse import urlparse\n",
                "\n",
                "hrefs_seen = set()\n",
                "is_python = re.compile(r'www\\.python\\.org')\n",
                "queue = asyncio.Queue()\n",
                "\n",
                "def valid_host(href):\n",
                "    pr = urlparse(href)\n",
                "    return is_python.search(pr.netloc)\n",
                "\n",
                "async def enqueue_url(url):\n",
                "    if url not in hrefs_seen and valid_host(url):\n",
                "        hrefs_seen.add(url)\n",
                "        await queue.put(url)\n",
                "        \n",
                "async def handle_page(url):\n",
                "    print(f'Handling {url}')\n",
                "    for link in await get_links(url):\n",
                "        await enqueue_url(link)    \n",
                "        \n",
                "async def crawl():\n",
                "    while len(hrefs_seen) < 2000:\n",
                "        url = await queue.get()\n",
                "        await handle_page(url)\n",
                "    print('I have done enough!')"
            ]
        },
        {
            "cell_type": "code",
            "execution_count": null,
            "metadata": {},
            "outputs": [],
            "source": [
                "ROOT = 'https://www.python.org'"
            ]
        },
        {
            "cell_type": "code",
            "execution_count": null,
            "metadata": {},
            "outputs": [],
            "source": [
                "#await handle_page(ROOT)\n",
                "await queue.put(ROOT)"
            ]
        },
        {
            "cell_type": "code",
            "execution_count": null,
            "metadata": {},
            "outputs": [],
            "source": [
                "queue.qsize()"
            ]
        },
        {
            "cell_type": "code",
            "execution_count": null,
            "metadata": {},
            "outputs": [],
            "source": [
                "await asyncio.gather(crawl(), crawl(), crawl())"
            ]
        },
        {
            "cell_type": "code",
            "execution_count": null,
            "metadata": {},
            "outputs": [],
            "source": [
                "len(hrefs_seen)"
            ]
        },
        {
            "cell_type": "code",
            "execution_count": null,
            "metadata": {},
            "outputs": [],
            "source": [
                "queue.qsize()"
            ]
        },
        {
            "cell_type": "code",
            "execution_count": null,
            "metadata": {
                "scrolled": true
            },
            "outputs": [],
            "source": [
                "while queue.qsize():\n",
                "    print(await queue.get())"
            ]
        },
        {
            "cell_type": "code",
            "execution_count": null,
            "metadata": {},
            "outputs": [],
            "source": [
                "hrefs_seen"
            ]
        },
        {
            "cell_type": "markdown",
            "metadata": {},
            "source": [
                "# Lab\n",
                "\n",
                "Open [AsyncIO Lab](asyncio-lab.ipynb)"
            ]
        },
        {
            "cell_type": "code",
            "execution_count": null,
            "metadata": {},
            "outputs": [],
            "source": []
        }
    ],
    "metadata": {
        "kernelspec": {
            "display_name": "deep_discovery",
            "language": "python",
            "name": "python3"
        },
        "language_info": {
            "codemirror_mode": {
                "name": "ipython",
                "version": 3
            },
            "file_extension": ".py",
            "mimetype": "text/x-python",
            "name": "python",
            "nbconvert_exporter": "python",
            "pygments_lexer": "ipython3",
            "version": "3.8.10 | packaged by conda-forge | (default, May 11 2021, 06:39:48) \n[Clang 11.1.0 ]"
        },
        "vscode": {
            "interpreter": {
                "hash": "f5843dadf34720d1d49bd40b40c179895302ad51d2a706663a7036f5f983c84b"
            }
        }
    },
    "nbformat": 4,
    "nbformat_minor": 2
}