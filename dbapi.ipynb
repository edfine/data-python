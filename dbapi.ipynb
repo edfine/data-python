{
 "cells": [
  {
   "cell_type": "markdown",
   "metadata": {},
   "source": [
    "# Database programming: SQLite\n",
    "\n",
    "SQLite is an embedded database engine (there is no separate server) that is included with Python."
   ]
  },
  {
   "cell_type": "code",
   "execution_count": null,
   "metadata": {},
   "outputs": [],
   "source": [
    "import sqlite3\n",
    "conn = sqlite3.connect('data/real-estate.db')"
   ]
  },
  {
   "cell_type": "code",
   "execution_count": null,
   "metadata": {},
   "outputs": [],
   "source": [
    "cursor = conn.execute('SELECT * FROM \"transactions\" LIMIT 10')"
   ]
  },
  {
   "cell_type": "code",
   "execution_count": null,
   "metadata": {},
   "outputs": [],
   "source": [
    "cursor.description"
   ]
  },
  {
   "cell_type": "code",
   "execution_count": null,
   "metadata": {},
   "outputs": [],
   "source": [
    "for row in cursor:\n",
    "    print(row)"
   ]
  },
  {
   "cell_type": "code",
   "execution_count": null,
   "metadata": {},
   "outputs": [],
   "source": [
    "for row in conn.execute('SELECT type, count(*) from transactions GROUP BY type'):\n",
    "    print(row)"
   ]
  },
  {
   "cell_type": "code",
   "execution_count": null,
   "metadata": {},
   "outputs": [],
   "source": [
    "conn.execute(\"select * from transactions where type = 'Unkown'\").fetchone()"
   ]
  },
  {
   "cell_type": "markdown",
   "metadata": {},
   "source": [
    "# Please don't do this\n",
    "```python\n",
    "user_provided_data = \"SACRAMENTO'; DROP TABLE transactions; -- \"\n",
    "format_str = \"SELECT * FROM transactions WHERE city = '%s'\"\" % (user_provided_data)\n",
    "```\n",
    "\n",
    "https://xkcd.com/327/"
   ]
  },
  {
   "cell_type": "code",
   "execution_count": null,
   "metadata": {},
   "outputs": [],
   "source": [
    "user_provided_data = \"SACRAMENTO'; DROP TABLE transactions; -- \"\n",
    "format_str = \"SELECT * FROM transactions WHERE city = '%s'\" % (user_provided_data)\n",
    "format_str"
   ]
  },
  {
   "cell_type": "markdown",
   "metadata": {},
   "source": [
    "# Do this instead\n",
    "\n",
    "\"Bind\" parameters:"
   ]
  },
  {
   "cell_type": "code",
   "execution_count": null,
   "metadata": {},
   "outputs": [],
   "source": [
    "stmt = 'SELECT count(*), avg(price) FROM transactions WHERE type = ?'"
   ]
  },
  {
   "cell_type": "code",
   "execution_count": null,
   "metadata": {},
   "outputs": [],
   "source": [
    "cursor = conn.execute(stmt, ('Condo',))\n",
    "for row in cursor:\n",
    "    print(row)"
   ]
  },
  {
   "cell_type": "code",
   "execution_count": null,
   "metadata": {},
   "outputs": [],
   "source": [
    "for row in conn.execute(stmt, ('Condo',)):\n",
    "    print(row)"
   ]
  },
  {
   "cell_type": "code",
   "execution_count": null,
   "metadata": {},
   "outputs": [],
   "source": [
    "for row in conn.execute(stmt, ('Residential\\'); --)',)):\n",
    "    print(row)"
   ]
  },
  {
   "cell_type": "markdown",
   "metadata": {},
   "source": [
    "Writing data"
   ]
  },
  {
   "cell_type": "code",
   "execution_count": null,
   "metadata": {},
   "outputs": [],
   "source": [
    "c = conn.cursor()\n",
    "c.execute(\"\"\"CREATE TABLE stocks(\n",
    "    date text, \n",
    "    symbol text, \n",
    "    price real\n",
    ")\"\"\")"
   ]
  },
  {
   "cell_type": "code",
   "execution_count": null,
   "metadata": {},
   "outputs": [],
   "source": [
    "data = [\n",
    "    (\"2014-01-02\", \"F\", 12.089),\n",
    "    (\"2014-01-02\", \"TSLA\", 150.1),\n",
    "    (\"2014-01-02\", \"IBM\", 157.6001),\n",
    "    (\"2014-01-02\", \"AAPL\", 72.7741),\n",
    "    (\"2014-01-03\", \"F\", 12.1438),\n",
    "    (\"2014-01-03\", \"TSLA\", 149.56),\n",
    "    (\"2014-01-03\", \"IBM\", 158.543),\n",
    "    (\"2014-01-03\", \"AAPL\", 71.1756),\n",
    "    (\"2014-01-06\", \"F\", 12.1986),\n",
    "    (\"2014-01-06\", \"TSLA\", 147.0),\n",
    "    (\"2014-01-06\", \"IBM\", 157.9993),\n",
    "    (\"2014-01-06\", \"AAPL\", 71.5637),\n",
    "    (\"2014-01-07\", \"F\", 12.042),\n",
    "    (\"2014-01-07\", \"TSLA\", 149.36),\n",
    "    (\"2014-01-07\", \"IBM\", 161.1508),\n",
    "    (\"2014-01-07\", \"AAPL\", 71.0516),\n",
    "    (\"2014-01-08\", \"F\", 12.1673),\n",
    "    (\"2014-01-08\", \"TSLA\", 151.28),\n",
    "    (\"2014-01-08\", \"IBM\", 159.6728),\n",
    "    (\"2014-01-08\", \"AAPL\", 71.5019),\n",
    "]\n",
    "data = iter(data)"
   ]
  },
  {
   "cell_type": "code",
   "execution_count": null,
   "metadata": {},
   "outputs": [],
   "source": [
    "data"
   ]
  },
  {
   "cell_type": "code",
   "execution_count": null,
   "metadata": {},
   "outputs": [],
   "source": [
    "c.executemany('INSERT INTO stocks VALUES(?, ?, ?)', data)"
   ]
  },
  {
   "cell_type": "code",
   "execution_count": null,
   "metadata": {},
   "outputs": [],
   "source": [
    "conn.commit()"
   ]
  },
  {
   "cell_type": "code",
   "execution_count": null,
   "metadata": {},
   "outputs": [],
   "source": [
    "conn.execute(\"SELECT * FROM stocks WHERE symbol = 'F'\").fetchall()"
   ]
  },
  {
   "cell_type": "code",
   "execution_count": null,
   "metadata": {},
   "outputs": [],
   "source": [
    "conn.execute(\"UPDATE stocks SET price=0 WHERE symbol='TSLA'\")"
   ]
  },
  {
   "cell_type": "code",
   "execution_count": null,
   "metadata": {},
   "outputs": [],
   "source": [
    "conn.execute(\"SELECT * FROM stocks WHERE symbol = 'TSLA'\").fetchall()"
   ]
  },
  {
   "cell_type": "code",
   "execution_count": null,
   "metadata": {},
   "outputs": [],
   "source": [
    "with conn:\n",
    "    conn.execute(\"DELETE FROM stocks WHERE symbol = 'TSLA'\")"
   ]
  },
  {
   "cell_type": "code",
   "execution_count": null,
   "metadata": {
    "scrolled": true
   },
   "outputs": [],
   "source": [
    "c.execute(\"DROP TABLE stocks\")"
   ]
  },
  {
   "cell_type": "markdown",
   "metadata": {},
   "source": [
    "# Database programming: MySQL\n",
    "\n",
    "To use MySQL, we'll need to install the pymysql driver:"
   ]
  },
  {
   "cell_type": "code",
   "execution_count": null,
   "metadata": {},
   "outputs": [],
   "source": [
    "!pip install pymysql"
   ]
  },
  {
   "cell_type": "code",
   "execution_count": null,
   "metadata": {},
   "outputs": [],
   "source": [
    "!pip freeze | grep -i pymysql"
   ]
  },
  {
   "cell_type": "code",
   "execution_count": null,
   "metadata": {},
   "outputs": [],
   "source": [
    "import pymysql\n",
    "\n",
    "host = 'database-1.c9zriyyu6mtc.us-east-1.rds.amazonaws.com'\n",
    "conn = pymysql.connect(\n",
    "    host=host,\n",
    "    user='newuser',\n",
    "    password='password',\n",
    "    db='class',\n",
    ")"
   ]
  },
  {
   "cell_type": "code",
   "execution_count": null,
   "metadata": {
    "scrolled": false
   },
   "outputs": [],
   "source": [
    "with conn.cursor() as c:\n",
    "    print(c, type(c))\n",
    "    value = c.execute('SELECT type, count(*) from transactions GROUP BY type')\n",
    "    print(c.description)\n",
    "    print(value)\n",
    "    for item in c:\n",
    "        print(item)"
   ]
  },
  {
   "cell_type": "code",
   "execution_count": null,
   "metadata": {},
   "outputs": [],
   "source": [
    "conn"
   ]
  },
  {
   "cell_type": "code",
   "execution_count": null,
   "metadata": {},
   "outputs": [],
   "source": [
    "with conn.cursor() as c:\n",
    "    c.execute(\"\"\"CREATE TABLE IF NOT EXISTS stocks(\n",
    "        date text, \n",
    "        symbol text, \n",
    "        price real\n",
    "    )\"\"\")"
   ]
  },
  {
   "cell_type": "code",
   "execution_count": null,
   "metadata": {},
   "outputs": [],
   "source": [
    "with sqlite3.connect('./data/stocks.db') as sqlite_conn:\n",
    "    data = list(sqlite_conn.execute('SELECT date, symbol, price FROM stocks_data'))"
   ]
  },
  {
   "cell_type": "code",
   "execution_count": null,
   "metadata": {},
   "outputs": [],
   "source": [
    "data[:1]"
   ]
  },
  {
   "cell_type": "code",
   "execution_count": null,
   "metadata": {},
   "outputs": [],
   "source": [
    "sqlite_conn = sqlite3.connect('./data/stocks.db')\n",
    "\n",
    "with conn.cursor() as mysql_cursor:\n",
    "    sqlite_cursor = sqlite_conn.cursor()\n",
    "    data = sqlite_cursor.execute('SELECT date, symbol, price FROM stocks_data')\n",
    "    mysql_cursor.execute('DELETE FROM stocks;')\n",
    "    mysql_cursor.executemany('INSERT INTO stocks VALUES(%s, %s, %s)', data)"
   ]
  },
  {
   "cell_type": "code",
   "execution_count": null,
   "metadata": {},
   "outputs": [],
   "source": [
    "with conn.cursor() as c:\n",
    "    q = c.execute(\"SELECT symbol, count(*) FROM stocks group by symbol\")\n",
    "    print(list(c))\n"
   ]
  },
  {
   "cell_type": "code",
   "execution_count": null,
   "metadata": {},
   "outputs": [],
   "source": [
    "with conn.cursor() as c:\n",
    "    q = c.execute(\"SELECT * FROM stocks WHERE symbol = 'IBM' LIMIT 5\")\n",
    "    print(c.description)\n",
    "    for row in c:\n",
    "        print(row)\n"
   ]
  },
  {
   "cell_type": "code",
   "execution_count": null,
   "metadata": {},
   "outputs": [],
   "source": [
    "with conn.cursor() as c:\n",
    "    c.execute(\"DELETE FROM stocks WHERE symbol = 'TSLA'\")"
   ]
  },
  {
   "cell_type": "code",
   "execution_count": null,
   "metadata": {},
   "outputs": [],
   "source": [
    "with conn.cursor() as c:\n",
    "    c.execute(\"DROP TABLE stocks\")"
   ]
  },
  {
   "cell_type": "markdown",
   "metadata": {},
   "source": [
    "Open [DBAPI lab](./dbapi-lab.ipynb)"
   ]
  }
 ],
 "metadata": {
  "kernelspec": {
   "display_name": "Python 3",
   "language": "python",
   "name": "python3"
  },
  "language_info": {
   "codemirror_mode": {
    "name": "ipython",
    "version": 3
   },
   "file_extension": ".py",
   "mimetype": "text/x-python",
   "name": "python",
   "nbconvert_exporter": "python",
   "pygments_lexer": "ipython3",
   "version": "3.8.5"
  }
 },
 "nbformat": 4,
 "nbformat_minor": 2
}
