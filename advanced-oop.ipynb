{
 "cells": [
  {
   "cell_type": "markdown",
   "metadata": {},
   "source": [
    "# Advanced Object-Oriented Programming: Metaclasses and Class Decorators\n",
    "\n",
    "A `class` is a \"factory for objects (instances)\"\n",
    "\n",
    "What is a \"factory for classes?\""
   ]
  },
  {
   "cell_type": "code",
   "execution_count": null,
   "metadata": {},
   "outputs": [],
   "source": [
    "class MyClass1:\n",
    "    pass"
   ]
  },
  {
   "cell_type": "code",
   "execution_count": null,
   "metadata": {},
   "outputs": [],
   "source": [
    "obj = MyClass1()\n",
    "type(obj)"
   ]
  },
  {
   "cell_type": "code",
   "execution_count": null,
   "metadata": {},
   "outputs": [],
   "source": [
    "type(MyClass1)"
   ]
  },
  {
   "cell_type": "code",
   "execution_count": null,
   "metadata": {},
   "outputs": [],
   "source": [
    "isinstance(obj, MyClass1)"
   ]
  },
  {
   "cell_type": "code",
   "execution_count": null,
   "metadata": {},
   "outputs": [],
   "source": [
    "isinstance(MyClass1, type)"
   ]
  },
  {
   "cell_type": "markdown",
   "metadata": {},
   "source": [
    "### Building classes with the `type` function"
   ]
  },
  {
   "cell_type": "code",
   "execution_count": null,
   "metadata": {},
   "outputs": [],
   "source": [
    "MyClass16 = type('MyClass16', (MyClass1,), {})"
   ]
  },
  {
   "cell_type": "code",
   "execution_count": null,
   "metadata": {},
   "outputs": [],
   "source": [
    "MyClass16"
   ]
  },
  {
   "cell_type": "code",
   "execution_count": null,
   "metadata": {},
   "outputs": [],
   "source": [
    "isinstance(MyClass16, type)"
   ]
  },
  {
   "cell_type": "code",
   "execution_count": null,
   "metadata": {},
   "outputs": [],
   "source": [
    "issubclass(MyClass16, MyClass1)"
   ]
  },
  {
   "cell_type": "code",
   "execution_count": null,
   "metadata": {},
   "outputs": [],
   "source": [
    "MyClass16.mro()"
   ]
  },
  {
   "cell_type": "code",
   "execution_count": null,
   "metadata": {},
   "outputs": [],
   "source": [
    "myobj16 = MyClass16()"
   ]
  },
  {
   "cell_type": "code",
   "execution_count": null,
   "metadata": {},
   "outputs": [],
   "source": [
    "isinstance(myobj16, MyClass16)"
   ]
  },
  {
   "cell_type": "code",
   "execution_count": null,
   "metadata": {},
   "outputs": [],
   "source": [
    "MyClass16 = type('MyClass16', (MyClass1,), {\n",
    "    'training_class_attribute': 42\n",
    "})"
   ]
  },
  {
   "cell_type": "code",
   "execution_count": null,
   "metadata": {},
   "outputs": [],
   "source": [
    "MyClass16.training_class_attribute"
   ]
  },
  {
   "cell_type": "code",
   "execution_count": null,
   "metadata": {},
   "outputs": [],
   "source": [
    "class MyClass16(MyClass1):\n",
    "    training_class_attribute = 42"
   ]
  },
  {
   "cell_type": "code",
   "execution_count": null,
   "metadata": {},
   "outputs": [],
   "source": [
    "MyClass16.training_class_attribute"
   ]
  },
  {
   "cell_type": "code",
   "execution_count": null,
   "metadata": {},
   "outputs": [],
   "source": [
    "MyClass16.__dict__"
   ]
  },
  {
   "cell_type": "code",
   "execution_count": null,
   "metadata": {},
   "outputs": [],
   "source": [
    "def instance_initializer(self):\n",
    "    '''This will become __init__ below...'''\n",
    "    print('Creating an instance')\n",
    "    self.training_instance_attribute = 31337\n",
    "    \n",
    "MyClass17 = type('MyClass17', (MyClass1,), {\n",
    "    'training_class_attribute': 42,\n",
    "    '__init__': instance_initializer,\n",
    "})"
   ]
  },
  {
   "cell_type": "code",
   "execution_count": null,
   "metadata": {},
   "outputs": [],
   "source": [
    "myobj = MyClass17()"
   ]
  },
  {
   "cell_type": "code",
   "execution_count": null,
   "metadata": {},
   "outputs": [],
   "source": [
    "myobj.training_instance_attribute"
   ]
  },
  {
   "cell_type": "code",
   "execution_count": null,
   "metadata": {},
   "outputs": [],
   "source": [
    "myobj.training_class_attribute"
   ]
  },
  {
   "cell_type": "code",
   "execution_count": null,
   "metadata": {},
   "outputs": [],
   "source": [
    "MyClass17.__dict__"
   ]
  },
  {
   "cell_type": "code",
   "execution_count": null,
   "metadata": {},
   "outputs": [],
   "source": [
    "class MyClass17(MyClass1):\n",
    "    \"This is the class docstring\"\n",
    "    training_class_attribute = 42\n",
    "    \n",
    "    def __init__(self):\n",
    "        print('Creating an instance')\n",
    "        self.training_instance_attribute = 31337"
   ]
  },
  {
   "cell_type": "code",
   "execution_count": null,
   "metadata": {
    "scrolled": true
   },
   "outputs": [],
   "source": [
    "MyClass17.__dict__"
   ]
  },
  {
   "cell_type": "code",
   "execution_count": null,
   "metadata": {},
   "outputs": [],
   "source": [
    "myobj.__dict__"
   ]
  },
  {
   "cell_type": "markdown",
   "metadata": {},
   "source": [
    "# Introducing Metaclasses\n",
    "\n",
    "metaclass is to class as class is to instance"
   ]
  },
  {
   "cell_type": "code",
   "execution_count": null,
   "metadata": {},
   "outputs": [],
   "source": [
    "%%python2\n",
    "def meta(name, bases, dct):\n",
    "    print \"Calling the metaclass\"\n",
    "    dct['foo'] = 'bar'\n",
    "    return type(name, bases, dct)\n",
    "\n",
    "class MyClass2(object):\n",
    "    __metaclass__ = meta\n",
    "\n",
    "print MyClass2.foo"
   ]
  },
  {
   "cell_type": "code",
   "execution_count": null,
   "metadata": {},
   "outputs": [],
   "source": [
    "def cabbage(name, bases, dct):\n",
    "    print('Inside meta, ', name, bases, dct)\n",
    "    return type(name, bases, dct)\n",
    "\n",
    "class MyClass2(metaclass=cabbage):\n",
    "    a = 'foo'\n",
    "    def __init__(self):\n",
    "        pass\n"
   ]
  },
  {
   "cell_type": "markdown",
   "metadata": {},
   "source": [
    "## Why oh why??"
   ]
  },
  {
   "cell_type": "code",
   "execution_count": null,
   "metadata": {},
   "outputs": [],
   "source": [
    "!pip install marshmallow\n",
    "import marshmallow as mm"
   ]
  },
  {
   "cell_type": "markdown",
   "metadata": {},
   "source": [
    "```json\n",
    "{\n",
    "    \"first\": \"Rick\",\n",
    "    \"last\": \"Copeland\",\n",
    "    \"email\": \"rick@arborian.com\"\n",
    "}\n",
    "```"
   ]
  },
  {
   "cell_type": "code",
   "execution_count": null,
   "metadata": {},
   "outputs": [],
   "source": [
    "class UserSchema(mm.Schema):\n",
    "    first = mm.fields.Str(missing='Gutzon')\n",
    "    last = mm.fields.Str(missing='Borglum')\n",
    "    email = mm.fields.Str(required=True)"
   ]
  },
  {
   "cell_type": "code",
   "execution_count": null,
   "metadata": {},
   "outputs": [],
   "source": [
    "f = mm.fields.Str(missing='Gutzon')"
   ]
  },
  {
   "cell_type": "code",
   "execution_count": null,
   "metadata": {},
   "outputs": [],
   "source": [
    "f.name"
   ]
  },
  {
   "cell_type": "code",
   "execution_count": null,
   "metadata": {},
   "outputs": [],
   "source": [
    "UserSchema._declared_fields"
   ]
  },
  {
   "cell_type": "code",
   "execution_count": null,
   "metadata": {},
   "outputs": [],
   "source": [
    "UserSchema.first   # ???! definitely magic"
   ]
  },
  {
   "cell_type": "markdown",
   "metadata": {},
   "source": [
    "```python\n",
    "# NOT valid marshmallow\n",
    "UserSchema = make_schema(\n",
    "    fields=[\n",
    "        Str('first', missing='Gutzon'),\n",
    "        ...\n",
    "    ]\n",
    ")\n",
    "\n",
    "UserSchema = make_schema(\n",
    "    first=Str(missing='Gutzon'),\n",
    "    ...\n",
    ")\n",
    "```"
   ]
  },
  {
   "cell_type": "code",
   "execution_count": null,
   "metadata": {},
   "outputs": [],
   "source": [
    "sch = UserSchema()\n",
    "sch.load({'email': 'rick@arborian.com'})"
   ]
  },
  {
   "cell_type": "code",
   "execution_count": null,
   "metadata": {},
   "outputs": [],
   "source": [
    "mm.schema.Schema??"
   ]
  },
  {
   "cell_type": "code",
   "execution_count": null,
   "metadata": {},
   "outputs": [],
   "source": [
    "mm.schema.SchemaMeta??"
   ]
  },
  {
   "cell_type": "markdown",
   "metadata": {},
   "source": [
    "### Perverse metaclass example"
   ]
  },
  {
   "cell_type": "code",
   "execution_count": null,
   "metadata": {},
   "outputs": [],
   "source": [
    "def make_weird_dict(name, bases, dct):\n",
    "    return {\n",
    "        name: value \n",
    "        for name, value in dct.items() \n",
    "        if not name.startswith('_')\n",
    "    }\n",
    "\n",
    "class Instructor(metaclass=make_weird_dict):\n",
    "    name = 'Rick Copeland'\n",
    "    city = 'Atlanta'"
   ]
  },
  {
   "cell_type": "code",
   "execution_count": null,
   "metadata": {},
   "outputs": [],
   "source": [
    "Instructor"
   ]
  },
  {
   "cell_type": "code",
   "execution_count": null,
   "metadata": {},
   "outputs": [],
   "source": [
    "type(Instructor)"
   ]
  },
  {
   "cell_type": "markdown",
   "metadata": {},
   "source": [
    "### </Perverse metaclass example>"
   ]
  },
  {
   "cell_type": "markdown",
   "metadata": {},
   "source": [
    "# Introducing `__new__`"
   ]
  },
  {
   "cell_type": "code",
   "execution_count": null,
   "metadata": {},
   "outputs": [],
   "source": [
    "class NonMeta:\n",
    "    def __new__(cls, *args):\n",
    "        print('Calling __new__ with', cls, args)\n",
    "        self = super().__new__(cls)\n",
    "        self.extra_attribute = 'Victory!'\n",
    "        return self\n",
    "    \n",
    "    def __init__(self, a, b):\n",
    "        print('Calling __init__', a, b)\n",
    "        self.a, self.b = a, b\n"
   ]
  },
  {
   "cell_type": "code",
   "execution_count": null,
   "metadata": {},
   "outputs": [],
   "source": [
    "inst = NonMeta(1,2)"
   ]
  },
  {
   "cell_type": "code",
   "execution_count": null,
   "metadata": {},
   "outputs": [],
   "source": [
    "inst.extra_attribute"
   ]
  },
  {
   "cell_type": "code",
   "execution_count": null,
   "metadata": {},
   "outputs": [],
   "source": [
    "inst.a, inst.b"
   ]
  },
  {
   "cell_type": "code",
   "execution_count": null,
   "metadata": {},
   "outputs": [],
   "source": [
    "# type(a, b, c) ==> type.__new__(type, a, b, c)\n",
    "class WithAMeta(type):\n",
    "    def __new__(meta, name, bases, dct):\n",
    "        print('Create new class', name, 'with WithAMeta metaclass')\n",
    "        print(f'meta={meta}, name={name}, bases={bases}, dct={dct}')\n",
    "        dct['a'] = 5\n",
    "        return super().__new__(meta, name, bases, dct)\n",
    "        # return type.__new__(meta, name, bases, dct)\n",
    "    "
   ]
  },
  {
   "cell_type": "code",
   "execution_count": null,
   "metadata": {},
   "outputs": [],
   "source": [
    "class MyClass3(metaclass=WithAMeta):\n",
    "    pass"
   ]
  },
  {
   "cell_type": "code",
   "execution_count": null,
   "metadata": {},
   "outputs": [],
   "source": [
    "MyClass3.a"
   ]
  },
  {
   "cell_type": "code",
   "execution_count": null,
   "metadata": {},
   "outputs": [],
   "source": [
    "type(MyClass3)"
   ]
  },
  {
   "cell_type": "code",
   "execution_count": null,
   "metadata": {},
   "outputs": [],
   "source": [
    "MyClass3 = WithAMeta('MyClass3', (), {})"
   ]
  },
  {
   "cell_type": "code",
   "execution_count": null,
   "metadata": {},
   "outputs": [],
   "source": [
    "MyClass3.a"
   ]
  },
  {
   "cell_type": "code",
   "execution_count": null,
   "metadata": {},
   "outputs": [],
   "source": [
    "type(MyClass3)"
   ]
  },
  {
   "cell_type": "code",
   "execution_count": null,
   "metadata": {},
   "outputs": [],
   "source": [
    "type(WithAMeta)"
   ]
  },
  {
   "cell_type": "code",
   "execution_count": null,
   "metadata": {},
   "outputs": [],
   "source": [
    "isinstance(WithAMeta, type)"
   ]
  },
  {
   "cell_type": "code",
   "execution_count": null,
   "metadata": {},
   "outputs": [],
   "source": [
    "issubclass(WithAMeta, type)"
   ]
  },
  {
   "cell_type": "markdown",
   "metadata": {},
   "source": [
    "\"Proper\" metaclasses are inherited by subclasses; \"function\" metaclasses are not"
   ]
  },
  {
   "cell_type": "code",
   "execution_count": null,
   "metadata": {},
   "outputs": [],
   "source": [
    "def metafun(name, bases, dct):\n",
    "    print('Call metafun')\n",
    "    return type(name, bases, dct)"
   ]
  },
  {
   "cell_type": "code",
   "execution_count": null,
   "metadata": {},
   "outputs": [],
   "source": [
    "class MetaCls(type):\n",
    "    def __new__(meta, name,bases, dct):\n",
    "        print('Call metacls')\n",
    "        return super().__new__(meta, name, bases, dct)"
   ]
  },
  {
   "cell_type": "code",
   "execution_count": null,
   "metadata": {},
   "outputs": [],
   "source": [
    "class FunCls(metaclass=metafun):\n",
    "    pass\n",
    "\n",
    "class ClsCls(metaclass=MetaCls):\n",
    "    pass"
   ]
  },
  {
   "cell_type": "code",
   "execution_count": null,
   "metadata": {},
   "outputs": [],
   "source": [
    "class FunCls2(FunCls): pass"
   ]
  },
  {
   "cell_type": "code",
   "execution_count": null,
   "metadata": {},
   "outputs": [],
   "source": [
    "type(FunCls)"
   ]
  },
  {
   "cell_type": "code",
   "execution_count": null,
   "metadata": {},
   "outputs": [],
   "source": [
    "class ClsCls2(ClsCls): pass"
   ]
  },
  {
   "cell_type": "code",
   "execution_count": null,
   "metadata": {},
   "outputs": [],
   "source": [
    "type(ClsCls)"
   ]
  },
  {
   "cell_type": "markdown",
   "metadata": {},
   "source": [
    "### Metaclass trick: instance level property declaration"
   ]
  },
  {
   "cell_type": "code",
   "execution_count": null,
   "metadata": {},
   "outputs": [],
   "source": [
    "from copy import deepcopy\n",
    "\n",
    "class PropertyMeta(type):\n",
    "    def __new__(meta, name, bases, dct):\n",
    "        print('Create class', name)\n",
    "        public_attributes = {\n",
    "            key: value \n",
    "            for key, value in dct.items()\n",
    "            if not callable(value)   # no methods\n",
    "            if not key.startswith('_')   # no private attrs\n",
    "        }\n",
    "        dct['_public_attributes'] = public_attributes\n",
    "        return super().__new__(meta, name, bases, dct)\n",
    "    \n",
    "    "
   ]
  },
  {
   "cell_type": "code",
   "execution_count": null,
   "metadata": {},
   "outputs": [],
   "source": [
    "class PublicBase(metaclass=PropertyMeta):\n",
    "    def __init__(self):\n",
    "        for key, value in self._public_attributes.items():\n",
    "            setattr(self, key, deepcopy(value))"
   ]
  },
  {
   "cell_type": "code",
   "execution_count": null,
   "metadata": {},
   "outputs": [],
   "source": [
    "class PublicClass(PublicBase):\n",
    "    a = 5\n",
    "    b = 6\n",
    "    c = [7, 8, 9]\n",
    "    \n",
    "    def amethod(self):\n",
    "        print('Calling amethod!')"
   ]
  },
  {
   "cell_type": "code",
   "execution_count": null,
   "metadata": {},
   "outputs": [],
   "source": [
    "PublicClass._public_attributes"
   ]
  },
  {
   "cell_type": "code",
   "execution_count": null,
   "metadata": {},
   "outputs": [],
   "source": [
    "pc = PublicClass()"
   ]
  },
  {
   "cell_type": "code",
   "execution_count": null,
   "metadata": {},
   "outputs": [],
   "source": [
    "pc.__dict__"
   ]
  },
  {
   "cell_type": "code",
   "execution_count": null,
   "metadata": {},
   "outputs": [],
   "source": [
    "PublicClass.__dict__"
   ]
  },
  {
   "cell_type": "code",
   "execution_count": null,
   "metadata": {},
   "outputs": [],
   "source": [
    "pc.c.append(10)"
   ]
  },
  {
   "cell_type": "code",
   "execution_count": null,
   "metadata": {},
   "outputs": [],
   "source": [
    "pc.c"
   ]
  },
  {
   "cell_type": "code",
   "execution_count": null,
   "metadata": {},
   "outputs": [],
   "source": [
    "PublicClass.c"
   ]
  },
  {
   "cell_type": "markdown",
   "metadata": {},
   "source": [
    "(a better way is to use dataclasses from the standard lib)"
   ]
  },
  {
   "cell_type": "markdown",
   "metadata": {},
   "source": [
    "### Metaclass use case: collecting properties ('declarative programming')"
   ]
  },
  {
   "cell_type": "code",
   "execution_count": null,
   "metadata": {},
   "outputs": [],
   "source": [
    "class ImportantField:\n",
    "    def __init__(self, value, name=None):\n",
    "        self.value = value\n",
    "        self.name = name\n",
    "        \n",
    "    def __repr__(self):\n",
    "        return f'<Important {self.name}: {self.value}>'"
   ]
  },
  {
   "cell_type": "code",
   "execution_count": null,
   "metadata": {},
   "outputs": [],
   "source": [
    "class DeclarativeMeta(type):\n",
    "    def __new__(meta, name, bases, dct):\n",
    "        print(f'DeclarativeMeta({meta!r}, {name!r}, {bases!r}, {dct!r})')\n",
    "        important = []\n",
    "        for k, v in dct.items():\n",
    "            if isinstance(v, ImportantField):\n",
    "                if v.name is None:\n",
    "                    v.name = k\n",
    "                important.append(v)\n",
    "        dct['_important'] = tuple(important)\n",
    "        return super().__new__(meta, name, bases, dct)"
   ]
  },
  {
   "cell_type": "code",
   "execution_count": null,
   "metadata": {},
   "outputs": [],
   "source": [
    "class DeclarativeBase(metaclass=DeclarativeMeta):\n",
    "    \"\"\"Use regular inheritance to get the metaclass 'for free'\"\"\"\n",
    "\n",
    "    def __repr__(self):\n",
    "        l = ['<{}'.format(self.__class__.__name__)]\n",
    "        for fld in self._important:\n",
    "            l.append(' {}={}'.format(fld.name, fld.value))\n",
    "        l.append('>')\n",
    "        return ''.join(l)\n",
    "    "
   ]
  },
  {
   "cell_type": "code",
   "execution_count": null,
   "metadata": {},
   "outputs": [],
   "source": [
    "DeclarativeBase._important"
   ]
  },
  {
   "cell_type": "code",
   "execution_count": null,
   "metadata": {},
   "outputs": [],
   "source": [
    "# Here is the \"application-level\" code you'd write\n",
    "    \n",
    "class MyClass4(DeclarativeBase):\n",
    "    a = ImportantField(1)\n",
    "    b = ImportantField(2)\n",
    "    c = ImportantField(3, name='cfield')"
   ]
  },
  {
   "cell_type": "code",
   "execution_count": null,
   "metadata": {},
   "outputs": [],
   "source": [
    "MyClass4._important"
   ]
  },
  {
   "cell_type": "code",
   "execution_count": null,
   "metadata": {},
   "outputs": [],
   "source": [
    "MyClass4()"
   ]
  },
  {
   "cell_type": "code",
   "execution_count": null,
   "metadata": {},
   "outputs": [],
   "source": [
    "MyClass4.c"
   ]
  },
  {
   "cell_type": "code",
   "execution_count": null,
   "metadata": {},
   "outputs": [],
   "source": [
    "MyClass4.a"
   ]
  },
  {
   "cell_type": "code",
   "execution_count": null,
   "metadata": {},
   "outputs": [],
   "source": [
    "obj = MyClass4()\n",
    "obj.a"
   ]
  },
  {
   "cell_type": "code",
   "execution_count": null,
   "metadata": {},
   "outputs": [],
   "source": [
    "obj.c"
   ]
  },
  {
   "cell_type": "code",
   "execution_count": null,
   "metadata": {},
   "outputs": [],
   "source": [
    "obj"
   ]
  },
  {
   "cell_type": "markdown",
   "metadata": {},
   "source": [
    "### Aside: metaclass inheritance\n",
    "\n",
    "If ClassSub with metaclass MetaClassB extends ClassSuper with MetaClassA, then\n",
    "MetaClassB must be a subclass of MetaClassA:"
   ]
  },
  {
   "cell_type": "code",
   "execution_count": null,
   "metadata": {},
   "outputs": [],
   "source": [
    "# Metaclasses\n",
    "class MetaClassA(type):\n",
    "    pass\n",
    "\n",
    "class MetaClassB(MetaClassA):\n",
    "    pass\n",
    "\n",
    "class MetaClassC(type):\n",
    "    pass\n",
    "\n",
    "# \"Regular\" classes\n",
    "class ClassSuper(metaclass=MetaClassA):\n",
    "    pass\n",
    "\n",
    "class ClassSub(ClassSuper, metaclass=MetaClassC):\n",
    "    pass"
   ]
  },
  {
   "cell_type": "markdown",
   "metadata": {},
   "source": [
    "### Metaclass use case: class registries"
   ]
  },
  {
   "cell_type": "code",
   "execution_count": null,
   "metadata": {},
   "outputs": [],
   "source": [
    "class RegistryMeta(type):\n",
    "    _registry = {}\n",
    "    \n",
    "    def __new__(meta, name, bases, dct):\n",
    "        cls = super().__new__(meta, name, bases, dct)\n",
    "        meta._registry[name] = cls\n",
    "        return cls\n",
    "    \n",
    "    def lookup_meta(cls, name):\n",
    "        return cls._registry[name]\n",
    "\n",
    "class RegistryBase(metaclass=RegistryMeta):\n",
    "    \n",
    "    @classmethod\n",
    "    def lookup(cls, name):\n",
    "        return cls._registry[name]\n",
    "    \n",
    "# RegistryBase = RegistryMeta(\n",
    "#     'RegistryBase', (), {\n",
    "#         'lookup': lookup_function\n",
    "#     }\n",
    "# )"
   ]
  },
  {
   "cell_type": "code",
   "execution_count": null,
   "metadata": {},
   "outputs": [],
   "source": [
    "RegistryMeta._registry"
   ]
  },
  {
   "cell_type": "code",
   "execution_count": null,
   "metadata": {},
   "outputs": [],
   "source": [
    "class Registered1(RegistryBase):\n",
    "    a = ImportantField('Registered2')\n",
    "\n",
    "class Registered2(RegistryBase):\n",
    "    pass\n",
    "    \n",
    "class Registered3(metaclass=RegistryMeta):\n",
    "    pass"
   ]
  },
  {
   "cell_type": "code",
   "execution_count": null,
   "metadata": {},
   "outputs": [],
   "source": [
    "RegistryMeta._registry"
   ]
  },
  {
   "cell_type": "code",
   "execution_count": null,
   "metadata": {},
   "outputs": [],
   "source": [
    "RegistryBase.lookup('Registered1')"
   ]
  },
  {
   "cell_type": "code",
   "execution_count": null,
   "metadata": {},
   "outputs": [],
   "source": [
    "RegistryBase.lookup('Registered2')"
   ]
  },
  {
   "cell_type": "code",
   "execution_count": null,
   "metadata": {},
   "outputs": [],
   "source": [
    "RegistryBase.lookup_meta('Registered1')"
   ]
  },
  {
   "cell_type": "code",
   "execution_count": null,
   "metadata": {},
   "outputs": [],
   "source": [
    "RegistryBase.lookup_meta('Registered2')"
   ]
  },
  {
   "cell_type": "code",
   "execution_count": null,
   "metadata": {},
   "outputs": [],
   "source": [
    "RegistryBase.lookup_meta('Registered3')"
   ]
  },
  {
   "cell_type": "code",
   "execution_count": null,
   "metadata": {},
   "outputs": [],
   "source": [
    "class Employee(mm.Schema):\n",
    "    name = mm.fields.Str()\n",
    "    supervisor = mm.fields.Nested('Employee')"
   ]
  },
  {
   "cell_type": "markdown",
   "metadata": {},
   "source": [
    "Also see `__init_subclass__`"
   ]
  },
  {
   "cell_type": "code",
   "execution_count": null,
   "metadata": {},
   "outputs": [],
   "source": [
    "class Super:\n",
    "    def __init_subclass__(cls):\n",
    "        print('In init sublcass, cls == ', cls)\n",
    "        \n",
    "class Sub(Super):\n",
    "    pass"
   ]
  },
  {
   "cell_type": "markdown",
   "metadata": {},
   "source": [
    "### Metaclass trick: class operators"
   ]
  },
  {
   "cell_type": "code",
   "execution_count": null,
   "metadata": {},
   "outputs": [],
   "source": [
    "class RegistryMeta(type):\n",
    "    _registry = {}\n",
    "    \n",
    "    def __new__(meta, name, bases, dct):\n",
    "        cls = super().__new__(meta, name, bases, dct)\n",
    "        meta._registry[name] = cls\n",
    "        return cls\n",
    "    \n",
    "    def __getitem__(cls, name):\n",
    "        \"\"\"Implements cls[name]\"\"\"\n",
    "        return cls._registry[name]\n",
    "    \n",
    "    @property\n",
    "    def foo(self):\n",
    "        return '123'\n",
    "    \n",
    "    def mclass_method(cls):\n",
    "        \"\"\"cls is an instance of RegistyMeta, which is a class\"\"\"\n",
    "        pass\n",
    "    \n",
    "class RegistryBase(object, metaclass=RegistryMeta):\n",
    "    pass\n",
    "  \n",
    "#     sadly, this does not work...\n",
    "#     @classmethod\n",
    "#     def __getitem__(cls, name):\n",
    "#         return cls._registry[name]\n",
    "    \n",
    "class Registered1(RegistryBase):\n",
    "    def regular_method(self):\n",
    "        '''self is an instance of Registered1'''\n",
    "        pass\n",
    "    \n",
    "    @classmethod\n",
    "    def class_method(cls):\n",
    "        '''cls is Registered1'''\n",
    "        pass\n",
    "\n",
    "class Registered2(RegistryBase):\n",
    "    pass"
   ]
  },
  {
   "cell_type": "markdown",
   "metadata": {},
   "source": [
    "Properties?"
   ]
  },
  {
   "cell_type": "code",
   "execution_count": null,
   "metadata": {},
   "outputs": [],
   "source": [
    "Registered2.foo"
   ]
  },
  {
   "cell_type": "code",
   "execution_count": null,
   "metadata": {},
   "outputs": [],
   "source": [
    "Registered2.foo = 5"
   ]
  },
  {
   "cell_type": "code",
   "execution_count": null,
   "metadata": {},
   "outputs": [],
   "source": [
    "RegistryBase['Registered1']"
   ]
  },
  {
   "cell_type": "code",
   "execution_count": null,
   "metadata": {},
   "outputs": [],
   "source": [
    "RegistryBase['Registered2']"
   ]
  },
  {
   "cell_type": "markdown",
   "metadata": {},
   "source": [
    "Trick: inheritance via `+`"
   ]
  },
  {
   "cell_type": "code",
   "execution_count": null,
   "metadata": {},
   "outputs": [],
   "source": [
    "class HierMeta(type):\n",
    "    \n",
    "    def __add__(cls, other):\n",
    "        return type(\n",
    "            f'<AnonCls>({cls.__name__}, {other.__name__})', \n",
    "            (cls, other), \n",
    "            {}\n",
    "        )\n",
    "\n",
    "class HierBase(metaclass=HierMeta): pass"
   ]
  },
  {
   "cell_type": "code",
   "execution_count": null,
   "metadata": {},
   "outputs": [],
   "source": [
    "class R1(HierBase): pass\n",
    "class R2(HierBase): pass"
   ]
  },
  {
   "cell_type": "code",
   "execution_count": null,
   "metadata": {},
   "outputs": [],
   "source": [
    "R3 = R1 + R2"
   ]
  },
  {
   "cell_type": "code",
   "execution_count": null,
   "metadata": {},
   "outputs": [],
   "source": [
    "R3"
   ]
  },
  {
   "cell_type": "code",
   "execution_count": null,
   "metadata": {},
   "outputs": [],
   "source": [
    "R3.mro()"
   ]
  },
  {
   "cell_type": "code",
   "execution_count": null,
   "metadata": {},
   "outputs": [],
   "source": [
    "class Animal(HierBase): pass\n",
    "class Biped(Animal): pass\n",
    "class Quadruped(Animal): pass\n",
    "class Monkey(Biped): pass\n",
    "class Dog(Quadruped): pass\n",
    "MonkeyDog = Monkey + Dog"
   ]
  },
  {
   "cell_type": "code",
   "execution_count": null,
   "metadata": {},
   "outputs": [],
   "source": [
    "MonkeyDog"
   ]
  },
  {
   "cell_type": "code",
   "execution_count": null,
   "metadata": {},
   "outputs": [],
   "source": [
    "MonkeyDog.mro()"
   ]
  },
  {
   "cell_type": "code",
   "execution_count": null,
   "metadata": {},
   "outputs": [],
   "source": [
    "class ChangeNameMeta(type):\n",
    "    def __new__(meta, name, bases, dct):\n",
    "        dct['__qualname__'] = f'Changed{dct[\"__qualname__\"]}'\n",
    "        return super().__new__(meta, f'Changed{name}', bases, dct)"
   ]
  },
  {
   "cell_type": "code",
   "execution_count": null,
   "metadata": {},
   "outputs": [],
   "source": [
    "class MyName(metaclass=ChangeNameMeta): pass"
   ]
  },
  {
   "cell_type": "code",
   "execution_count": null,
   "metadata": {},
   "outputs": [],
   "source": [
    "MyName.__name__"
   ]
  },
  {
   "cell_type": "code",
   "execution_count": null,
   "metadata": {},
   "outputs": [],
   "source": [
    "MyName"
   ]
  },
  {
   "cell_type": "code",
   "execution_count": null,
   "metadata": {},
   "outputs": [],
   "source": [
    "MyName()"
   ]
  },
  {
   "cell_type": "markdown",
   "metadata": {},
   "source": [
    "Marshmallow uses registries, as well"
   ]
  },
  {
   "cell_type": "code",
   "execution_count": null,
   "metadata": {},
   "outputs": [],
   "source": [
    "class TreeSchema(mm.Schema):\n",
    "    value = mm.fields.Str()\n",
    "    left = mm.fields.Nested('TreeSchema', missing=None)\n",
    "    right = mm.fields.Nested('TreeSchema', missing=None)"
   ]
  },
  {
   "cell_type": "code",
   "execution_count": null,
   "metadata": {},
   "outputs": [],
   "source": [
    "schema = TreeSchema()"
   ]
  },
  {
   "cell_type": "code",
   "execution_count": null,
   "metadata": {},
   "outputs": [],
   "source": [
    "schema.load({'value': 'root', 'left': {\n",
    "    'value': 'left'\n",
    "}})"
   ]
  },
  {
   "cell_type": "markdown",
   "metadata": {},
   "source": [
    "### Class decorators: cheap substitute for metaclasses\n",
    "\n",
    "Recall that\n",
    "\n",
    "```python\n",
    "@foo\n",
    "def func(...):\n",
    "    ...\n",
    "```\n",
    "\n",
    "really means\n",
    "\n",
    "```python\n",
    "def func(...):\n",
    "    ...\n",
    "func = foo(func)\n",
    "```"
   ]
  },
  {
   "cell_type": "code",
   "execution_count": null,
   "metadata": {},
   "outputs": [],
   "source": [
    "def decorator_factory(a, b):\n",
    "    def decorator(function):\n",
    "        print(f'Decorating {function} with ({a}, {b}): {id(decorator)}')\n",
    "        def wrapper(*args, **kwargs):\n",
    "            print('Calling decorated function', a, b)\n",
    "            result = function(*args, **kwargs)\n",
    "            ...\n",
    "            return result\n",
    "        return wrapper\n",
    "    print(f'Creating decorator with args({a}, {b}): {id(decorator)}')\n",
    "    return decorator"
   ]
  },
  {
   "cell_type": "code",
   "execution_count": null,
   "metadata": {},
   "outputs": [],
   "source": [
    "deco = decorator_factory(1,2)"
   ]
  },
  {
   "cell_type": "code",
   "execution_count": null,
   "metadata": {
    "scrolled": false
   },
   "outputs": [],
   "source": [
    "@deco\n",
    "def my_cool_function(c, d, e):\n",
    "    print('cool: ', c, d, e)"
   ]
  },
  {
   "cell_type": "code",
   "execution_count": null,
   "metadata": {},
   "outputs": [],
   "source": [
    "my_cool_function"
   ]
  },
  {
   "cell_type": "code",
   "execution_count": null,
   "metadata": {},
   "outputs": [],
   "source": [
    "my_cool_function(10, 20, e=256)"
   ]
  },
  {
   "cell_type": "code",
   "execution_count": null,
   "metadata": {},
   "outputs": [],
   "source": [
    "@decorator_factory(1,2)\n",
    "def my_cool_function(c, d, e):\n",
    "    print('cool: ', c, d, e)"
   ]
  },
  {
   "cell_type": "code",
   "execution_count": null,
   "metadata": {},
   "outputs": [],
   "source": [
    "my_cool_function(5,6,7)"
   ]
  },
  {
   "cell_type": "markdown",
   "metadata": {},
   "source": [
    "```python\n",
    "@locking(the_vault)\n",
    "def transfer_money(a, b, amount):\n",
    "    pass\n",
    "```"
   ]
  },
  {
   "cell_type": "markdown",
   "metadata": {},
   "source": [
    "We can do the same with classes:\n",
    "\n",
    "```python\n",
    "@foo\n",
    "class Bar:\n",
    "    ...\n",
    "```\n",
    "\n",
    "means\n",
    "\n",
    "```python\n",
    "class Bar:\n",
    "    ...\n",
    "Bar = foo(Bar)\n",
    "```"
   ]
  },
  {
   "cell_type": "code",
   "execution_count": null,
   "metadata": {},
   "outputs": [],
   "source": [
    "def deco(cls):\n",
    "    print(f'Calling deco({cls})')\n",
    "    return cls\n",
    "\n",
    "def meta(name, bases, dct):\n",
    "    print(f'Calling meta({name})')\n",
    "    return type(name, bases, dct)\n",
    "\n",
    "@deco\n",
    "class MyClass(metaclass=meta):\n",
    "    print('In class definition')\n",
    "    \n",
    "print('Class body, metaclass, and decorator have all run by now')"
   ]
  },
  {
   "cell_type": "code",
   "execution_count": null,
   "metadata": {},
   "outputs": [],
   "source": [
    "class Registry:\n",
    "    \n",
    "    def __init__(self):\n",
    "        self._registry = {}\n",
    "\n",
    "    def register(self, cls):\n",
    "        \"\"\"This is to be used as a class decorator....\"\"\"\n",
    "        self._registry[cls.__name__] = cls\n",
    "        return cls\n",
    "\n",
    "    def __getitem__(self, name):\n",
    "        return self._registry[name]\n",
    "    \n",
    "r = Registry()"
   ]
  },
  {
   "cell_type": "code",
   "execution_count": null,
   "metadata": {},
   "outputs": [],
   "source": [
    "# \"Application\" code\n",
    "@r.register\n",
    "class Registered1:\n",
    "    pass\n",
    "\n",
    "#Registered1 = r.register(Registered1)\n",
    "\n",
    "@r.register\n",
    "class Registered2():\n",
    "    pass"
   ]
  },
  {
   "cell_type": "code",
   "execution_count": null,
   "metadata": {},
   "outputs": [],
   "source": [
    "r._registry"
   ]
  },
  {
   "cell_type": "code",
   "execution_count": null,
   "metadata": {},
   "outputs": [],
   "source": [
    "r['Registered1']"
   ]
  },
  {
   "cell_type": "code",
   "execution_count": null,
   "metadata": {},
   "outputs": [],
   "source": [
    "r['Registered2']"
   ]
  },
  {
   "cell_type": "markdown",
   "metadata": {},
   "source": [
    "Real-world example: [Flask-RESTPlus][rest+], [Flask-SMOREST][smorest]\n",
    "\n",
    "[rest+]: https://flask-restplus.readthedocs.io/en/stable/quickstart.html#a-minimal-api\n",
    "[smorest]: https://flask-smorest.readthedocs.io/en/latest/quickstart.html"
   ]
  },
  {
   "cell_type": "markdown",
   "metadata": {},
   "source": [
    "### ImportantField example"
   ]
  },
  {
   "cell_type": "code",
   "execution_count": null,
   "metadata": {},
   "outputs": [],
   "source": [
    "class ImportantField:\n",
    "    def __init__(self, value, name=None):\n",
    "        self.value = value\n",
    "        self.name = name\n",
    "        \n",
    "    def __repr__(self):\n",
    "        return f'<Important {self.name}: {self.value}>'\n",
    "        \n",
    "        \n",
    "def declarative(cls):\n",
    "    print('Running declarative() decorator')\n",
    "    _important = []\n",
    "    for name in dir(cls):\n",
    "        value = getattr(cls, name)\n",
    "        if isinstance(value, ImportantField):\n",
    "            if value.name is None:\n",
    "                value.name = name\n",
    "            _important.append(value)\n",
    "    cls._important = _important\n",
    "    return cls\n",
    "    \n",
    "@declarative\n",
    "class MyClass:\n",
    "    def __repr__(self):\n",
    "        return f\"<MyClass {' '.join(repr(i) for i in self._important)} >\"\n",
    "    \n",
    "    a = ImportantField(1)\n",
    "    b = ImportantField(2)\n",
    "    c = ImportantField(3, 'cfield')\n",
    "\n",
    "    "
   ]
  },
  {
   "cell_type": "code",
   "execution_count": null,
   "metadata": {},
   "outputs": [],
   "source": [
    "obj = MyClass()"
   ]
  },
  {
   "cell_type": "code",
   "execution_count": null,
   "metadata": {},
   "outputs": [],
   "source": [
    "obj"
   ]
  },
  {
   "cell_type": "code",
   "execution_count": null,
   "metadata": {},
   "outputs": [],
   "source": [
    "MyClass._important"
   ]
  },
  {
   "cell_type": "markdown",
   "metadata": {},
   "source": [
    "Class decorators are _not_ inherited:"
   ]
  },
  {
   "cell_type": "code",
   "execution_count": null,
   "metadata": {},
   "outputs": [],
   "source": [
    "class OtherClass(MyClass):\n",
    "    d = ImportantField(5)"
   ]
  },
  {
   "cell_type": "code",
   "execution_count": null,
   "metadata": {},
   "outputs": [],
   "source": [
    "OtherClass()"
   ]
  },
  {
   "cell_type": "markdown",
   "metadata": {},
   "source": [
    "Example from Barin: \n",
    "    \n",
    "```python\n",
    "@b.cmap(class_collection)\n",
    "class MyClass(library.MySuperClass):\n",
    "    a = SomeThing()\n",
    "    b = SomeThing()\n",
    "```"
   ]
  },
  {
   "cell_type": "markdown",
   "metadata": {},
   "source": [
    "Another real-world example: [DataClasses][dataclasses]\n",
    "\n",
    "[dataclasses]: https://docs.python.org/3/library/dataclasses.html"
   ]
  },
  {
   "cell_type": "markdown",
   "metadata": {},
   "source": [
    "## Metaclass semantics\n",
    "\n",
    "bar = Foo()\n",
    "\n",
    "- if Foo is a class, bar is an instance\n",
    "- if Foo is a metaclass, bar is a class\n",
    "\n",
    "- `type` is a metaclass\n",
    "- `object` is class\n",
    "- `'foo'` is an instance (of the class `str`, which has metaclass `type`)"
   ]
  },
  {
   "cell_type": "code",
   "execution_count": null,
   "metadata": {},
   "outputs": [],
   "source": [
    "type('foo')"
   ]
  },
  {
   "cell_type": "code",
   "execution_count": null,
   "metadata": {},
   "outputs": [],
   "source": [
    "type(str)"
   ]
  },
  {
   "cell_type": "code",
   "execution_count": null,
   "metadata": {},
   "outputs": [],
   "source": [
    "type(type)"
   ]
  },
  {
   "cell_type": "markdown",
   "metadata": {},
   "source": [
    "But how does this work?..."
   ]
  },
  {
   "cell_type": "code",
   "execution_count": null,
   "metadata": {},
   "outputs": [],
   "source": [
    "class Duck:\n",
    "    def __init__(self, name):\n",
    "        self._name = name\n",
    "        \n",
    "    @property\n",
    "    def name(self):\n",
    "        print(\"Calling name's getter\")\n",
    "        return self._name\n",
    "    \n",
    "    @name.setter\n",
    "    def name(self, value):\n",
    "        print(\"Calling name's setter\")\n",
    "        if value.lower() in ('ed', 'bugs', 'porky'):\n",
    "            raise ValueError('Inappropriate name')\n",
    "        self._name = value\n",
    "    #name = name.setter(name)"
   ]
  },
  {
   "cell_type": "code",
   "execution_count": null,
   "metadata": {},
   "outputs": [],
   "source": [
    "d = Duck('Donald')"
   ]
  },
  {
   "cell_type": "code",
   "execution_count": null,
   "metadata": {},
   "outputs": [],
   "source": [
    "d.name"
   ]
  },
  {
   "cell_type": "code",
   "execution_count": null,
   "metadata": {},
   "outputs": [],
   "source": [
    "d.name = 'Lewey'"
   ]
  },
  {
   "cell_type": "code",
   "execution_count": null,
   "metadata": {
    "scrolled": true
   },
   "outputs": [],
   "source": [
    "d.name = 'ed'"
   ]
  },
  {
   "cell_type": "markdown",
   "metadata": {},
   "source": [
    "# Descriptors\n",
    "\n",
    "... or \"ever wonder how `@property`, `@classmethod`, and `@staticmethod` work?\"\n",
    "\n",
    "**Descriptors** are object which contain one or more of the following magic methods, and which occur in a class body:\n",
    "\n",
    "- `__get__(self, inst, type)` - called when the descriptor attribute is looked up (e.g. `getattr()`)\n",
    "- `__set__(self, inst, value)` - called when the descriptor attribute is set (e.g. `setattr()`)\n",
    "- `__delete__(self, inst)` - called when the descriptor attribute is deleted (e.g. `delattr()` or `del inst.attr`)\n",
    "- `__set_name__(self, cls, name)` - called to notify the descriptor of its name within the class"
   ]
  },
  {
   "cell_type": "code",
   "execution_count": null,
   "metadata": {},
   "outputs": [],
   "source": [
    "class MyDesc:\n",
    "    \n",
    "    def __get__(self, inst, cls):\n",
    "        # default behavior is something like return inst.__dict__[my_own_name]\n",
    "        print(f'Calling __get__({self}, {inst}, {cls})')\n",
    "        if inst is None:\n",
    "            return self\n",
    "\n",
    "    def __set__(self, inst, value):\n",
    "        print(f'Calling __set__({self}, {inst}, {value})')\n",
    "\n",
    "    def __delete__(self, inst):\n",
    "        print(f'Calling __delete__({self}, {inst})')\n",
    "        \n",
    "    def __set_name__(self, cls, name):\n",
    "        print(f'Setting name of the descriptor {self} in class {cls} to {name}')"
   ]
  },
  {
   "cell_type": "code",
   "execution_count": null,
   "metadata": {},
   "outputs": [],
   "source": [
    "the_descriptor = MyDesc()\n",
    "\n",
    "class MyClass:\n",
    "    a = the_descriptor       # a.__set_name__ is called at class creation time\n",
    "    b = the_descriptor\n",
    "    c = the_descriptor\n",
    "    \n",
    "    def __repr__(self):\n",
    "        return '<Instance of MyClass>'"
   ]
  },
  {
   "cell_type": "markdown",
   "metadata": {},
   "source": [
    "```python\n",
    "# Psuedo-code for what's happening at class creation time\n",
    "for key, value in dct.items():\n",
    "    if hasattr(value, '__set_name__'):\n",
    "        value.__set_name__(key)\n",
    "```"
   ]
  },
  {
   "cell_type": "code",
   "execution_count": null,
   "metadata": {},
   "outputs": [],
   "source": [
    "myobj = MyClass()"
   ]
  },
  {
   "cell_type": "code",
   "execution_count": null,
   "metadata": {},
   "outputs": [],
   "source": [
    "MyClass.a   # invokes a.__get__(None, MyClass)"
   ]
  },
  {
   "cell_type": "code",
   "execution_count": null,
   "metadata": {},
   "outputs": [],
   "source": [
    "myobj.a     # invoke a.__get__(myobj, MyClass)"
   ]
  },
  {
   "cell_type": "code",
   "execution_count": null,
   "metadata": {},
   "outputs": [],
   "source": [
    "# MyClass.a = 5  # Overwrites the descriptor, so don't do this"
   ]
  },
  {
   "cell_type": "code",
   "execution_count": null,
   "metadata": {},
   "outputs": [],
   "source": [
    "myobj.a = 20   # invokes a.__set__(myobj, 20)"
   ]
  },
  {
   "cell_type": "code",
   "execution_count": null,
   "metadata": {},
   "outputs": [],
   "source": [
    "del myobj.a    # invokes a.__delete__(myobj)"
   ]
  },
  {
   "cell_type": "markdown",
   "metadata": {},
   "source": [
    "### Descriptor \"trick\": shared data"
   ]
  },
  {
   "cell_type": "code",
   "execution_count": null,
   "metadata": {},
   "outputs": [],
   "source": [
    "class SharedValue:\n",
    "    \n",
    "    def __init__(self, value):\n",
    "        self._value = value\n",
    "        \n",
    "    def __get__(self, obj, typ):\n",
    "        if obj is None:\n",
    "            return self\n",
    "        return self._value\n",
    "    \n",
    "    def __set__(self, obj, value):\n",
    "        self._value = value\n",
    "        \n",
    "        \n",
    "class NonsharedValue:\n",
    "    def __init__(self, value):\n",
    "        self._default_value = value\n",
    "        self._values = {}\n",
    "        \n",
    "    def __get__(self, obj, typ):\n",
    "        if obj is None:\n",
    "            return self\n",
    "        return self._values.get(id(obj), self._default_value)\n",
    "    \n",
    "    def __set__(self, obj, value):\n",
    "        self._values[id(obj)] = value"
   ]
  },
  {
   "cell_type": "code",
   "execution_count": null,
   "metadata": {},
   "outputs": [],
   "source": [
    "class Shared:\n",
    "    a = SharedValue(123)\n",
    "    b = SharedValue(456)\n",
    "    c = NonsharedValue(789)\n",
    "    \n",
    "    def __repr__(self):\n",
    "        return f'<Shared a={self.a} b={self.b} c={self.c}>'"
   ]
  },
  {
   "cell_type": "code",
   "execution_count": null,
   "metadata": {},
   "outputs": [],
   "source": [
    "s0 = Shared()\n",
    "s1 = Shared()\n",
    "print(s0, s1)"
   ]
  },
  {
   "cell_type": "code",
   "execution_count": null,
   "metadata": {},
   "outputs": [],
   "source": [
    "s0.a = 'New avalue'  # ==> Shared.__set__(self, s0, 'New avalue')\n",
    "s0.c = 'New cvalue'  # ==> NonShared.__set__(self, s0, 'New cvalue')\n",
    "print(s0, s1)"
   ]
  },
  {
   "cell_type": "markdown",
   "metadata": {},
   "source": [
    "Let's re-implement `@property`:"
   ]
  },
  {
   "cell_type": "code",
   "execution_count": null,
   "metadata": {},
   "outputs": [],
   "source": [
    "class myproperty:\n",
    "\n",
    "    def __init__(self, getter, setter=None, deleter=None):\n",
    "        self._getter = getter\n",
    "        self._setter = setter\n",
    "        self._deleter = deleter\n",
    "        \n",
    "    def __get__(self, inst, cls):\n",
    "        print('Calling __get__')\n",
    "        if inst is None:\n",
    "            return self\n",
    "        return self._getter(inst)\n",
    "    \n",
    "    def __set__(self, inst, value):\n",
    "        print('Calling __set__')\n",
    "        if self._setter is None:\n",
    "            raise TypeError('value is read-only')\n",
    "        self._setter(inst, value)\n",
    "        \n",
    "    def __delete__(self, inst):\n",
    "        print('Calling __delete__')\n",
    "        if self._deleter is None:\n",
    "            raise TypeError('value is undeleteable')\n",
    "        self._deleter(inst)\n",
    "        \n",
    "    def setter(self, setter):\n",
    "        \"\"\"Decorator to add a setter\"\"\"\n",
    "        self._setter = setter\n",
    "        return self\n",
    "    \n",
    "    def deleter(self, deleter):\n",
    "        \"\"\"Decorator to add a deleter\"\"\"\n",
    "        self._deleter = deleter\n",
    "        return self"
   ]
  },
  {
   "cell_type": "code",
   "execution_count": null,
   "metadata": {},
   "outputs": [],
   "source": [
    "class Foo:   # Foo()    Foo(object)\n",
    "    \n",
    "    @myproperty\n",
    "    def bar(self):\n",
    "        print('Calling getter for bar')\n",
    "        return 'barval'\n",
    "    #bar = myproperty(bar)\n",
    "    \n",
    "    @bar.setter\n",
    "    def bar(self, value):\n",
    "        print('Calling setter for bar')\n",
    "    # bar is an instance of myproperty on this line\n",
    "        \n",
    "#     _tmp0 = bar.setter\n",
    "#     def bar(self, value):\n",
    "#         print('Calling the setter for bar')\n",
    "#     bar = _tmp0(bar)\n",
    "        \n",
    "    @bar.deleter\n",
    "    def bar(self):  # del foo.bar\n",
    "        print('Calling deleter for bar')\n",
    "        \n",
    "foo = Foo()"
   ]
  },
  {
   "cell_type": "code",
   "execution_count": null,
   "metadata": {},
   "outputs": [],
   "source": [
    "Foo.__dict__['bar']"
   ]
  },
  {
   "cell_type": "code",
   "execution_count": null,
   "metadata": {},
   "outputs": [],
   "source": [
    "Foo.bar"
   ]
  },
  {
   "cell_type": "code",
   "execution_count": null,
   "metadata": {},
   "outputs": [],
   "source": [
    "foo.bar"
   ]
  },
  {
   "cell_type": "code",
   "execution_count": null,
   "metadata": {},
   "outputs": [],
   "source": [
    "foo.bar = 10"
   ]
  },
  {
   "cell_type": "code",
   "execution_count": null,
   "metadata": {},
   "outputs": [],
   "source": [
    "foo.bar"
   ]
  },
  {
   "cell_type": "code",
   "execution_count": null,
   "metadata": {},
   "outputs": [],
   "source": [
    "del foo.bar"
   ]
  },
  {
   "cell_type": "code",
   "execution_count": null,
   "metadata": {},
   "outputs": [],
   "source": [
    "Foo.bar"
   ]
  },
  {
   "cell_type": "code",
   "execution_count": null,
   "metadata": {},
   "outputs": [],
   "source": [
    "property??"
   ]
  },
  {
   "cell_type": "markdown",
   "metadata": {},
   "source": [
    "## Descriptor types\n",
    "\n",
    "- A **data descriptor** is a descriptor that defines both `__get__` and `__set__`\n",
    "- A **non-data descriptor** is a descriptor that defines only `__get__`\n",
    "\n",
    "> Data and non-data descriptors differ in how overrides are calculated with respect to entries in an instance’s dictionary. If an instance’s dictionary has an entry with the same name as a data descriptor, the data descriptor takes precedence. If an instance’s dictionary has an entry with the same name as a non-data descriptor, the dictionary entry takes precedence.\n",
    "\n",
    "So order of precedence in attribute access is:\n",
    "\n",
    "- data descriptor\n",
    "- instance `__dict__`\n",
    "- non-data descriptor"
   ]
  },
  {
   "cell_type": "code",
   "execution_count": null,
   "metadata": {},
   "outputs": [],
   "source": [
    "class Foo(): \n",
    "    pass\n",
    "\n",
    "foo = Foo()\n",
    "foo.a = 5"
   ]
  },
  {
   "cell_type": "code",
   "execution_count": null,
   "metadata": {},
   "outputs": [],
   "source": [
    "foo.__dict__"
   ]
  },
  {
   "cell_type": "code",
   "execution_count": null,
   "metadata": {},
   "outputs": [],
   "source": [
    "class DataDescriptor():\n",
    "    \n",
    "    def __get__(self, obj, typ):\n",
    "        if obj is None:\n",
    "            return self\n",
    "        return 'data descriptor value'\n",
    "    \n",
    "    def __set__(self, obj, value):\n",
    "        # Just make it a read-only data descriptor\n",
    "        raise TypeError('read-only property')"
   ]
  },
  {
   "cell_type": "code",
   "execution_count": null,
   "metadata": {},
   "outputs": [],
   "source": [
    "class NonDataDescriptor():\n",
    "    \n",
    "    def __get__(self, obj, typ):\n",
    "        if obj is None:\n",
    "            return self\n",
    "        return 'non-data descriptor value'\n",
    "        "
   ]
  },
  {
   "cell_type": "code",
   "execution_count": null,
   "metadata": {},
   "outputs": [],
   "source": [
    "class MyClass():\n",
    "    data = DataDescriptor()\n",
    "    nondata = NonDataDescriptor()"
   ]
  },
  {
   "cell_type": "code",
   "execution_count": null,
   "metadata": {},
   "outputs": [],
   "source": [
    "obj = MyClass()\n",
    "obj.__dict__.update(\n",
    "    data='instance data',\n",
    "    nondata='instance nondata'\n",
    ")"
   ]
  },
  {
   "cell_type": "markdown",
   "metadata": {},
   "source": [
    "Data descriptors have precedence over instance data:"
   ]
  },
  {
   "cell_type": "code",
   "execution_count": null,
   "metadata": {},
   "outputs": [],
   "source": [
    "obj.data"
   ]
  },
  {
   "cell_type": "markdown",
   "metadata": {},
   "source": [
    "Instance data has precendence over non-data descriptors:"
   ]
  },
  {
   "cell_type": "code",
   "execution_count": null,
   "metadata": {},
   "outputs": [],
   "source": [
    "obj.nondata"
   ]
  },
  {
   "cell_type": "code",
   "execution_count": null,
   "metadata": {},
   "outputs": [],
   "source": [
    "obj.nondata = 'something else'"
   ]
  },
  {
   "cell_type": "code",
   "execution_count": null,
   "metadata": {},
   "outputs": [],
   "source": [
    "obj.nondata"
   ]
  },
  {
   "cell_type": "markdown",
   "metadata": {},
   "source": [
    "If we delete it from the instance dict, however, it _will_ invoke the non-data descriptor's `__get__` method"
   ]
  },
  {
   "cell_type": "code",
   "execution_count": null,
   "metadata": {},
   "outputs": [],
   "source": [
    "del obj.nondata"
   ]
  },
  {
   "cell_type": "code",
   "execution_count": null,
   "metadata": {},
   "outputs": [],
   "source": [
    "obj.nondata"
   ]
  },
  {
   "cell_type": "markdown",
   "metadata": {},
   "source": [
    "## Descriptor use case: cached property"
   ]
  },
  {
   "cell_type": "code",
   "execution_count": null,
   "metadata": {},
   "outputs": [],
   "source": [
    "class cached_property:  # \"reify\" is another name for this\n",
    "    \n",
    "    def __init__(self, getter):\n",
    "        self._getter = getter\n",
    "        self._name = None\n",
    "        \n",
    "    def __set_name__(self, cls, name):\n",
    "        self._name = name\n",
    "    \n",
    "    def __get__(self, inst, cls):\n",
    "        if inst is None:\n",
    "            return self\n",
    "        value = self._getter(inst)\n",
    "        setattr(inst, self._name, value) # put the value in the instance __dict__\n",
    "        # alternatively, inst.__dict__[name] = value\n",
    "        return value\n",
    "    \n",
    "#     def __set__(self, obj, value):\n",
    "#         obj.__dict__[self._name] = value"
   ]
  },
  {
   "cell_type": "code",
   "execution_count": null,
   "metadata": {},
   "outputs": [],
   "source": [
    "class CachedExample:\n",
    "    \n",
    "    @cached_property\n",
    "    def prop(self):\n",
    "        print('Calculating CachedExample.prop')\n",
    "        return 42\n"
   ]
  },
  {
   "cell_type": "code",
   "execution_count": null,
   "metadata": {},
   "outputs": [],
   "source": [
    "ce = CachedExample()"
   ]
  },
  {
   "cell_type": "code",
   "execution_count": null,
   "metadata": {},
   "outputs": [],
   "source": [
    "ce.prop # adds prop to ce.__dict__"
   ]
  },
  {
   "cell_type": "code",
   "execution_count": null,
   "metadata": {},
   "outputs": [],
   "source": [
    "ce.prop  # Since prop is non-data descriptor, it is not even accessed here"
   ]
  },
  {
   "cell_type": "code",
   "execution_count": null,
   "metadata": {},
   "outputs": [],
   "source": [
    "import sys\n",
    "sys.version_info"
   ]
  },
  {
   "cell_type": "markdown",
   "metadata": {},
   "source": [
    "In \"real life\", this is implemented in `functools.cached_property` (in Python 3.8+)\n",
    "\n",
    "```python\n",
    "import functools\n",
    "help(functools.cached_property)\n",
    "```"
   ]
  },
  {
   "cell_type": "code",
   "execution_count": null,
   "metadata": {},
   "outputs": [],
   "source": [
    "import functools\n",
    "help(functools.cached_property)"
   ]
  },
  {
   "cell_type": "code",
   "execution_count": null,
   "metadata": {},
   "outputs": [],
   "source": [
    "functools.cached_property??"
   ]
  },
  {
   "cell_type": "markdown",
   "metadata": {},
   "source": [
    "Open [Advanced OOP Lab](./advanced-oop-lab.ipynb)"
   ]
  },
  {
   "cell_type": "code",
   "execution_count": null,
   "metadata": {},
   "outputs": [],
   "source": [
    "class SchemaMeta(type):\n",
    "    def __new__(meta, name, bases, dct):\n",
    "        return super().__new__(meta, name, bases, dct)\n",
    "    \n",
    "class Schema(metaclass=SchemaMeta):\n",
    "    pass"
   ]
  },
  {
   "cell_type": "code",
   "execution_count": null,
   "metadata": {},
   "outputs": [],
   "source": [
    "def foo(x: SchemaMeta) -> None:\n",
    "    pass"
   ]
  },
  {
   "cell_type": "code",
   "execution_count": null,
   "metadata": {},
   "outputs": [],
   "source": [
    "foo(Cls)"
   ]
  },
  {
   "cell_type": "code",
   "execution_count": null,
   "metadata": {},
   "outputs": [],
   "source": [
    "import typing"
   ]
  },
  {
   "cell_type": "code",
   "execution_count": null,
   "metadata": {},
   "outputs": [],
   "source": []
  }
 ],
 "metadata": {
  "kernelspec": {
   "display_name": "deep_discovery",
   "language": "python",
   "name": "python3"
  },
  "language_info": {
   "codemirror_mode": {
    "name": "ipython",
    "version": 3
   },
   "file_extension": ".py",
   "mimetype": "text/x-python",
   "name": "python",
   "nbconvert_exporter": "python",
   "pygments_lexer": "ipython3",
   "version": "3.8.10 | packaged by conda-forge | (default, May 11 2021, 06:39:48) \n[Clang 11.1.0 ]"
  },
  "vscode": {
   "interpreter": {
    "hash": "f5843dadf34720d1d49bd40b40c179895302ad51d2a706663a7036f5f983c84b"
   }
  }
 },
 "nbformat": 4,
 "nbformat_minor": 1
}
