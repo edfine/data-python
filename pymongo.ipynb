{
    "cells": [
        {
            "cell_type": "markdown",
            "metadata": {},
            "source": [
                "# MongoDB and Python\n",
                "\n",
                "MongoDB is a 'NoSQL database' with support for high-performance document-oriented storage and queries, sharding, and replication.\n",
                "\n",
                "Terminology:\n",
                "\n",
                "- A **document** is a single JSON-like object stored in MongoDB\n",
                "- A **collection** is a respository of documents which may have one or more indexes on them\n",
                "- A **database** is a group of collections and indexes \n"
            ]
        },
        {
            "cell_type": "markdown",
            "metadata": {},
            "source": [
                "To get started, we'll install the `pymongo` driver and the `dnspython` modules to allow us to use the \"mongodb+srv://\" URLs to connect to MongoDB:"
            ]
        },
        {
            "cell_type": "code",
            "execution_count": null,
            "metadata": {},
            "outputs": [],
            "source": [
                "!pip install -U pymongo dnspython"
            ]
        },
        {
            "cell_type": "markdown",
            "metadata": {},
            "source": [
                "## Connecting and accessing databases and collections"
            ]
        },
        {
            "cell_type": "code",
            "execution_count": null,
            "metadata": {},
            "outputs": [],
            "source": [
                "import pymongo\n",
                "username = 'class'\n",
                "password = 'classword'\n",
                "host = 'training.i7auh.mongodb.net'\n",
                "dbname = 'training'\n",
                "cli = pymongo.MongoClient(\n",
                "    f'mongodb+srv://{username}:{password}@{host}'#'/{dbname}'\n",
                ")\n",
                "#cli = pymongo.MongoClient('mongodb://localhost:27017/class')"
            ]
        },
        {
            "cell_type": "code",
            "execution_count": null,
            "metadata": {},
            "outputs": [],
            "source": [
                "cli"
            ]
        },
        {
            "cell_type": "code",
            "execution_count": null,
            "metadata": {},
            "outputs": [],
            "source": [
                "db = cli['training']\n",
                "db"
            ]
        },
        {
            "cell_type": "code",
            "execution_count": null,
            "metadata": {},
            "outputs": [],
            "source": [
                "cli.training"
            ]
        },
        {
            "cell_type": "code",
            "execution_count": null,
            "metadata": {},
            "outputs": [],
            "source": [
                "for cname in db.list_collection_names():\n",
                "    print(cname)\n",
                "    db[cname].drop()"
            ]
        },
        {
            "cell_type": "markdown",
            "metadata": {},
            "source": [
                "## Inserting data\n",
                "\n",
                "https://pymongo.readthedocs.io/en/stable/api/pymongo/collection.html"
            ]
        },
        {
            "cell_type": "code",
            "execution_count": null,
            "metadata": {},
            "outputs": [],
            "source": [
                "res = db.roster.insert_one({\n",
                "    'name': 'Rick Copeland',\n",
                "    'email': 'edward.fine@afinepoint.net',\n",
                "    'role': 'Instructor',\n",
                "})\n",
                "res"
            ]
        },
        {
            "cell_type": "code",
            "execution_count": null,
            "metadata": {},
            "outputs": [],
            "source": [
                "res.inserted_id"
            ]
        },
        {
            "cell_type": "code",
            "execution_count": null,
            "metadata": {},
            "outputs": [],
            "source": [
                "res.inserted_id.generation_time"
            ]
        },
        {
            "cell_type": "markdown",
            "metadata": {},
            "source": [
                "## Querying data\n",
                "\n",
                "[Additional documentation: query operators](https://docs.mongodb.com/manual/reference/operator/query/)\n",
                "\n",
                "[Additional documentation: find](http://api.mongodb.com/python/current/api/pymongo/collection.html#pymongo.collection.Collection.find)\n",
                "\n",
                "[Additional documentation: find_one](http://api.mongodb.com/python/current/api/pymongo/collection.html#pymongo.collection.Collection.find_one)"
            ]
        },
        {
            "cell_type": "code",
            "execution_count": null,
            "metadata": {},
            "outputs": [],
            "source": [
                "cursor = db.roster.find({'name': 'Rick Copeland'})  # {'name': {'$eq': 'Rick Copeland'}}\n",
                "cursor"
            ]
        },
        {
            "cell_type": "code",
            "execution_count": null,
            "metadata": {},
            "outputs": [],
            "source": [
                "list(cursor)"
            ]
        },
        {
            "cell_type": "code",
            "execution_count": null,
            "metadata": {},
            "outputs": [],
            "source": [
                "for doc in db.roster.find({'name': {'$eq': 'Rick Copeland'}}):\n",
                "    print(doc)"
            ]
        },
        {
            "cell_type": "code",
            "execution_count": null,
            "metadata": {},
            "outputs": [],
            "source": [
                "for item in db.roster.find({'name': {'$gte': 'Rick Copeland'}}):\n",
                "    print(item)"
            ]
        },
        {
            "cell_type": "code",
            "execution_count": null,
            "metadata": {},
            "outputs": [],
            "source": [
                "for item in db.roster.find({'roles.name': 'instructor'}):\n",
                "    print(item)"
            ]
        },
        {
            "cell_type": "code",
            "execution_count": null,
            "metadata": {},
            "outputs": [],
            "source": [
                "doc = db.roster.find_one({'_id': item['_id']})\n",
                "doc"
            ]
        },
        {
            "cell_type": "code",
            "execution_count": null,
            "metadata": {},
            "outputs": [],
            "source": [
                "import re\n",
                "db.roster.find_one({'role': re.compile(b'^Ins')})  # SQL equivalent: LIKE 'Ins%'"
            ]
        },
        {
            "cell_type": "code",
            "execution_count": null,
            "metadata": {},
            "outputs": [],
            "source": [
                "import re\n",
                "db.roster.find_one({'role': {'$regex': '^Ins'}})  # SQL equivalent: LIKE 'Ins%'"
            ]
        },
        {
            "cell_type": "code",
            "execution_count": null,
            "metadata": {},
            "outputs": [],
            "source": [
                "db.roster.index_information().keys()"
            ]
        },
        {
            "cell_type": "code",
            "execution_count": null,
            "metadata": {
                "scrolled": true
            },
            "outputs": [],
            "source": [
                "db.roster.create_index([\n",
                "    ('role', 1),\n",
                "])\n",
                "db.roster.find({'role': re.compile(b'^Ins')}, {'_id': 0, 'role': 1}).explain()"
            ]
        },
        {
            "cell_type": "markdown",
            "metadata": {},
            "source": [
                "## Updating data\n",
                "\n",
                "[Additonal documentation: update operators](https://docs.mongodb.com/manual/reference/operator/update/)\n",
                "\n",
                "[Additional documentation: replace](http://api.mongodb.com/python/current/api/pymongo/collection.html#pymongo.collection.Collection.replace_one)\n",
                "\n",
                "[Additional documentation: update](http://api.mongodb.com/python/current/api/pymongo/collection.html#pymongo.collection.Collection.update_one)"
            ]
        },
        {
            "cell_type": "code",
            "execution_count": null,
            "metadata": {},
            "outputs": [],
            "source": [
                "oid = doc['_id']"
            ]
        },
        {
            "cell_type": "code",
            "execution_count": null,
            "metadata": {},
            "outputs": [],
            "source": [
                "doc['email'] = 'rick446@arborian.com'\n",
                "db.roster.replace_one(\n",
                "    {'_id': oid},\n",
                "    doc\n",
                ")"
            ]
        },
        {
            "cell_type": "code",
            "execution_count": null,
            "metadata": {},
            "outputs": [],
            "source": [
                "doc = db.roster.find_one(dict(_id=oid))\n",
                "doc"
            ]
        },
        {
            "cell_type": "code",
            "execution_count": null,
            "metadata": {},
            "outputs": [],
            "source": [
                "db.roster.update_one(\n",
                "    {'_id': oid},\n",
                "    {'$set': {'email': 'edward.fine@afinepoint.net'}}\n",
                ")"
            ]
        },
        {
            "cell_type": "code",
            "execution_count": null,
            "metadata": {},
            "outputs": [],
            "source": [
                "doc = db.roster.find_one({'_id': oid})\n",
                "doc"
            ]
        },
        {
            "cell_type": "markdown",
            "metadata": {},
            "source": [
                "## Atomic find/modify"
            ]
        },
        {
            "cell_type": "code",
            "execution_count": null,
            "metadata": {},
            "outputs": [],
            "source": [
                "coll = db.roster\n",
                "doc = coll.find_one_and_update(\n",
                "    {'name': 'Rick Copeland'},\n",
                "    {'$inc': {'classes': 1}},\n",
                "    return_document=pymongo.ReturnDocument.AFTER,\n",
                "    upsert=True,\n",
                ")\n",
                "doc"
            ]
        },
        {
            "cell_type": "code",
            "execution_count": null,
            "metadata": {},
            "outputs": [],
            "source": [
                "coll = db.roster\n",
                "doc = coll.find_one_and_update(\n",
                "    {'name': 'Ricardo Copeland'},\n",
                "    {'$inc': {'classes': 1}},\n",
                "    return_document=pymongo.ReturnDocument.AFTER,\n",
                "    upsert=True,\n",
                ")\n",
                "doc"
            ]
        },
        {
            "cell_type": "code",
            "execution_count": null,
            "metadata": {},
            "outputs": [],
            "source": [
                "list(db.roster.find())"
            ]
        },
        {
            "cell_type": "markdown",
            "metadata": {},
            "source": [
                "Psuedocode for locking using MongoDB\n",
                "\n",
                "```python\n",
                "\n",
                "{\n",
                "    waiters: [\n",
                "        ...\n",
                "    ]\n",
                "}\n",
                "\n",
                "lock = db.lock.find_one_and_update(\n",
                "    {_id: 'mylock'},\n",
                "    {'$push': {'waiters': my_unique_id}}\n",
                "    return_document=pymongo.ReturnDocument.AFTER\n",
                ")\n",
                "\n",
                "if lock.waiters[0] == my_id:\n",
                "    I got it!\n",
                "```"
            ]
        },
        {
            "cell_type": "markdown",
            "metadata": {},
            "source": [
                "## Delete"
            ]
        },
        {
            "cell_type": "code",
            "execution_count": null,
            "metadata": {},
            "outputs": [],
            "source": [
                "import re\n",
                "\n",
                "res = coll.delete_one({'name': re.compile(r'^Ri')})\n",
                "res"
            ]
        },
        {
            "cell_type": "code",
            "execution_count": null,
            "metadata": {},
            "outputs": [],
            "source": [
                "list(coll.find())"
            ]
        },
        {
            "cell_type": "code",
            "execution_count": null,
            "metadata": {},
            "outputs": [],
            "source": [
                "second_res = coll.delete_many({'name': re.compile(r'^Ri')})"
            ]
        },
        {
            "cell_type": "code",
            "execution_count": null,
            "metadata": {},
            "outputs": [],
            "source": [
                "res.deleted_count"
            ]
        },
        {
            "cell_type": "code",
            "execution_count": null,
            "metadata": {},
            "outputs": [],
            "source": [
                "second_res.deleted_count"
            ]
        },
        {
            "cell_type": "code",
            "execution_count": null,
            "metadata": {},
            "outputs": [],
            "source": [
                "list(coll.find())"
            ]
        },
        {
            "cell_type": "markdown",
            "metadata": {},
            "source": [
                "Using pandas with PyMongo?"
            ]
        },
        {
            "cell_type": "code",
            "execution_count": null,
            "metadata": {},
            "outputs": [],
            "source": [
                "import pandas as pd\n",
                "stock = pd.read_csv('data/closing-prices.csv', parse_dates=[0])\n",
                "stock.head()"
            ]
        },
        {
            "cell_type": "code",
            "execution_count": null,
            "metadata": {},
            "outputs": [],
            "source": [
                "records = stock.to_dict(orient='records')"
            ]
        },
        {
            "cell_type": "code",
            "execution_count": null,
            "metadata": {},
            "outputs": [],
            "source": [
                "records[0]"
            ]
        },
        {
            "cell_type": "code",
            "execution_count": null,
            "metadata": {},
            "outputs": [],
            "source": [
                "res = db.stock.insert_many(records)\n",
                "res"
            ]
        },
        {
            "cell_type": "code",
            "execution_count": null,
            "metadata": {},
            "outputs": [],
            "source": [
                "len(res.inserted_ids)"
            ]
        },
        {
            "cell_type": "code",
            "execution_count": null,
            "metadata": {},
            "outputs": [],
            "source": [
                "db.stock.find_one()"
            ]
        },
        {
            "cell_type": "code",
            "execution_count": null,
            "metadata": {},
            "outputs": [],
            "source": [
                "from datetime import datetime\n",
                "db.stock.find_one({'Unnamed: 0': datetime(2014,1,2)})"
            ]
        },
        {
            "cell_type": "markdown",
            "metadata": {},
            "source": [
                "Open [PyMongo Lab](./pymongo-lab.ipynb)"
            ]
        }
    ],
    "metadata": {
        "kernelspec": {
            "display_name": "deep_discovery",
            "language": "python",
            "name": "python3"
        },
        "language_info": {
            "codemirror_mode": {
                "name": "ipython",
                "version": 3
            },
            "file_extension": ".py",
            "mimetype": "text/x-python",
            "name": "python",
            "nbconvert_exporter": "python",
            "pygments_lexer": "ipython3",
            "version": "3.8.10 | packaged by conda-forge | (default, May 11 2021, 06:39:48) \n[Clang 11.1.0 ]"
        },
        "vscode": {
            "interpreter": {
                "hash": "f5843dadf34720d1d49bd40b40c179895302ad51d2a706663a7036f5f983c84b"
            }
        }
    },
    "nbformat": 4,
    "nbformat_minor": 2
}
