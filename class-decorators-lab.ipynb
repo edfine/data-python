{
 "cells": [
  {
   "cell_type": "markdown",
   "metadata": {},
   "source": [
    "# Lab: Class Decorators\n",
    "\n",
    "Write a class decorator that allows us to use `class` syntax to create a `dict`, e.g.\n",
    "\n",
    "```python\n",
    "@dictify\n",
    "class MyDict:\n",
    "    a = 1\n",
    "    b = 2\n",
    "```\n",
    "\n",
    "creates the dict `MyDict = {'a': 1, 'b': 2}`\n",
    "\n",
    "Hint: Class decorators are not *required* to return classes!\n",
    "\n",
    "(but in real, non-lab code, they probably should...)"
   ]
  },
  {
   "cell_type": "code",
   "execution_count": null,
   "metadata": {},
   "outputs": [],
   "source": [
    "def dictify(cls):\n",
    "    ..."
   ]
  },
  {
   "cell_type": "code",
   "execution_count": null,
   "metadata": {},
   "outputs": [],
   "source": [
    "@dictify\n",
    "class MyDict:\n",
    "    a = 1\n",
    "    b = 2"
   ]
  },
  {
   "cell_type": "code",
   "execution_count": null,
   "metadata": {},
   "outputs": [],
   "source": [
    "MyDict"
   ]
  },
  {
   "cell_type": "code",
   "execution_count": null,
   "metadata": {},
   "outputs": [],
   "source": []
  }
 ],
 "metadata": {
  "kernelspec": {
   "display_name": "Python 3",
   "language": "python",
   "name": "python3"
  },
  "language_info": {
   "codemirror_mode": {
    "name": "ipython",
    "version": 3
   },
   "file_extension": ".py",
   "mimetype": "text/x-python",
   "name": "python",
   "nbconvert_exporter": "python",
   "pygments_lexer": "ipython3",
   "version": "3.8.5"
  }
 },
 "nbformat": 4,
 "nbformat_minor": 2
}
